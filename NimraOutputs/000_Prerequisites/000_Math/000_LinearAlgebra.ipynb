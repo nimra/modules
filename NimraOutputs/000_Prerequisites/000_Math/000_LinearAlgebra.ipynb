{
 "cells": [
  {
   "cell_type": "markdown",
   "metadata": {},
   "source": [
    "# Linear Algebra\n",
    "\n",
    "Linear algebra is the branch of mathematics that deals with _vector spaces_. Although I can’t hope to teach you linear algebra in a brief chapter, it underpins a large number of data science concepts and techniques, which means I owe it to you to at least try. What we learn in this chapter we’ll use heavily throughout the rest of the book.\n",
    "\n",
    "# Vectors\n",
    "\n",
    "Abstractly, _vectors_ are objects that can be added together (to form new vectors) and that can be multiplied by _scalars_ (i.e., numbers), also to form new vectors.\n",
    "\n",
    "Concretely (for us), vectors are points in some finite-dimensional space. Although you might not think of your data as vectors, they are a good way to represent numeric data.\n",
    "\n",
    "For example, if you have the heights, weights, and ages of a large number of people, you can treat your data as three-dimensional vectors `(height, weight, age)`. If you’re teaching a class with four exams, you can treat student grades as four-dimensional vectors `(exam1, exam2, exam3, exam4)`.\n",
    "\n",
    "The simplest from-scratch approach is to represent vectors as lists of numbers. A list of three numbers corresponds to a vector in three-dimensional space, and vice versa:"
   ]
  },
  {
   "cell_type": "code",
   "execution_count": null,
   "metadata": {},
   "outputs": [],
   "source": [
    "height_weight_age = [\n",
    "    70,  # inches,\n",
    "    170, # pounds,\n",
    "    40,  # years\n",
    "]\n",
    "grades = [\n",
    "    95, # exam1\n",
    "    80, # exam2\n",
    "    75, # exam3\n",
    "    62, # exam4\n",
    "]\n",
    "print( height_weight_age )\n",
    "print( grades )"
   ]
  },
  {
   "cell_type": "markdown",
   "metadata": {},
   "source": [
    "One problem with this approach is that we will want to perform _arithmetic_ on vectors. Because Python lists aren’t vectors (and hence provide no facilities for vector arithmetic), we’ll need to build these arithmetic tools ourselves. So let’s start with that.\n",
    "\n",
    "To begin with, we’ll frequently need to add two vectors. Vectors add _componentwise_. This means that if two vectors v and w are the same length, their sum is just the vector whose first element is `v[0] + w[0]`, whose second element is `v[1] + w[1]`, and so on. (If they’re not the same length, then we’re not allowed to add them.)\n",
    "\n",
    "For example, adding the vectors `[1, 2]` and `[2, 1]` results in `[1 + 2, 2 + 1]` or `[3, 3]`, as shown in Figure 4-1."
   ]
  },
  {
   "cell_type": "markdown",
   "metadata": {},
   "source": [
    "> **Figure 4-1: _Adding two vectors_**<br><img width=\"300\" src=\"data:image/png;base64, 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\" />"
   ]
  },
  {
   "cell_type": "markdown",
   "metadata": {},
   "source": [
    "We can easily implement this by zip-ing the vectors together and using a list comprehension to add the corresponding elements:"
   ]
  },
  {
   "cell_type": "code",
   "execution_count": null,
   "metadata": {},
   "outputs": [],
   "source": [
    "def vector_add(v, w):\n",
    "    \"\"\"adds corresponding elements\"\"\"\n",
    "    return [ v_i + w_i for v_i, w_i in zip(v, w) ]\n",
    "vector_add([1, 2, 3], [4, 5, 6])"
   ]
  },
  {
   "cell_type": "markdown",
   "metadata": {},
   "source": [
    "Similarly, to subtract two vectors we just subtract corresponding elements:"
   ]
  },
  {
   "cell_type": "code",
   "execution_count": null,
   "metadata": {},
   "outputs": [],
   "source": [
    "def vector_subtract(v, w):\n",
    "    \"\"\"subtracts corresponding elements\"\"\"\n",
    "    return [ v_i - w_i for v_i, w_i in zip(v, w) ]\n",
    "vector_subtract([1, 2, 3], [4, 5, 6])"
   ]
  },
  {
   "cell_type": "markdown",
   "metadata": {},
   "source": [
    "We’ll also sometimes want to componentwise sum a list of vectors. That is, create a new vector whose first element is the sum of all the first elements, whose second element is the sum of all the second elements, and so on. The easiest way to do this is by adding one vector at a time:"
   ]
  },
  {
   "cell_type": "code",
   "execution_count": null,
   "metadata": {},
   "outputs": [],
   "source": [
    "def vector_sum(vectors):\n",
    "    \"\"\"sums all corresponding elements\"\"\"\n",
    "    result = vectors[0]                          # start with the first vector\n",
    "    for vector in vectors[1:]:                   # then loop over the others\n",
    "        result = vector_add(result, vector)      # and add them to the result\n",
    "    return result\n",
    "vector_sum([[0, 1, 2], [1, 2, 3], [2, 3, 4], [3, 4, 5]])"
   ]
  },
  {
   "cell_type": "markdown",
   "metadata": {},
   "source": [
    "If you think about it, we are just `reduce`-ing the list of vectors using `vector_add`, which means we can rewrite this more briefly using higher-order functions:"
   ]
  },
  {
   "cell_type": "code",
   "execution_count": null,
   "metadata": {},
   "outputs": [],
   "source": [
    "from functools import reduce\n",
    "def vector_sum(vectors):\n",
    "    return reduce(vector_add, vectors)\n",
    "vector_sum([[0, 1, 2], [1, 2, 3], [2, 3, 4], [3, 4, 5]])"
   ]
  },
  {
   "cell_type": "markdown",
   "metadata": {},
   "source": [
    "or even:"
   ]
  },
  {
   "cell_type": "code",
   "execution_count": null,
   "metadata": {},
   "outputs": [],
   "source": [
    "from functools import partial\n",
    "vector_sum = partial(reduce, vector_add)\n",
    "vector_sum([[0, 1, 2], [1, 2, 3], [2, 3, 4], [3, 4, 5]])"
   ]
  },
  {
   "cell_type": "markdown",
   "metadata": {},
   "source": [
    "although this last one is probably more clever than helpful.\n",
    "\n",
    "We’ll also need to be able to multiply a vector by a scalar, which we do simply by multiplying each element of the vector by that number:"
   ]
  },
  {
   "cell_type": "code",
   "execution_count": null,
   "metadata": {},
   "outputs": [],
   "source": [
    "def scalar_multiply(c, v):\n",
    "    \"\"\"c is a number, v is a vector\"\"\"\n",
    "    return [c * v_i for v_i in v]\n",
    "scalar_multiply(7, [ 2, 4, 8, 5, 3 ])"
   ]
  },
  {
   "cell_type": "markdown",
   "metadata": {},
   "source": [
    "This allows us to compute the componentwise means of a list of (same-sized) vectors:"
   ]
  },
  {
   "cell_type": "code",
   "execution_count": null,
   "metadata": {},
   "outputs": [],
   "source": [
    "def vector_mean(vectors):\n",
    "    \"\"\"compute the vector whose ith element is the mean of the\n",
    "    ith elements of the input vectors\"\"\"\n",
    "    n = len(vectors)\n",
    "    return scalar_multiply(1/n, vector_sum(vectors))\n",
    "vector_mean([[0, 1, 2], [1, 2, 3], [2, 3, 4], [3, 4, 5]])"
   ]
  },
  {
   "cell_type": "markdown",
   "metadata": {},
   "source": [
    "A less obvious tool is the _dot product_. The dot product of two vectors is the sum of their componentwise products:"
   ]
  },
  {
   "cell_type": "code",
   "execution_count": null,
   "metadata": {},
   "outputs": [],
   "source": [
    "def dot(v, w):\n",
    "    \"\"\"v_1 * w_1 + ... + v_n * w_n\"\"\"\n",
    "    return sum(v_i * w_i for v_i, w_i in zip(v, w))\n",
    "dot([ 1, 3, 5, 7 ], [ 2, 4, 6, 8 ])"
   ]
  },
  {
   "cell_type": "markdown",
   "metadata": {},
   "source": [
    "The dot product measures how far the vector $v$ extends in the $w$ direction. For example, if `w = [1, 0]` then `dot(v, w)` is just the first component of v. Another way of saying this is that it’s the length of the vector you’d get if you _projected_ $v$ onto $w$ (Figure 4-2)."
   ]
  },
  {
   "cell_type": "markdown",
   "metadata": {},
   "source": [
    "> **Figure 4-2: _The dot product as vector projection_**<br><img width=\"300\" src=\"data:image/png;base64, iVBORw0KGgoAAAANSUhEUgAAAq4AAAIYCAIAAAAjDvk5AAAACXBIWXMAAAsSAAALEgHS3X78AAAgAElEQVR42uzdeVxVdeL/8fe5l1VQEHEB9w21KBEUFQG3JvdSc8NcsvpqfSvHZip1Wqwxp9FJx7GyxkqNFsdcUjPHylLAXRZTU1MzcwHEDUVlv+f3x/kNX8YtF1Dgvp5/+Ljn3HO4+D4H7pvPWa5hmqYAVBTTpk2bN2/enj17bs/LDRkyxDTNhQsXkjxQfhlUAaDCOHfuXMOGDWfMmDFy5Mjb84rbt29v3bp1cnLyvffeS/5AOWUjAqDCmDt3rsPhiImJuW2vGBIS0rp16+nTpxM+QBUAcOfNmzfvgQcecHNzu50vOmjQoKVLl164cIH8AaoAgDvpl19+2blz53333ScpPz/fz8/v0UcfLb7AuXPnPDw8XnjhhWt/nczMTLvd/tZbb1mTJ0+etNls/v7+RQs8+eSTAQEBRZP33XffhQsXvv32W0mmafr7+//xj3+0nnI4HL6+vi4uLmfPnrXmTJ061dXV9eLFi2wvgCoAoIRt3LhRUmhoqCRXV9f+/fsvW7YsPz+/aIFly5bl5eUNGTKkaM7XX38dFBTk5+f37LPPFp025Ovre88998THx1uT69evt9lsZ86c2b17tzUnISEhOjq66Ivcddddnp6e1qsbhhEZGVm07o4dO86dO2cYxoYNG4rWDQ0NrVSpEtsLoAoAKGF79+6V1LBhQ2ty8ODBmZmZ33zzTdECCxcubNy4sdUVJJ09e3bgwIEHDhzIzMz8xz/+ERsbW7RkVFTU+vXri968IyMjq1evnpCQIOn06dN79uyJiooqWtjFxaVu3bpFRSEyMnL79u3W8YKEhIT69euHhYVZ6zocjg0bNhRfFwBVAECJOXXqlIuLS9Ef3F26dPH39y+6zO/MmTNr1qwZPHhw0fL79+8/f/580WRSUlLR48jIyOPHj+/fv79oDCAqKsp6O1+/fr1pmpe8nfv6+p48ebKoRhQWFlqDBAkJCVFRUUXr7tq16+zZs1QBgCoA4Haw2+0PPfTQ8uXLrWMES5cuzc/PL14FgoKCqlSpYj02DKN169bFRwWsN/ILFy5s3749Ojo6OjraejtPSEjw8fFp2bJl8dcyTdMwDOuxNf5ftLC1bmJiYm5urjUzMjKSrQNQBQCUvGrVqhUUFBQ/k3/IkCFZWVmrVq2S9Pnnn7do0eKee+4perZKlSoLFy5s0qRJ1apVf//73w8fPrzoqcDAwIYNG8bFxW3atMk0zfbt20dGRh45cuTw4cMJCQkRERGXvPSZM2eKzit0dXVt27ZtXFzczz//fPz48aioqA4dOuTn52/ZsiUhIaFFixbVqlVjYwFUAQAlr3nz5pJ++eWXojnR0dEBAQELFy48efLk999/X3xIwNKtW7d9+/adOnVqxowZRX/WFw0MJCQkrF+/PiQkxMvLq2XLlj4+PqtXr05JSSl+zqCkgoKCo0ePtmjRovi6W7duXbNmjb+/f7Nmzfz8/O6++27rq12yLgCqAIAS0759e0mJiYlFcwzDGDBgwJdffvnxxx8XFhZeXgWuISoq6tChQwsXLrTevG02W0RExPTp0/Pz8y852L979+6cnJziQwVRUVG5ubkzZ84sWjIqKio2NjY1NZUTBQCqAIDS0qhRo+DgYOv6/iKDBw++cOHCq6++eu+99zZr1uyGqoCkn376qejNOzo6ev/+/R4eHm3atCm+5LffflupUqXf/e53xUuJ3W6/fF3DMKgCAFUAQCl69NFHv/zyy9zc3KI5ERERdevWPX/+/A0NCUgKCgqqUaOGdZ+A4uUgPDzc1dW1+JKLFi166KGHvLy8iuZUqlQpNDT08nXr1q1bt25dNhNQ1vBxREDFce7cuUaNGk2bNu2S+wyWnu3bt4eFhaWkpPBxRABVAECZMG3atPnz5xfd8Ke0xcTEmKb5r3/9i+QBqgAAACiXOFcAAACqAAAAoAoAAACqAAAAoAoAAACqAAAAoAoAAIAKzuWOfwdpaWlpaWlsCQAASkNAQEBAQMC1ljDvqNTUVOuTVQEAQGlo3rx5amrqNd6L7/CoQFpa2t69ez/55JPiH3aO6zRu3LiZM2eSA9GRHtERHa5mz549w4YNS0tLu8bAgEtZ+EZbtGgRGhrKBrtRvr6+5EZ0pEd0RIdbxGmDAABQBQAAAFUAAABQBVCexMTEEALRkR7RER1ukWGa5h18+eTk5LCwsKSkJM4HAQDgjrzPMioAAIBTowoAUGpqal5eHjkAVAEAzmjmzJm1azdwd3dPTc0vmnlnDx0CoAoAuB0cDsezz/7h2WeflfIl1a5tb9BAAwbojTcclSpVfumlV4gIcAYuRAA4p5ycnOHDRy5evEhqVL16TmrqkZgY2+LF+vVXLVmS17z5W716cTtwgCoAoII6c+ZMnz59N23aKi2x2d6JiKjs4mL7+GMdP66EBNlsHn/966j27ckJcAocIACcTmFhYVRU540btzgca6QHDSOxTZvWkjw8tGyZatZ8Z+jQX9q0UVycoqO7fvHFFyQGUAUAVCiGYTRrFmSauVKktLiw8GybNm2sp9zdL+TlTapZc15goMLCzickfD906DCuLQAqNg4QAM73F4DNtmjRv+z2RZKkwZLCwsKsp7y8vI4c+dW6fMDb2zs9Pd3V1T0xUR4e4jZgAFUAQMUxadIkSV26dOnXr9+vvx6uVq1a0VNeXl5Fj2vWrCkpIkLnzunrry907+79/vvvP/744wQIUAUAlGPnz59//fXXJa1cudLT0/N6VqlSRdWq7ZH088+umZny9SVFgCoAoNzq2LGjpOnTp19nD7C0bt06Ly/P1dX1hx+0a5fat9f582d9fHzIEyjvOG0QcC779u1LTk6W9Oyzz97ouq6urpJatlS7dnrllY98fX1XrFhBpABVAEB50qxZM0kbN240DOOmv4iLi7p3byTJ3f2+I0cIFSjfOEAAOJFFixZJqly5cvtbvn9QVFSUdaHBzz9r3To1bHgqPf1A27ZtCRmgCgAoowoKCgYNGiTpwIEDJfhlGzdWo0by97/r9OmMY8fSAgNrETVQvnCAAHAWY8eOlTR06NAaNWqU7Fc2DG3YEPfII4/9/HOtvXtJGmBUAEDZc+bMmXfffVfS/PnzS+PrN2/efN68DyQdP664OKWkzPPzs48YMYLkAaoAgDKhZcuWkubOnWtdBVB6atZUzZrq1OlRSQMHDvf0NAgfKONu4ADBhQsXJk2a1L17dz8/P5vN9tFHH11j4fnz59suk5GRQeLA7bd9+/YjR45IGjVq1O15xZMnTyYkrN+xw9i2TabJFgAqyqjAiRMnJk+eXL9+/ZCQkHXr1l3PlUiTJ09u2LBh0SR3IwFuP9M0W7VqJemHH364bS9arVq1yMgOki5cUHy8hg1rOGLE0ClTprA5gPJdBQIDA9PT02vUqJGUlFT0OWbX1qNHj1A+wwS4oz744ANJjRo1uvfee2//q3t5qUOHgqNHD02f/vdnn53i788GAcqcGzhA4ObmZp14bF73eJ9pmllZWYWFhQQN3BF5eXmjR4+WlJSUdMf+4HBxycnJOX36ZHq6EhKUn6+CggI2DVAuq8BN6Ny5s4+Pj5eX14MPPliylzIDuB7Dhg2T9Mwzz/je0U8Qcnd3r1SpUnCwIiIUF3fe1dV13LhxbB2gjCitKwi8vLxGjRrVuXPnKlWqJCYmzpgxIyIiIjk5uU6dOoQO3B7Hjx+3bi/497//vYx8S3a7mjQ5Kcnbu/WhQ2rQgK0EVNwqMHDgwIEDB1qPH3jggW7dukVHR0+ZMsW6shnAbWCdtLt06VK73V52vqsGDRo4HA7DMA4dUlycQkKUkbG/adOmbC/gTrlNdxvs0KFD27Zt16xZQ+LA7ZGQkJCdnS2pX79+Ze17s64/atBAHTtq1qzYoKCgt956h00GVLRRgcvVqVNn3759V3xq3LhxxQ9kxsTExMTEsG2Am2aaZnR0tKT9+/eX8W915MhOb71VvUWLR3ftUnAwmw64VQsWLFiwYEHRZGZmZhmqAgcPHqxevfoVn5o5cybXHAIlaNq0aZLatm3bpEmTMv6t1qtXz7r52KlTiotT1aonNm5cMmbMmFv5DGXAmV3y53RycnJYWNi1VymxAwTp6el79+4tukboxIkTxZ9dtWpVcnJy9+7d2UhAacvOzp4wYYKk7777rhx929WqqWNHPfRQpyeffPKHH/azHYHb5sZGBd5+++3MzMzU1FRJK1asOHz4sKSxY8dWqVJlwoQJsbGxhw4dqlevnqSIiIjQ0NCwsDAfH5/k5OS5c+fWq1fvT3/6E4kDpa13796SXn31VS8vr3L3zScmbvzggw/z84M2b1bbtmJoAChzVWD69Om//vqrJMMwvvjii6VLlxqGMWLEiCpVqhiGUXxAb8iQIV999dU333xz8eLFwMDAMWPGTJo06WoHCACUlF9//fX777+X9Morr5TH79/Hx+ePf/yDpJwcJSTo3/+emZGx8/3337fZ+ER1oLQY5h39qBDrGEZSUhLnCgAl8yNtGJLWrFnTtWvXCvPfSUtz1KrF+ABQWu+zFG2g4li1apX1oGL0AEl5eXkHDhw4c8aIj1duLlsYKBVUAaCCcDgcvXr1knT06NEK859ydXVt3LhxixaKjFRKilxcXKKiotjWAFUAwBVYp+X27t27du3aFfBXlU1t25qFhYU7d+79+We2NkAVAPDfzp07N3XqVEnWhw5USIZhOByOEydS3d0VF6fTp3X27Fk2PUAVACBJkZGRkv7xj394eHhU4P+mYRiurq516qhjR+3bd97X17dz5y5sfYAqADi7PXv27Ny5U9IzzzzjPP/rFi0KJXXq9D8//MAuANwSFyIAyru77rpL0pYtW5zqZr0+Pj7WtdCZmYqLU4MG2r373927d+eOxQCjAoBzsT53pFq1auHh4c6ZgK+vOnbUypWLevbsOW7ceHYJgCoAOJGCgoKhQ4dK2rt3r5NHMXJkjwceeGDIkNc2bpTDwa4B3AAOEADl2JNPPilp5MiR/v7+Th6Ft7f38uXLJeXlacMGmWbGnDl/mDt3rpubG/sJwKgAUDGdOnXqgw8+kPT++++TRhE3N0VFafLkUZ9++un33+8kEIAqAFRYwcHBkmJjY11dXUnjEqtXr/jqq68aNw6Li9PFi+QBUAWACicpKSk9PV3S8OHDSeNydru9Z8+eTZsqOlq7dumJJ6bUrVs3Ly+PZACqAFARmKbZunVrSbt27SKNazMMhYdr2bK3jx49euCAnUAAqgBQEbz77ruSmjdvfvfdd5PG9UhPTztz5kzVqvb4eJ04oYKCAjIBinAFAVDO5ObmPvXUU5K2bNlCGtfP19fX11cBAdq9WzVquEqy7lAEgFEBoJyJiYmR9Ic//KFKlSqkcRPuuku1atWqXbtxUpIoAwCjAkA5k5aW9sUXX0iaNm0aadxKjKZpnj+vhATVqSOH40CjRo1sNv40AqMCAMq8unXrSlqxYoXdzhlwt8QwjMqVFR2tgoLspk2b+vlVIxMwKgCgrFu3bl1hYaGkPn36kEZJadDA3q1bt/vue3z9erVrJxd+KYIqAKBsMk2zc+fOkg4ePEgaJcjNzW316tWSCgq0ZYsqV9Y337z51FNPeXp6Eg6cBAcIgPLhL3/5i6TIyMiGDRuSRqn8YeSiDh20f/83zz///JAhjxIIqAIAypCLFy++9NJLkr7++mvSKFX9+t33xhtv/PWv8+LilJVFHqAKACgbunXrJmnKlCmVKlUijdL9nWizTZgwoUULj+ho7dunL79Mr1u37smTJ0kGVAEAd8zBgwfXr18vaeLEiaRx2xiGwsK0evVfjh49unr1TwQCqgCAO6Zx48aS1q5daxgGadxm77wza+/evfff3yEuTmlp5AGqAIDbbsWKFZLsdnunTp1I445o1qxZjRrq2FHnzmnkyFcMw8jMzCQWUAUA3A6FhYUPPvigpCNHjpBGGegEOnNmu6Q9eypzx2JUJNxXACi7XnjhBUn9+vULCAggjbJgxYoV+fn5+fn2+HgFBiog4Lynpyd3fgSjAgBKxdmzZ2fMmCFpwYIFpFF2uLq6Vqqkjh3l5aXKlSu7uLjwCYegCgAoFW3btpU0e/Zsd3d30iiDAgP18MMPh4REJCQYeXnkgXKMAwRAWfTjjz/+9NNPkp544gnSKLM++eQTSQ6HNm+Wp6fOnYtr3bq1l5cXyYAqAOBWBQcHS0pMTOQCwrLPZlNEhE6ezKtevZMkjheAKgDgVsXGxkqqVatWWFgYaZQX1aq5/vWvf61e/e64OLVsKV9fIgFVAMBNyc/PHzlypKQff/yRNMoRwzDGjx9vPf7hB/34o2bPHjZt2tTatWsTDso4ThsEypbHH3/c+tfPz480yqmWLeXqmvzZZ58OGPAIaYBRAQA34OTJk9bRgXfffZc0yrXw8NCvv/46OLhjXJwaN1adOkQCRgUAXIfmzZtLWrBggYsLNb3cu//++wMD3Tt2VG6uli5NMwxj165dxAKqAICr2rJly6lTpyQNGTKENCqSxo115MgiSfHxpxwO8gBVAMCVmKbZrl07SXv27CGNiuf3vx975syZxx7ruH699uyRaZoFBQXEAqoAgP/z1ltvSbrnnnusYwSoeHx9fd3dFR0tPz8NG/YnV1fXw4cPEwuoAgAkKScn5/e//72kDRs2kEaFV7OmgoI8JB04UDsnhzxAFQAgDRgwQNL48eMrV65MGs5g0qRJDoejc2f79u3atk3p6cfPnj1LLLhTOEsZuMOOHTv21VdfSfrLX/5CGs7DuqV0u3a6cEHe3rUkFRYW2mz8eQZGBQDnU6dOHUmrVq3ibcA5eXnpvffe69VrQEKC7dQp8gBVAHAya9assR706NGDNJzWmDFjVq5c1LGj0tK0fr3mz//kl19+IRbcNhwgAO4Y0zR/97vfSTp06BBpQFJwsPLzHVFRw8UnHIIqADiD1157TVKXLl3q169PGrC4utrWrl17/rzi4lS/vho0IBKUOg4QAHfG+fPnrSqwcuVK0kBxnTp16t27U8eOkhQXp3vuCYmPjycWUAWAiqZr166Spk2b5unpSRq4ogYNVL/+oV27fnj66T8VFpIHSgsHCIA74MCBA1u3bpX03HPPkQau2QYaHDx4sEaN2hs3qmpVBQcTCRgVACqEpk2bSkpISLAuLgeuoWHDhl5eblFRqlVLS5YcMwyDg0qgCgDl29KlSyV5enpGRkaSBq6fv79cXBIl/fKL74UL5IESwwEC4LYqLCx86KGHJHHhOG7Cgw8+mJeX5+LimpiowkKFh5tZWed8fHxIBowKAOXGuHHjJA0ePLhmzZqkgZvg6upqGGrTRiEhGjZsvK+v7/bt24kFVAGgfMjMzHz77bclxcbGkgZukYeHBgxoJ+nMmXuPHycP3DwOEAC3T1hYmKQ5c+a4ubmRBm5d//79rZsS7tmjn35S9eoHDSOvefPmJAOqAFAW7dix4+DBg5Ief/xx0kDJatFCzZrJbm8sKTs7x8PDnUxAFQDKnJYtW0pKSUnhAkKUBptNmzdv/uSTz7dsca9TR40bEwmoAkBZMnfuXEn16tULCQkhDZSStm3btm3bVtKRI4qL09q108LDg3v27EkyoAoAd1heXt5jjz0miTO9cXvUras6dcxOncZLys83XfhND6oAcGeNGjVK0pNPPlm1alXSwO1hGMaRI0fS009s2SJvb7VsSSS4Ki4mBEpXRkbGZ599Jumtt94iDdxOderUad26VYcOqldPcXFyd3d/5513iAVUAeB2a9KkiaRFixbZ7XbSwB1RtaqCg0/l5eW9995nWVnkgUtxgAAoRRs3bszKypI0YMAA0sAdVK1ataysLHd39507lZOjdu3kcBS4cBIBGBUASpVpmh06dJD0008/kQbuOG9vb1dX19BQtW6tpUuPuLq6zpw5k1hAFQBK0YwZMySFhYUFBQWRBsoONzc1bJghydU1PDWVPMABAqB0ZGdnP/fcc5LWrVtHGihrwsLCHA6HYRj79ikuTq1bm6mpB5o2bUoyjAoAKDF9+/aV9NJLL3l7e5MGyiDrrpdBQYqO1hNPjA8KCvr662+IhSoAoGQcPnz4m2++kfTaa6+RBsp8J9D48SMCA2u7ud23bx95OCMOEAAlr379+pK+/vprm422jXIgODj42LGjktLSFBcnF5c9aWk/ctkLVQDATfr666+tB/fffz9poHwJCFBAgAzjLkkZGZnVq/uQCVUAwI1xOBzdu3eXdPjwYdJAOXX8+PFFixYfOOBz+LBCQ8VHaVIFANyAl19+WVL37t3r1q1LGiinatSo8dRT/yspK0vx8frkk+cDAjz//Oc/k0xFZZimeQdfPjk5OSwsLCkpKTQ0lI2B8i4rK6tKlSqSsrOzPTw8CAQV5H3CMCSdPm3ycVrl0fW8z3JOE1BioqOjJc2YMYMegIrk4sWLhw4dOnJE69eroIA8KiCqAFAyfvrpp+3bt0saN24caaAi8fT0rF+//r33ql07bd4swzBGjhxJLFQBAJdq3ry5pI0bNxqcZIUKysVFYWHZknbuPHLkCHlUoC1LBMCt+/zzzyX5+Pi0b9+eNFCxRwgKCwtN0/z1V8XFKTRUDsdZHx+uOWRUAHBuBQUFgwcPlrR//37SQMV/27DZ7HZ7o0aKjlZ8/GFfX98nnniSWKgCgFN7+umnJT388MPVq1cnDTgPw1BIiF1Sq1aP7NlDHuUYBwiAW3LmzJl//vOfkubNm0cacDa1a9e2rkjPyFBcnJo2NX/4YXWPHj1IhlEBwIm0bNnS6gGurq6kAadVo4Y6dtSUKa/27Nnzgw9iCYRRAcBZpKSkWCdSP/LII6QBTJ78+6NHtwcHD9u6VW3acMdiqgBQ0Zmmad29a8eOHaQBSPLz81u+fLmkixcVH6+srJ1r1nw4ffp0u91OOFQBoAKaM2eOpMaNG99zzz2kARRXqZI6dlStWt2PH099/PHxwcEBZFKWca4AcDPy8vKeeOIJSYmJiaQBXNHhw7+sXr3aMALi45WXRx6MCgAVy7BhwySNHTvW19eXNIArcnNz69atmySHQ5s3a+rUR0+c2LthwwbuyEkVAMq99PT0RYsWSZoxYwZpAL/JZlNEhFasmCfpl1/UqBGRlLENRATAjWrQoIGkpUuXcjIUcP0cDseZM2fsdiMuTpmZKriNn3K4ePFim80WHx9ffOY///lPm822e/duNg1VALgx8fHxubm5kvr160cawPUzDMPX17d+fXXsqEOH5Orq2qRJk9vz0r179/b29rY+K6TIwoULg4OD77rrLjbNDVSBCxcuTJo0qXv37n5+fjab7aOPPrr28pmZmaNHj65evbq3t3eXLl1SUlKIG+WdaZodO3aUdODAAdIAbto99xRKql692c6dt+PlPDw8+vTps3jxYofDYc1JT0+Pj4+3Pj0EN1AFTpw4MXny5J9++ikkJMTqd9dY2OFw9OrVa8GCBWPHjp02bVpGRkanTp347Ynybtq0aZLat2/fuHFj0gBumt1uN01z48aVgYGKj9fRo9q/f791D+NSMnjw4IyMjHXr1lmTVi2gCtxwFQgMDExPT//ll1/+9re//ebCixcv3rRp00cfffTyyy//7//+77p16+x2+6RJk0gc5dfFixcnTJgg6dtvvyUN4NYZhlGtmqKjdejQsaCgoA4dokvvtbp37+7j47Nw4UJrcuHCha1atbptRygqThVwc3OrUaOGpOspbosXL65Vq1b//v2tSX9//0GDBi1fvjw/P5/QUU716tVL0muvvebl5UUaQAlq1cr3nnvuGTNmxubNKqWhATc3t759+37xxRcOh+PYsWMbN25kSOBmqsANSUlJse7JWqRNmzYXL17ct28foaM8OnTokDW0+PLLL5MGULK8vLx27NgxcmSbVq2UkKDdu82//vWvJf6n4+DBg0+ePLlmzZpFixaZpkkVKPUqkJaWFhDwX3eatCZTU1MJHeVRw4YNJa1Zs4a7owClx91d0dFaunTWxIkTX3vt/+7bUSKnEXTt2tXPz2/hwoULFy5s27Zt/fr1Cbx0q0BOTo67u3vxOR4eHpKys7MJHeXOV199VfSrhDSA0jZhwlOvv/76ww+/EB+v777bEBhYz83N/Yknniw6///muLq69u/f//PPP9+6dStDArejCnh6elrXXhcvB9Z8Qkf54nA4evfuLeno0aOkAdwGLi4uL774YvPmatYso3//19PSmhYU1P/nP9+z7vJ5KwYPHnzhwgXDMAYNGkTO/xd4KX3dgICAS44FpKWlSQoMDLx84XHjxhW/kXtMTExMTAzbBmXmD5QJkvr06VO7dm3SAEqDaZonTpw4cODA/v37rX/37Dnw88/7L1w4J0myS16G4Wq9j9yKrl273uLQQtm3YMGCBQsWFE1mZmbesSoQEhKSkJBgmmbRgdUtW7Z4eXkFBQVdvvDMmTMvOccQKCPOnTtnXT17yX3KAJTUu/7u3fsPHjzwn3d9ubrWLixs4nC0kgZJhvSS5JAuVq5cuW/fvgT4my75czo5OTksLOw2VYH09PTMzMwmTZq4uLhIGjBgwOLFi5cuXfrQQw9JOnny5KJFi/r06ePq6sp2QjnSoUMHSbNmzbJOdgFQCu/6odJgqYnUVGqUn190se4BF5fO9es3fO65cTk5OX379rU+/gMl7saqwNtvv52ZmWmN/K9YseLw4cOSxo4dW6VKlQkTJsTGxh46dKhevXpWFWjXrt2oUaN2795drVq12bNnm6b52muvkTjKkT179uzatUvS008/TRpAab7rX87qAV4JCWsvuR4Nd7gKTJ8+/ddff5VkGMYXX3yxdOlSwzBGjBhRpUoVwzCKX2Rls9lWrVr1/PPPz5o1Kzs7Ozw8PDY2tmnTpiSOcsT6nJKtW7dyASFwNTt37hwx4tH9+/fdwrs+PaBcVYFffvnlak/Nmzdv3pcXa0MAACAASURBVLx5xef4+vq+//7777//PimjPPrss88k+fv7t2nThjSAq8nJydm+PVF6QBp5U+/69IA7jw8pBq6goKDg4YcflrRnzx7SAK6hTZs2Xbveb7f/LPWV7pHoAVQBoEJ44oknJD3yyCP+/v6kAVzbn/88qbDwR2nJLX8legBVACgbTp069eGHH0qaM2cOaQC/KSIiomvX++3216RbuWSfHkAVAMqMu+++W9LHH3/Mta/A7RoYoAdQBYAyY9u2bcePH5c0bNgw0gBucGDgzzc1MEAPoAoAZYZpmuHh4ZKs2wkAuMGBgV3SUnoAVQAox2bPni2pRYsW1jECADc+MHBDZwzQA6gCQFmSm5tr3VVw8+bNpAHchJdemlhYuEv6hB5AFQDKJevzy5977rkqVaqQBnBDcnJypk2b1rlzZ0nSyOsYGKAHUAWAMiY1NXX58uWSpk6dShrAjZYAT0/P8ePHSwoODpb0W5cS0AOoAkDZU6dOHUkrVqyw2fihAG6mBERHRx88eHDnzp2/dcYAPYAqAJQ9a9euNU1TUp8+fUgDuLkSEBcX17BhQ/3GPQboAVQBoITs2LHDZrN9+eWX1mRSUpLNZgsLCytaoEePHu3atbueL2WaZpcuXSQdPHiQYIFbKQGWq19KQA+gCgAlJzg42NfXNz4+3ppMSEiw2Ww7duzIysqS5HA4Nm3a1LFjx+v5UlOmTLF+oxX/XQbgJkpAkf8MDCylB1AFgFLbcW22Dh06JCQkFFWBvn37Stq4caOkH3744dy5c1FRUb/5dS5cuPDyyy9L+ve//02qwK2XgKsMDNADqAJAKYiMjExOTs7Ozpa0YcOGnj17hoSEWOUgISHBMIzIyMjf/CL333+/NTBQqVIlIgVuvQT898CAdfNBekBZ50IEKKeioqIKCgo2bdpUu3btjIyM6OjoH3/8sagK3H333b6+vtf+Cj///LM1ijBx4kTyBC4pAbNmzbIagFUC5s+ff0MH0ayBgXXrXjSMi/QARgWAUtG6dWsPD4+4uLiEhIQaNWo0adIkMjJy69ateXl5CQkJ13N0oEmTJpLWrVtnGAZ5Arc+EnClgYF99ABGBYDS4ubmFh4enpCQUK9evejoaGucIDc399NPP7UGCa69unVDIVdX1+s8uxBgJOBGRURErFixom3btjVq1CBeRgWAUhEVFbVly5a1a9daYwD+/v4tWrSYOnWqYRjXHhUoLCy0TjP89ddfiREowZGAS/Tp04ceQBUASrcKZGdnHzlypOiNPzo6et++fQ0aNAgMDLziKllZWaNHjwkMrC2pb9++DFqCElBKJQBUAeB2iIiIsNvtVapUadmyZVE5KPr3isaNe/aDDz7JyDhurU6GoARQAsC5AijHvL298/Pzi88ZOnTo0KFDr7HK5s2JppknyTBq79y5kwzhnCWgZM8JAFUAKDdOnz6dkZEuFUgyzWPW/YYBSgDJODkOEMBZ/Prrr23bdjh58rgkf3//Dz/8cOTIkcQC5ykBHA4AowJwatu3b//d73qcOlUgSTKefvrpRx99lFjASADAqACcwrfffhsREXX6dKBpnpQkma1btyYWMBIAUAXgFGJjY3v06JmbG+VwNJMkdZVEFQAlACjCAQJUWKZpvvHGGy+++KL0qDRZqi1JalWr1r6aNWuSDypqCeBwAKgCgCQVFhY+/fQz7733rvSq9IpUTZK0wGZ7v107hgRACQCoAqjQLl68OHhwzFdffSV9ID0mbZbOSJIGGcaY8PAJRARKAEAVQIV18uTJnj37JCXtMM0VUk/JlNpLkvZIBwoLz3GiACgBAFUAFdbBgwfvu6/74cOZDsc6qY0kaZYkqaXUXPpMUlhYGEGBEgBQBVABJSYmduvW6+xZn8LCTVJj6xemNE6SlCBJ2lavXmM/Pz+yAiUAKMLFhKgg/v3vf0dFdTp7tmFh4Yb/9ABJ/SVJE6TKkuz2RM4ZRLkuAVwiCKoAcGVz587t3btPbm7XwsLvper/mX1U+rckaYokqcA0k8PD2xAXKAEAVQAVh2mar7762mOPPeZwPG6aS6RKxZ6sK0la9Z/9fK/DcZFzBkEJAC7BuQIoxwoKCp544skPP/xAmiJNlIxiT377nwc9/vMg0TCM0NBQckN5KQGcEwCqAHAt58+fHzBg8DfffCN9JI347ycd0v2SpF+LzdzWuHHzypUrEx0oAQBVAOVeRkZGt269du7ca5pf/eddv7jXJEldpXr/t6+7JLZvz9EBUAIAqgDKv/379993X/djxy4WFsZLrS4fL5D+LEn6stjMvMLC7W3aDCM9UAIAqgDKty1btnTv3jsry7+w8DupwZUW6SJJmiZ5Fpu5yzTzOGcQlADgclxBgPJkxYoVHTt2PneuWWHhhqv0gP3SNknSc/89f5vNZm/ZsiUZokyVAK4OAFUAuAH//Oc/+/btl5fXw+H4VrraHQODJEnr//tqAkmJzZsHV6pUiRhBCQAuwQEClA+nT59+8sknTdNHmvzfI//FLZEkVZI6XLqju3CfQZSVEsDhADAqANwMPz+/JUuW1KnjaxgtpT9ImZctUigNkCQdvOyp7MLCndxnEIwEAFQBlG/9+vXbv3/PlCl/9vCYY7c3leZIhcWe/70kabBU87JVfzDNQs4ZBCUAoAqg3PPw8Jg4ceLPP+8bOrSnNMZuD5PWSZIypXckSbFXWm+bi4vbPffcQ4CgBABUAVQEgYGBsbEfbd68OSTEQ+psGAOleyVJH0huV1ojMTi4pZubG9GBEgBQBVBxtG3bduvWjR9//LGPz1rpiCRpyBWXdHXlPoOgBABUAVTI3ddmGzJkSGbmKUl2u4uLSzPpU8n876Wy8vP3tGnDOYOgBABUAVREQ4cOlWS32/fv39enTztpmN3e4T93GbKkSCbnDIISAFAFUAGlp6cvWrRI0rZt2xo2bLh06eK1a9c2a3ZBCpdGSWmSpG3u7p4tWrQgLlACAKoAKhpr2L958+atWv3/DyXq1KnTjh3J7733nq/vl3Z7kPRXaUNISKiLC3fTAiUAoAqgYomPjz969KikTZs2FZ9vt9vHjBlz8OD+p59+3G5/WfqC+wyCEgBQBVDRmKbZsWNHSaNHj/b19b18gapVq86c+fddu3Y+8sioESNGkBgoAcDVMGqKcmnq1KnWg3ffffcaizVv3nzevLnEhRIpAXx2AKgCQFmRm5s7ceJESQsXLrTZGNkCJQCgCsDJ9OrVS5Knp+egQYNIA5QAgCoA53Lo0KHvvvtO0vbt20kDlACAKgCnY103GB4eHhQURBqgBABUATiXr776KjMzU9L3339PGqAEAFQBOBfTNHv37i1p4sSJXl5eBAJKAEAVgHMp+k09ZcoU0gAlAKAKwLmcP3/+b3/7m6TVq1cbhkEgoAQAVAE4l06dOkny8/Pr1q0baYASAFAF4Fz27NmTlJQkLiAEJQCgCsA5hYaGSurWrVvdunVJA5QAgCoA5/LZZ5/l5ORIWr58OWmAEgBQBeBcHA7Hww8/LOlvf/ubu7s7gYASAFAF4Fz+53/+x3rw3HPPkQYoAQBVAM7l9OnTc+fOlbRhwwbSACUAoArA6bRr105SvXr1IiIiSAOUAIAqAOeybdu2/fv3S0pMTCQNUAIAqgCcdEggJiamevXqpAFKAEAVgHN55513HA6HpI8//pg0QAkAqAJwLvn5+U8//bSkDz/80G63EwgoAQBVAM5l0KBBklxcXB999FHSACUAoArAuaSlpS1btkxSUhJnC4ISAFAF4HysjxsIDg6+9957SQOUAIAqAOeydu3a9PR0SevXrycNSgAlAKAKwLmYptmlSxdJTz31lI+PD4FQAigBAFUAzuX111+3HsyaNYs0KAGUAIAqAKd7D3jllVckLVmyxGazEQglgBIAUAXgXLp37y7Jy8u7f//+pEEJoAQAVAE4l4MHD8bFxUnavj2FNCgBJANQBeB0QkJaSerQoUOTJk1IgxIAgCoA57Js2bKsrHOSvv32W9KgBACgCsC5mKbZr18/Sa+88oqnpyeBUAIAUAXgXP7whz9YD1599VXSoAQAoArAuWRlZc2cOVPSN998YxgGgVACANwRN3ABd25u7vjx4wMDAytVqtSuXbs1a9Zcbcn58+fbLpORkUHcKC4qKkpS9erVf/e735FGxSsB06ZN8/T0tHpAdHS0dZ0IPQAo36MCjzzyyJIlS5599tmmTZvOmzevZ8+ea9eu7dChw9WWnzx5cvEfe24li+J27dr1ww8/SEpJ4QJCRgIAlIcqsHXr1oULF7755pvWwd3hw4cHBwe/8MILGzZsuNoqPXr0sD5lDrhcWFiYpN69e9euXZs0KAEA7qDrPUCwePFiFxeX0aNHW5Pu7u6PPfbYpk2bjh07drVVTNPMysoqLCwkZVwiNjY2Ly9P0pIlS0ijYpQADgcAFb8KpKSkBAUFeXt7F81p06aNpO3bt19tlc6dO/v4+Hh5eT344IMHDhwga1gKCwtHjhwpaebMmW5ubgRCCQBwZ13vAYK0tLSAgIDic6zJ1NTUyxf28vIaNWpU586dq1SpkpiYOGPGjIiIiOTk5Dp16pA4Ro0aJckwjN///vekUa5LAIcDAOeqAtnZ2e7u7sXneHh4WPMvX3jgwIEDBw60Hj/wwAPdunWLjo6eMmXKu+++S+JO7uTJkx9//LGkTZs2kQYlAEB5qgKenp65ubmX/Dqw5v/muh06dGjbtu01Lj6E8wgPD5fUsGHDtm3bkgYlAEBZcL3nCgQEBFxyLCAtLU1SYGDg9axep06dM2fOELeT27Jlyy+//CJp69atpFHuSgDnBADOPirQqlWrdevWZWVlVa5cuejXuqSQkJDrWf3gwYPVq1e/2rPjxo3z9fUtmoyJiYmJiWHbVDzt27eXNHz4cH9/f9JgJABAaViwYMGCBQuKJjMzM397HfP6bNmyxTCMN99805rMyclp0qRJ+/btrcm0tLQ9e/bk5+dbkxkZGcXX/eqrrwzDGDdu3OVfNikpSVJSUpKJis66x7CkgoIC0igXsrOzp06dWvS7whoJIBagfLme99nrHRUIDw8fOHDgxIkTMzIyGjdu/NFHHx0+fHjevHnWsxMmTIiNjT106FC9evUkRUREhIaGhoWF+fj4JCcnz507t169en/6058oa04rLy9v3LhxkmJjY+12O4EwEgCg/B0gsH6Jv/zyyx9//PGZM2datmy5cuXKyMhI6ynDMIp/nMyQIUO++uqrb7755uLFi4GBgWPGjJk0adI1DhCgwuvfv78kNze34cOHkwYlAECZYpimeQdfPjk5OSwsLCkpiVsUV2DHjh2zbimxa9euu+++m0AoAQDK1PssH1KMUteqVStJLVu2pAdQAgCUQVQBlK5vv/32xIkTkhISEkiDEgCAKgDnYprm/fffL2ncuHFFl6GCEgCAKgBnMWnSJOvBjBkzSIMSAIAqAOeSnZ09efJkScuWLSt+gQkoAQCoAnAK9913n6QqVao8+OCDpEEJAEAVgHM5cODAxo0bJaWkpJAGJQAAVQBOx/pwio4dOzZq1Ig0KAEAqAJwLkuWLLlw4YKk1atXkwYlAABVAM7F4XAMGDBA0p///GcPDw8CoQQAoArAuYwdO9Z68NJLL5EGJQAAVQDO5ezZs++8846ktWvXcgEhJQAAVQBOp0OHDpJq1arVqVMn0qAEAKAKwLn88MMPP/74o7iAkBIAgCoA59S6dWtJffv2rVWrFmlQAgBQBeBc5s6dW1BQIOnzzz8nDUoAAKoAnEthYeFjjz0m6e2333Z1dSUQSgAAqgCcy7BhwyTZbLannnqKNCgBAKgCcC4ZGRn/+te/JG3ZsoU0KAEAqAJwOm3atJHUtGlT67RBUAIAUAXgRDZu3Hj48GFJmzdvJg1KAACqAJyOdU+hRx991M/PjzQoAQCoAnAub775pvXg/fffJw1KAACqAJxLbm7u888/L+mzzz6z2WwEQgkAQBWAc3nwwQcleXh4xMTEkAYlAABVAM7l8OHDX3/9taTk5GTSoAQAoArA6bRq1UpSWFhYixYtSIMSAIAqAOeyevXq06dPS1q3bh1pUAIAUAXgXEzT7NGjh6Tnn3/e29ubQCgBAKgCcC4vvvii9WDq1KmkQQkAQBWAc7lw4cIbb7whaeXKlYZhEAglAABVAM6la9euknx9fXv16kUalAAAVAE4l59++sn67MGUlBTSoAQAoArA6VgXEN53330NGjQgDUoAAKoAnMvnn3+enZ0taeXKlaRBCQBAFYBzcTgcgwcPlvTGG2+4u7tTAigBAKgCcC5PPvmk9aDo/Y8SQAkAQBWAszhz5sycOXMkJSQkOO0FhJQAAFQBOK/27dtLqlOnTmRkJCWAEgCAKgDnkpyc/NNPP0lKTEykBFACAFAF4HTCw8MlDRw4sGbNmpQA9gcAVAE4l/fee6+wsFDSZ599RgkAAKoAnEt+fr514cCcOXNcXCr+fkIJAEAVAP5LTEyMJLvd/j//8z+UAACgCsC5pKenL1myRNK2bdsoAQBAFYDTad26taTmzVtYnztACQAAqgCcSHx8/LFjxyRt2rSREgAAVAE4F9M0O3bsKGnMmDG+vr6UAACgCsC5vPHGG9aD2bNnUwIAgCoA55KTk/Piiy9K+vzzz202GyUAAKgCcC69e/eW5OlZaeDAgZQAAKAKwLkcOnTou+++k7R9ewolAACoAnA6ISEhktq1axcUFEQJAACqAJzLypUrz549K2nNmjWUAACgCsC5mKbZp08fSX/605+8vLwoAQBAFYBzeeGFF6wHr7/+OiUAAKgCcC7nz59/8803Ja1evdowDEoAAFAF4FysewtWq1atW7dulAAAoArAufz444/JycmSUlLK+gWElAAAoAqg5IWFhUnq3r173bp1KQEAQBWAc/n0009zc3MlLV++nBIAAFQBOBeHwzFs2DBJb775ppubGyUAAKgCcC6PP/64JMMw/vjHP1ICAIAqAOdy+vTpefPmSdqwYQMlAACoAnA6bdu2lVS/fv327dtTAgCAKgDnsm3btgMHDlgPKAEAAKqA02nXrp2koUOHVq9enRIAAKAKOJe3337b4XBIio2NpQQAAKgCziUvL++ZZ56RNHfuXLvdTgkAAFAFnMugQYMkubq6jho1ihIAAKAKOJfU1FTrroKJiYmUAAAAVcDphIaGSgoODr733nspAQAAqoBz+f77748fP67bdU8hSgAAUAVQhpim2bVrV0nPPPNMlSpVKAEAAKqAc5k8ebL14B//+AclAABAFXAuOTk5kyZNkvTFF18YhkEJAABQBZxLt27dJHl7e/ft25cSAACgCjiXn3/+OT4+XtL27dspAQAAqoDTadWqlaTIyMjGjRtTAgAAVAHnsmzZsqysLEnffPMNJQAAQBVwLqZp9uvXT9KkSZM8PT0pAQAAqoBzefbZZ60H1uUDlAAAAFXAiZw7d866hcCaNWtu+gJCSgAAUAVQXkVFRUmqUaOGdZNBSgAAgCrgRHbs2LFjxw5JKSkplAAAAFXA6bRu3UZSnz59AgMDKQEAAKqAc5k/f35+fp6kxYsXUwIAAFQB51JYWDhq1ChJ//jHP9zc3CgBAACqgHN55JFHJBmGMXbsWEoAAIAq4FxOnDjxySefSNq8eTMlAABAFXA64eHhkho1amQ9oAQAAKgCTmTz5s2HDh2StHXrVkoAAOCG2K5/0dzc3PHjxwcGBlaqVKldu3Zr1qy5xsKZmZmjR4+uXr26t7d3ly5dbuIad1y/iIgISSNHjqxWrdolJWDatGmenp5WD4iOjj548GBcXBw9AABwM1XgkUce+fvf/z58+PBZs2bZ7faePXtu2LDhiks6HI5evXotWLBg7Nix06ZNy8jI6NSp04EDB4i7NPz97383TVPShx9+SAkAANww8/ps2bLFMIzp06dbkzk5OU2aNImIiLjiwgsXLjQMY8mSJdbkiRMnqlatOnTo0MuXTEpKkpSUlGTipuTm5lrbMTY21pqTnZ09derUou1rlQCCAgDndD3vs9c7KrB48WIXF5fRo0dbk+7u7o899timTZuOHTt2xYVr1arVv39/a9Lf33/QoEHLly/Pz8+ne5Us65OI3dzchw8fzkgAAKAUDxCkpKQEBQV5e3sXzWnTpo2k7du3X3Hh0NDQ4nPatGlz8eLFffv2kXgJOnLkyKpVqyRt2rSREgAAKN0qkJaWFhAQUHyONZmamnqLC+Mm5Ofnx8bGtmjRQlJgYGBYWBglAABwc673YsLs7Gx3d/ficzw8PKz5ly+ck5Nz/QvjJgwaNGTZsqXWY6tgcYkgAKB0q4Cnp2fRGWpF7/fW/FtcGDcqMzNz2bKlkruUK6lZs+b//vcqSgAAoHSrQEBAwCXD+2lpaZKu+Em4N7SwpHHjxvn6+hZNxsTExMTEsG2uplKlSl5elS9cqCWdkDJnz36HHgAAsCxYsGDBggXF/3ossSrQqlWrdevWZWVlVa5c2ZqzZcsWSSEhIZcvHBISkpCQYJqmYRhFC3t5eQUFBV3xi8+cOfOS0wxxDW5ubp9//q8RI0adO5f93HMTO3fuTCYAgCv+OZ2cnBwWFnbtVa73tMEBAwYUFhbOmTPHmszNzZ03b167du1q164tKT09fe/evQUFBUULHz9+fOnS/38w++TJk4sWLerTp4+rqysbqUT07NnzxIn03Nzsv/zlL0V9CwCAm3C9owLh4eEDBw6cOHFiRkZG48aNP/roo8OHD8+bN896dsKECbGxsYcOHapXr55VBdq1azdq1Kjdu3dXq1Zt9uzZpmm+9tprxF2CaAAAgNtaBSTFxsa+/PLLH3/88ZkzZ1q2bLly5crIyMiit6Xi70w2m23VqlXPP//8rFmzsrOzw8PDY2NjmzZtStwAAJS5vy2t29ffKdYxjKSkJM4VAADgjrzP2ogJAABnRhUAAIAqAAAAqAIAAIAqAAAAqAIAAIAqAAAAqAIAAIAqAAAAqAIAAIAqAAAAqAIAAIAqAAAAqAIAAIAqAAAAqAIAAIAqAAAAqAIAAIAqAAAAqAIAAIAqAAAAqAIAAIAqAAAAqAIAAIAqAAAAqAIAAIAqAAAAqAIAAIAqAAAAqAIAAIAqAAAAqAIAAIAqAAAAqAIAAIAqAAAAqAIAAIAqAAAAqAIAAIAqAAAAqAIAAIAqAAAAqAIAAIAqAAAAqAIAAIAqAAAAqAIAAIAqAAAAqAIAAIAqAAAAqAIAAIAqAAAAqAIAAIAqAAAAVQAAAFAFAAAAVQAAAFAFAAAAVQAAAFAFAAAAVQAAAFAFAAAAVQAAAFAFAAAAVQAAAFAFAAAAVQAAAFAFAAAAVQAAAFAFAAAAVQAAAFAFAAAAVQAAAFAFAAAAVQAAAFAFAAAAVQAAAFAFAAAAVQAAAFAFAAAAVQAAAFAFAAAAVQAAAFAFAAAAVQAAAFAFAAAAVQAAAFAFAAAAVQAAAFAFAAAAVQAAAFAFAADAba0CmZmZo0ePrl69ure3d5cuXVJSUq6x8Kuvvmr7b56ensQNAEBZ43Kdyzkcjl69eu3YseOFF16oVq3a7NmzO3XqlJSU1KRJk2us9d5773l7e1uP7XY7cQMAUF6rwOLFizdt2rR48eL+/ftLGjRoUFBQ0KRJkz799NNrrDVgwAA/Pz9SBgCgzLreAwSLFy+uVauW1QMk+fv7Dxo0aPny5fn5+dceSzh37pxpmgQNAED5rgIpKSmhoaHF57Rp0+bixYv79u27xlqNGjXy9fWtUqXK8OHDMzIyiBsAgLLmeg8QpKWlderUqficgIAASampqXfffffly/v5+T3zzDPt27d3d3ePj49/5513tm7dmpiYWLlyZUIHAKAMVQHTNHNzc6+xhIeHh6ScnBx3d/fL52dnZ19xrbFjxxY97tevX3h4+MMPPzx79uzx48cTOgAAZYctLi6u0jVZhwA8PT0vaQw5OTnW/Ot5mZiYmFq1an333XckDgBA2RoVaNGixfz586+xRK1atSQFBASkpqYWn5+WliYpMDDwOl+pTp06p0+fvuJT48aN8/X1Ld4bYmJi2DYAANyoBQsWLFiwoGgyMzPzt6tAzZo1R4wY8ZvLhYSEJCQkmKZpGIY1Z8uWLV5eXkFBQdfznZmmeejQobCwsCs+O3PmzEvOSQQAADfhkj+nk5OTr/bmW+R6ryAYMGDA8ePHly5dak2ePHly0aJFffr0cXV1teYcPnx47969RcufOHGi+OrvvvvuyZMnu3fvzkYCAKBMud4rCAYMGNCuXbtRo0bt3r3butugaZqvvfZa0QIjRoyIj493OBzWZP369YcMGRIcHOzh4bF+/fqFCxe2atVqzJgxJA4AQLmsAjabbdWqVc8///ysWbOys7PDw8NjY2ObNm1atIBhGEXHDiQNGzZs48aNS5YsycnJadCgwfjx41988UXrogMAAFD+qoAkX1/f999///3337/is2vXri0+OWfOHMIFAKDs40OKAQCgCgAAAKoAAACgCgAAAKoAAACgCgAAAKoAAACgCgAAAKoAAACgCgAAAKoAAACgCgAAAKoAAACgCgAAAKoAAACgCgAAAKoAAACgCgAAAKoAAACgCgAAAKoAAACgCgAAAKoAAACgCgAAAKoASsCCBQsIgehIj+iIDlQBfjZAdKRHdEQHqgAAAKAKAAAAqgAAALgBLmXhm9izZw9b4iZkZmYmJyeTA9GRHtERHW7pHda8o1JTU5s3b86mAgCglDRv3jw1NfUa78WGaZp39ltMS0tLS0tjUwEAUBoCAgICAgKuscCdrwIAAOAO4rRBAACoAgAAgCoAAACoArdDZmbm6NGjq1ev7u3t3aVLl5SUlGss/Oqrr9r+m6enp5Nsm9zc3PHjxwcGBlaqVKldu3Zr1qwpqVRJr7j58+fbLpORkeGcuV24cGHSpEndu3f38/Oz2WwfA0H1RwAABkBJREFUffRRCf44Ex173RVt27bt6aefvvvuu729vevXrz948OD9+/ez15VGelfb8W73fQUcDkevXr127NjxwgsvVKtWbfbs2Z06dUpKSmrSpMk11nrvvfe8vb2tx3a73Uk28COPPLJkyZJnn322adOm8+bN69mz59q1azt06FBSqZJecZMnT27YsGHRpI+Pj3PmduLEicmTJ9evXz8kJGTdunWGYZT4jzPRsdddYurUqZs2bRo4cOC9996blpb29ttvh4aGbt68+e6772avK9n0rrrj3eYbCSxcuNAwjCVLlliTJ06cqFq16tChQ6+2/KRJkwzDOHXqlOlktmzZYhjG9OnTrcmcnJwmTZpERESUSKqkV9y8efMMw0hKSjJhmrm5ucePHzdNMzEx0TCMjz76qAR/nImOve6KNm7cmJ+fXzS5f/9+Dw+PYcOGsdeVeHpX2/Fu9wGCxYsX16pVq3///takv7//oEGDli9fnp+ff+0/Ps6dO+dU1z0uXrzYxcVl9OjR1qS7u/tjjz22adOmY8eOlVSqpFecaZpZWVmFhYVOfmDFzc2tRo0aViCl9ONMdOx1l2jfvr2Ly/8NUTdp0uSuu+7au3cve12Jp3e1He92V4GUlJTQ0NDic9q0aXPx4sV9+/ZdY61GjRr5+vpWqVJl+PDhTnI4LSUlJSgoqOiwiBWUpO3bt5dUqqRXXOfOnX18fLy8vB588MEDBw4IpfbjDPa632xIx48f9/f3Z68r8fSutuPd7iqQlpZ2yT2PrMnU1NQrLu/n5/fMM8/MmTNnyZIljz/++MKFC6OiorKysir85ryhoG40VdIrzsvLa9SoUbNnz162bNkLL7zw3XffRUREHD16lN8pJf7jDPa66/Hpp5+mpqYOHjyYva7E07vajldipw1ah8qusYCHh4eknJwcd3f3y+dnZ2dfca2xY8cWPe7Xr194ePjDDz88e/bs8ePHV+zNmZ2dff1B3WiqFd4NpTdw4MCBAwdajx944IFu3bpFR0dPmTLl3Xff5dfKtbHj3TT2uqvZu3fvU089FRERMXLkSPa6Ek/vajteiY0KxMXFVboma/TG09PzksaQk5Njzb+eV4mJialVq9Z3331X4bfoDQV1i6k6eXqX6NChQ9u2ba996SbY8UoWe50lPT29V69eVatWXbx48dUuwWCvu5X0rrbjldioQIsWLebPn3+NBWrVqmWN5FwyjGN9FlFgYOB1vlCdOnVOnz5d4TfqDQV166k6c3pX3Mc47ngbcgZ7XXFnz57t0aPHuXPnEhISrPcL9roST+9qO16JVYGaNWuOGDHiNxcLCQlJSEgwzf/X3vm7nhPHcfxOkciPgUFXUmJh8GNgMJzNcouuGAw3MCkxGJS/QooMxCbFZhAlMYhuMhikI8mvohgoP77Du+T7+eSb7/d7H4N7P6d734+uHve4H+/rfa+73Z9Zut2uWCzW6/Wv7OV2uzEMY7VaP/64ms3mZrO53+8lEskdFADIOlWO0/ue8XisVCrhzemnT2cYaN1jz54giNFoVK/X//znemjd/9B7Jt67hw2SJLlcLsvlMmhuNptSqUQQBJ/PB3Om0+njVxDr9fpx81QqtdlsXC7Xxx9akiQvl0smkwHN0+mUy+XsdjuGYQiCLBaL4XB4Pp9fpMq1/BW9L45Vq1Waprng2D8EiscWOmjdYy6Xi8fj6Xa7pVLJZrNB636O3jPx3v2T4uv16nA4BoNBNBoFhaJms1mv19PpdGAFHMdbrdb1egVNkUjk9XqNRqNQKGy328Vi0WQydTodME7ks+PxeCqVSiQS0Wq1+Xy+3+83Gg2Hw4EgCEVRhUKBYRi1Wv0KVQ7mdXo6nc5isVitVplMRtN0NpvFMKzX63G2i5ZMJne73Xw+T6fTbrcbvEoJhUJSqRSKxxY6aN1jwuFwIpEgCOI+og3E5/PByx279J6Jh7y/NNJ2u/X7/QqFQiwWO53OL2WPcBzn8Xj3ZiAQMBgMUqlUIBDo9fpYLHY4HDhSQ+p4PEajUZVKJRQKbTZbrVa7L6IoisfjTSaTF6lyMK/Ti8fjZrNZLpcLBAKNRhMMBlerFZfRaTQaFEVRFAX1ycEEwAXFYwsdtO77ZR/9PfcbAbSORXrPxPsFrsA1wPJ09KUAAAAASUVORK5CYII=\" />"
   ]
  },
  {
   "cell_type": "markdown",
   "metadata": {},
   "source": [
    "Using this, it’s easy to compute a vector’s _sum of squares_ :"
   ]
  },
  {
   "cell_type": "code",
   "execution_count": null,
   "metadata": {},
   "outputs": [],
   "source": [
    "def sum_of_squares(v):\n",
    "    \"\"\"v_1 * v_1 + ... + v_n * v_n\"\"\"\n",
    "    return dot(v, v)\n",
    "sum_of_squares([ 1, 2, 3, 4, 5 ])"
   ]
  },
  {
   "cell_type": "markdown",
   "metadata": {},
   "source": [
    "Which we can use to compute its _magnitude_ (or length):"
   ]
  },
  {
   "cell_type": "code",
   "execution_count": null,
   "metadata": {},
   "outputs": [],
   "source": [
    "import math\n",
    "def magnitude(v):\n",
    "    return math.sqrt(sum_of_squares(v))         # math.sqrt is square root function\n",
    "magnitude([1, 2, 3, 4, 5])"
   ]
  },
  {
   "cell_type": "markdown",
   "metadata": {},
   "source": [
    "We now have all the pieces we need to compute the distance between two vectors, defined as:\n",
    "\n",
    "$$ \\sqrt{(v_1-w_1)^2 + \\cdots + (v_n-w_n)^2} $$"
   ]
  },
  {
   "cell_type": "code",
   "execution_count": null,
   "metadata": {},
   "outputs": [],
   "source": [
    "def squared_distance(v, w):\n",
    "    \"\"\"(v_1 - w_1) ** 2 + ... + (v_n - w_n) ** 2\"\"\"\n",
    "    return sum_of_squares(vector_subtract(v, w))\n",
    "def distance(v, w):\n",
    "    return math.sqrt(squared_distance(v, w))\n",
    "distance([1, 2, 3, 4], [5, 6, 7, 8])"
   ]
  },
  {
   "cell_type": "markdown",
   "metadata": {},
   "source": [
    "Which is possibly clearer if we write it as (the equivalent):"
   ]
  },
  {
   "cell_type": "code",
   "execution_count": null,
   "metadata": {},
   "outputs": [],
   "source": [
    "def distance(v, w):\n",
    "    return magnitude(vector_subtract(v, w))\n",
    "distance([1, 2, 3, 4], [5, 6, 7, 8])"
   ]
  },
  {
   "cell_type": "markdown",
   "metadata": {},
   "source": [
    "That should be plenty to get us started. We’ll be using these functions heavily throughout the book.\n",
    "\n",
    "> **_Note_**<br>Using lists as vectors is great for exposition but terrible for performance.<br/>In production code, you would want to use the NumPy library, which includes a high-performance array class with all sorts of arithmetic operations included.\n",
    "\n",
    "# Matrices\n",
    "\n",
    "A _matrix_ is a two-dimensional collection of numbers. We will represent matrices as `lists` of `lists`, with each inner list having the same size and representing a row of the matrix. If A is a matrix, then `A[i][j]` is the element in the $i$th row and the $j$th column. Per mathematical convention, we will typically use capital letters to represent matrices. For example:"
   ]
  },
  {
   "cell_type": "code",
   "execution_count": null,
   "metadata": {},
   "outputs": [],
   "source": [
    "A = [[1, 2, 3],   # A has 2 rows and 3 columns\n",
    "     [4, 5, 6]]\n",
    "B = [[1, 2],      # B has 3 rows and 2 columns\n",
    "     [3, 4],\n",
    "     [5, 6]]\n",
    "print( A )\n",
    "print( B )"
   ]
  },
  {
   "cell_type": "markdown",
   "metadata": {},
   "source": [
    "> **_Note_**<br>In mathematics, you would usually name the first row of the matrix “row 1” and the first column “column 1.” Because we’re representing matrices with Python lists, which are zero-indexed, we’ll call the first row of a matrix “row 0” and the first column “column 0.”\n",
    "\n",
    "Given this list-of-lists representation, the matrix A has `len(A)` rows and `len(A[0])` columns, which we consider its shape:"
   ]
  },
  {
   "cell_type": "code",
   "execution_count": null,
   "metadata": {},
   "outputs": [],
   "source": [
    "def shape(A):\n",
    "    num_rows = len(A)\n",
    "    num_cols = len(A[0]) if A else 0        # number of elements in first row\n",
    "    return num_rows, num_cols\n",
    "shape([[1, 2, 3],\n",
    "       [4, 5, 6]])"
   ]
  },
  {
   "cell_type": "markdown",
   "metadata": {},
   "source": [
    "If a matrix has $n$ rows and $k$ columns, we will refer to it as a $n \\times k$ matrix. We can (and sometimes will) think of each row of a $n \\times k$ matrix as a vector of length $k$, and each column as a vector of length $n$:"
   ]
  },
  {
   "cell_type": "code",
   "execution_count": null,
   "metadata": {},
   "outputs": [],
   "source": [
    "def get_row(A, i):\n",
    "    return A[i]                 # A[i] is already the ith row\n",
    "def get_column(A, j):\n",
    "    return [A_i[j]              # jth element of row A_i\n",
    "            for A_i in A]       # for each row A_i\n",
    "A = [[1, 2, 3],\n",
    "     [4, 5, 6],\n",
    "     [7, 8, 9]]\n",
    "get_row(A, 0)\n",
    "get_column(A, 2)"
   ]
  },
  {
   "cell_type": "markdown",
   "metadata": {},
   "source": [
    "We’ll also want to be able to create a matrix given its shape and a function for generating its elements. We can do this using a nested list comprehension:"
   ]
  },
  {
   "cell_type": "code",
   "execution_count": null,
   "metadata": {},
   "outputs": [],
   "source": [
    "def make_matrix(num_rows, num_cols, entry_fn):\n",
    "    \"\"\"returns a num_rows x num_cols matrix\n",
    "    whose (i,j)th entry is entry_fn(i, j)\"\"\"\n",
    "    return [[entry_fn(i, j)             # given i, create a list\n",
    "             for j in range(num_cols)]  #    [entry_fn(i, 0), ... ]\n",
    "            for i in range(num_rows)]   # create one list for each i"
   ]
  },
  {
   "cell_type": "markdown",
   "metadata": {},
   "source": [
    "Given this function, you could make a $5 \\times 5$ _identity matrix_ (with `1`s on the diagonal and `0`s elsewhere) with:"
   ]
  },
  {
   "cell_type": "code",
   "execution_count": null,
   "metadata": {},
   "outputs": [],
   "source": [
    "def is_diagonal(i, j):\n",
    "    \"\"\"1's on the 'diagonal', 0's everywhere else\"\"\"\n",
    "    return 1 if i == j else 0\n",
    "identity_matrix = make_matrix(5, 5, is_diagonal)\n",
    "identity_matrix"
   ]
  },
  {
   "cell_type": "markdown",
   "metadata": {},
   "source": [
    "Output:<br>`\n",
    "[[1, 0, 0, 0, 0],\n",
    " [0, 1, 0, 0, 0],\n",
    " [0, 0, 1, 0, 0],\n",
    " [0, 0, 0, 1, 0],\n",
    " [0, 0, 0, 0, 1]]\n",
    "    `"
   ]
  },
  {
   "cell_type": "markdown",
   "metadata": {},
   "source": [
    "Matrices will be important to us for several reasons.\n",
    "\n",
    "First, we can use a matrix to represent a data set consisting of multiple vectors, simply by considering each vector as a row of the matrix. For example, if you had the heights, weights, and ages of 1,000 people you could put them in a $1,000 \\times 3$ matrix:"
   ]
  },
  {
   "cell_type": "code",
   "execution_count": null,
   "metadata": {},
   "outputs": [],
   "source": [
    "data = [[70, 170, 40],\n",
    "        [65, 120, 26],\n",
    "        [77, 250, 19],\n",
    "        # ....\n",
    "       ]"
   ]
  },
  {
   "cell_type": "markdown",
   "metadata": {},
   "source": [
    "Second, as we’ll see later, we can use an $n \\times k$ matrix to represent a linear function that maps $k$-dimensional vectors to $n$-dimensional vectors. Several of our techniques and concepts will involve such functions.\n",
    "\n",
    "Third, matrices can be used to represent binary relationships. In Chapter 1, we represented the edges of a network as a collection of pairs `(i, j)`. An alternative representation would be to create a matrix $A$ such that `A[i][j]` is `1` if nodes $i$ and $j$ are connected and `0` otherwise.\n",
    "\n",
    "Recall that before we had:"
   ]
  },
  {
   "cell_type": "code",
   "execution_count": null,
   "metadata": {},
   "outputs": [],
   "source": [
    "friendships = [(0, 1), (0, 2), (1, 2), (1, 3), (2, 3), (3, 4),\n",
    "               (4, 5), (5, 6), (5, 7), (6, 8), (7, 8), (8, 9)]\n",
    "friendships"
   ]
  },
  {
   "cell_type": "markdown",
   "metadata": {},
   "source": [
    "We could also represent this as:"
   ]
  },
  {
   "cell_type": "code",
   "execution_count": null,
   "metadata": {},
   "outputs": [],
   "source": [
    "     #     user 0    1    2    3    4    5    6    7    8    9\n",
    "     #\n",
    "friendships = [[0,   1,   1,   0,   0,   0,   0,   0,   0,   0],   #   user   0\n",
    "               [1,   0,   1,   1,   0,   0,   0,   0,   0,   0],   #   user   1\n",
    "               [1,   1,   0,   1,   0,   0,   0,   0,   0,   0],   #   user   2\n",
    "               [0,   1,   1,   0,   1,   0,   0,   0,   0,   0],   #   user   3\n",
    "               [0,   0,   0,   1,   0,   1,   0,   0,   0,   0],   #   user   4\n",
    "               [0,   0,   0,   0,   1,   0,   1,   1,   0,   0],   #   user   5\n",
    "               [0,   0,   0,   0,   0,   1,   0,   0,   1,   0],   #   user   6\n",
    "               [0,   0,   0,   0,   0,   1,   0,   0,   1,   0],   #   user   7\n",
    "               [0,   0,   0,   0,   0,   0,   1,   1,   0,   1],   #   user   8\n",
    "               [0,   0,   0,   0,   0,   0,   0,   0,   1,   0]]   #   user   9\n",
    "friendships"
   ]
  },
  {
   "cell_type": "markdown",
   "metadata": {},
   "source": [
    "If there are very few connections, this is a much more inefficient representation, since you end up having to store a lot of zeroes. However, with the matrix representation it is much quicker to check whether two nodes are connected—you just have to do a matrix lookup instead of (potentially) inspecting every edge:"
   ]
  },
  {
   "cell_type": "code",
   "execution_count": null,
   "metadata": {},
   "outputs": [],
   "source": [
    "friendships[0][2] == 1         # True, 0 and 2 are friends\n",
    "friendships[0][8] == 1         # False, 0 and 8 are not friends"
   ]
  },
  {
   "cell_type": "markdown",
   "metadata": {},
   "source": [
    "Similarly, to find the connections a node has, you only need to inspect the column (or the row) corresponding to that node:"
   ]
  },
  {
   "cell_type": "code",
   "execution_count": null,
   "metadata": {},
   "outputs": [],
   "source": [
    "friends_of_five = [\n",
    "    i                                             # only need\n",
    "    for i, is_friend in enumerate(friendships[5]) # to look at\n",
    "    if is_friend                                  # one row\n",
    "]\n",
    "friends_of_five"
   ]
  },
  {
   "cell_type": "markdown",
   "metadata": {},
   "source": [
    "Previously we added a list of connections to each node object to speed up this process, but for a large, evolving graph that would probably be too expensive and difficult to maintain.\n",
    "\n",
    "We’ll revisit matrices throughout the book.\n",
    "\n",
    "# For Further Exploration\n",
    "\n",
    "For Further Exploration\n",
    "\n",
    "- \n",
    "Linear algebra is widely used by data scientists (frequently implicitly, and not infrequently by people who don’t understand it). It wouldn’t be a bad idea to read a textbook. You can find several freely available online:\"\n",
    "-- Linear Algebra, from UC Davis\n",
    "-- Linear Algebra, from Saint Michael’s College\n",
    "-- If you are feeling adventurous, Linear Algebra Done Wrong is a more advanced introduction\n",
    "- All of the machinery we built here you get for free if you use NumPy. (You get a lot more too.)"
   ]
  }
 ],
 "metadata": {},
 "nbformat": 4,
 "nbformat_minor": 2
}
