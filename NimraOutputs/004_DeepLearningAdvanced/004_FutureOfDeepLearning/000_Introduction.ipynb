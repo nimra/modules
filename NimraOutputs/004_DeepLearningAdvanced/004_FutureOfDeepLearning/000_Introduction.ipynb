{
 "cells": [
  {
   "cell_type": "markdown",
   "metadata": {},
   "source": [
    "# Introduction\n",
    "\n",
    "In this book, we have covered the foundations of modern deep learning. We’ve discussed a wide variety of algorithms, and delved deeply into a number of sophisticated case studies. Readers who’ve been working through the examples covered in this book are now well prepared to use deep learning on the job, and to start reading the large research literature on deep learning methods.\n",
    "\n",
    "It’s worth emphasizing how unique this skill set is. Deep learning has had tremendous impact in the technology industry already, but deep learning is beginning to dramatically alter the state of essentially all nontech industries and to even shift the global geopolitical balance. Your understanding of this epochal technology will open many doors you may not have envisioned. In this final chapter, we will briefly survey some of the important applications of deep learning outside the software industry.\n",
    "\n",
    "We will also use this chapter to help you answer the question of how to use your new knowledge effectively and ethically. Deep learning is a technology of such power that it’s important for practitioners to think about how to use their skills properly. There have already been numerous misuses of deep learning, so it behooves new practitioners to pause before building sophisticated deep learning systems to ask whether the systems they are building are ethically sound. We will attempt to provide a brief discussion of ethical best practices, but caution the area of software ethics is complex enough that brief discussions are unlikely to do it full justice.\n",
    "\n",
    "Finally, we will examine where deep learning is going. Is deep learning the first step toward building artificially general intelligences, computational entities that have the full range of abilities of humans? There exist a wide range of expert opinions, which we survey."
   ]
  }
 ],
 "metadata": {},
 "nbformat": 4,
 "nbformat_minor": 2
}
