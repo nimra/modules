{
 "cells": [
  {
   "cell_type": "markdown",
   "metadata": {},
   "source": [
    "# Data Wrangling: Join, Combine, and Reshape"
   ]
  },
  {
   "cell_type": "markdown",
   "metadata": {},
   "source": [
    "In many applications, data may be spread across a number of files or databases or be arranged in a form that is not easy to analyze. This chapter focuses on tools to help combine, join, and rearrange data."
   ]
  },
  {
   "cell_type": "markdown",
   "metadata": {},
   "source": [
    "First, I introduce the concept of hierarchical indexing in pandas, which is used extensively in some of these operations. I then dig into the particular data manipulations. You can see various applied usages of these tools in Chapter 14."
   ]
  },
  {
   "cell_type": "markdown",
   "metadata": {},
   "source": [
    "# Hierarchical Indexing"
   ]
  },
  {
   "cell_type": "markdown",
   "metadata": {},
   "source": [
    "Hierarchical indexing is an important feature of pandas that enables you to have multiple (two or more) index levels on an axis. Somewhat abstractly, it provides a way for you to work with higher dimensional data in a lower dimensional form. Let’s start with a simple example; create a Series with a list of lists (or arrays) as the index:"
   ]
  },
  {
   "cell_type": "code",
   "execution_count": null,
   "metadata": {},
   "outputs": [],
   "source": [
    "data = pd.Series(np.random.randn(9),\n",
    "                 index=[['a', 'a', 'a', 'b', 'b', 'c', 'c', 'd', 'd'],\n",
    "                        [1, 2, 3, 1, 3, 1, 2, 2, 3]])\n",
    "data"
   ]
  },
  {
   "cell_type": "markdown",
   "metadata": {},
   "source": [
    "Output:<br>`\n",
    "a 1    -0.204708\n",
    "  2     0.478943\n",
    "  3   -0.519439\n",
    "b 1    -0.555730\n",
    "  3     1.965781\n",
    "c 1      1.393406\n",
    "  2     0.092908\n",
    "d 2      0.281746\n",
    "  3    0.769023\n",
    "dtype: float64\n",
    "    `"
   ]
  },
  {
   "cell_type": "markdown",
   "metadata": {},
   "source": [
    "What you’re seeing is a prettified view of a Series with a MultiIndex as its index. The “gaps” in the index display mean “use the label directly above”:"
   ]
  },
  {
   "cell_type": "code",
   "execution_count": null,
   "metadata": {},
   "outputs": [],
   "source": [
    "data.index"
   ]
  },
  {
   "cell_type": "markdown",
   "metadata": {},
   "source": [
    "Output:<br>`\n",
    "MultiIndex(levels=[['a', 'b', 'c', 'd'], [1, 2, 3]],\n",
    "           labels=[[0, 0, 0, 1, 1, 2, 2, 3, 3], [0, 1, 2, 0, 2, 0, 1, 1, 2]])\n",
    "    `"
   ]
  },
  {
   "cell_type": "markdown",
   "metadata": {},
   "source": [
    "With a hierarchically indexed object, so-called partial indexing is possible, enabling you to concisely select subsets of the data:"
   ]
  },
  {
   "cell_type": "code",
   "execution_count": null,
   "metadata": {},
   "outputs": [],
   "source": [
    "data['b']"
   ]
  },
  {
   "cell_type": "markdown",
   "metadata": {},
   "source": [
    "Output:<br>`\n",
    "1   -0.555730\n",
    "3    1.965781\n",
    "dtype: float64\n",
    "    `"
   ]
  },
  {
   "cell_type": "code",
   "execution_count": null,
   "metadata": {},
   "outputs": [],
   "source": [
    "data['b':'c']"
   ]
  },
  {
   "cell_type": "markdown",
   "metadata": {},
   "source": [
    "Output:<br>`\n",
    "b 1    -0.555730\n",
    "  3     1.965781\n",
    "c 1      1.393406\n",
    "  2     0.092908\n",
    "dtype: float64\n",
    "    `"
   ]
  },
  {
   "cell_type": "code",
   "execution_count": null,
   "metadata": {},
   "outputs": [],
   "source": [
    "data.loc[['b', 'd']]"
   ]
  },
  {
   "cell_type": "markdown",
   "metadata": {},
   "source": [
    "Output:<br>`\n",
    "b 1    -0.555730\n",
    "  3     1.965781\n",
    "d 2      0.281746\n",
    "  3     0.769023\n",
    "dtype: float64\n",
    "    `"
   ]
  },
  {
   "cell_type": "markdown",
   "metadata": {},
   "source": [
    "Selection is even possible from an “inner” level:"
   ]
  },
  {
   "cell_type": "code",
   "execution_count": null,
   "metadata": {},
   "outputs": [],
   "source": [
    "data.loc[:, 2]"
   ]
  },
  {
   "cell_type": "markdown",
   "metadata": {},
   "source": [
    "Output:<br>`\n",
    "a    0.478943\n",
    "c    0.092908\n",
    "d    0.281746\n",
    "dtype: float64\n",
    "    `"
   ]
  },
  {
   "cell_type": "markdown",
   "metadata": {},
   "source": [
    "Hierarchical indexing plays an important role in reshaping data and group-based operations like forming a pivot table. For example, you could rearrange the data into a DataFrame using its unstack method:"
   ]
  },
  {
   "cell_type": "code",
   "execution_count": null,
   "metadata": {},
   "outputs": [],
   "source": [
    "data.unstack()"
   ]
  },
  {
   "cell_type": "markdown",
   "metadata": {},
   "source": [
    "Output:<br>`\n",
    "          1         2        3\n",
    "a -0.204708 0.478943 -0.519439\n",
    "b -0.555730       NaN 1.965781\n",
    "c 1.393406 0.092908            NaN\n",
    "d      NaN 0.281746       0.769023\n",
    "    `"
   ]
  },
  {
   "cell_type": "markdown",
   "metadata": {},
   "source": [
    "The inverse operation of unstack is stack:"
   ]
  },
  {
   "cell_type": "code",
   "execution_count": null,
   "metadata": {},
   "outputs": [],
   "source": [
    "data.unstack().stack()"
   ]
  },
  {
   "cell_type": "markdown",
   "metadata": {},
   "source": [
    "Output:<br>`\n",
    "a 1    -0.204708\n",
    "  2     0.478943\n",
    "  3   -0.519439\n",
    "b 1    -0.555730\n",
    "  3     1.965781\n",
    "c 1      1.393406\n",
    "  2     0.092908\n",
    "d 2      0.281746\n",
    "  3     0.769023\n",
    "dtype: float64\n",
    "    `"
   ]
  },
  {
   "cell_type": "markdown",
   "metadata": {},
   "source": [
    "stack and unstack will be explored in more detail later in this chapter."
   ]
  },
  {
   "cell_type": "markdown",
   "metadata": {},
   "source": [
    "With a DataFrame, either axis can have a hierarchical index:"
   ]
  },
  {
   "cell_type": "code",
   "execution_count": null,
   "metadata": {},
   "outputs": [],
   "source": [
    "frame = pd.DataFrame(np.arange(12).reshape((4, 3)),\n",
    "                     index=[['a', 'a', 'b', 'b'], [1, 2, 1, 2]],\n",
    "                     columns=[['Ohio', 'Ohio', 'Colorado'],\n",
    "                              ['Green', 'Red', 'Green']])\n",
    "frame"
   ]
  },
  {
   "cell_type": "markdown",
   "metadata": {},
   "source": [
    "Output:<br>`\n",
    "     Ohio      Colorado\n",
    "    Green Red     Green\n",
    "a 1      0  1         2\n",
    "  2      3  4         5\n",
    "b 1      6  7         8\n",
    "  2      9 10        11\n",
    "    `"
   ]
  },
  {
   "cell_type": "markdown",
   "metadata": {},
   "source": [
    "The hierarchical levels can have names (as strings or any Python objects). If so, these will show up in the console output:"
   ]
  },
  {
   "cell_type": "code",
   "execution_count": null,
   "metadata": {},
   "outputs": [],
   "source": [
    "frame.index.names = ['key1', 'key2']\n",
    "frame.columns.names = ['state', 'color']\n",
    "frame"
   ]
  },
  {
   "cell_type": "markdown",
   "metadata": {},
   "source": [
    "Output:<br>`\n",
    "state      Ohio     Colorado\n",
    "color     Green Red    Green\n",
    "key1 key2\n",
    "a     1        0  1        2\n",
    "      2        3  4        5\n",
    "b     1        6  7        8\n",
    "      2        9 10       11\n",
    "    `"
   ]
  },
  {
   "cell_type": "markdown",
   "metadata": {},
   "source": [
    "<div style=\"border: 1px solid black; padding: 10px;\"><b style=\"font-size: 2em;\">Note</b><br> Be careful to distinguish the index names 'state' and 'color' from the row labels.</div>"
   ]
  },
  {
   "cell_type": "markdown",
   "metadata": {},
   "source": [
    "With partial column indexing you can similarly select groups of columns:"
   ]
  },
  {
   "cell_type": "code",
   "execution_count": null,
   "metadata": {},
   "outputs": [],
   "source": [
    "frame['Ohio']"
   ]
  },
  {
   "cell_type": "markdown",
   "metadata": {},
   "source": [
    "Output:<br>`\n",
    "color      Green Red\n",
    "key1 key2\n",
    "a     1        0    1\n",
    "      2        3    4\n",
    "b     1        6    7\n",
    "      2        9   10\n",
    "    `"
   ]
  },
  {
   "cell_type": "markdown",
   "metadata": {},
   "source": [
    "A MultiIndex can be created by itself and then reused; the columns in the preceding DataFrame with level names could be created like this:"
   ]
  },
  {
   "cell_type": "code",
   "execution_count": null,
   "metadata": {},
   "outputs": [],
   "source": [
    "MultiIndex.from_arrays([['Ohio', 'Ohio', 'Colorado'], ['Green', 'Red', 'Green']],\n",
    "                       names=['state', 'color'])"
   ]
  },
  {
   "cell_type": "markdown",
   "metadata": {},
   "source": [
    "# Reordering and Sorting Levels"
   ]
  },
  {
   "cell_type": "markdown",
   "metadata": {},
   "source": [
    "At times you will need to rearrange the order of the levels on an axis or sort the data by the values in one specific level. The swaplevel takes two level numbers or names and returns a new object with the levels interchanged (but the data is otherwise unaltered):"
   ]
  },
  {
   "cell_type": "code",
   "execution_count": null,
   "metadata": {},
   "outputs": [],
   "source": [
    "frame.swaplevel('key1', 'key2')"
   ]
  },
  {
   "cell_type": "markdown",
   "metadata": {},
   "source": [
    "Output:<br>`\n",
    "state      Ohio     Colorado\n",
    "color     Green Red    Green\n",
    "key2 key1\n",
    "1     a       0   1        2\n",
    "2     a       3   4        5\n",
    "1     b       6   7        8\n",
    "2     b       9 10        11\n",
    "    `"
   ]
  },
  {
   "cell_type": "markdown",
   "metadata": {},
   "source": [
    "sort_index, on the other hand, sorts the data using only the values in a single level. When swapping levels, it’s not uncommon to also use sort_index so that the result is lexicographically sorted by the indicated level:"
   ]
  },
  {
   "cell_type": "code",
   "execution_count": null,
   "metadata": {},
   "outputs": [],
   "source": [
    "frame.sort_index(level=1)"
   ]
  },
  {
   "cell_type": "markdown",
   "metadata": {},
   "source": [
    "Output:<br>`\n",
    "state      Ohio     Colorado\n",
    "color     Green Red    Green\n",
    "key1 key2\n",
    "a     1       0   1        2\n",
    "b     1       6   7        8\n",
    "a     2       3   4        5\n",
    "b    2         9   10       11\n",
    "    `"
   ]
  },
  {
   "cell_type": "code",
   "execution_count": null,
   "metadata": {},
   "outputs": [],
   "source": [
    "frame.swaplevel(0, 1).sort_index(level=0)"
   ]
  },
  {
   "cell_type": "markdown",
   "metadata": {},
   "source": [
    "Output:<br>`\n",
    "state      Ohio     Colorado\n",
    "color     Green Red    Green\n",
    "key2 key1\n",
    "1     a       0   1        2\n",
    "      b       6   7        8\n",
    "2     a       3   4        5\n",
    "      b       9 10        11\n",
    "    `"
   ]
  },
  {
   "cell_type": "markdown",
   "metadata": {},
   "source": [
    "<div style=\"border: 1px solid black; padding: 10px;\"><b style=\"font-size: 2em;\">Note</b><br> Data selection performance is much better on hierarchically indexed objects if the index is lexicographically sorted starting with the outermost level—that is, the result of calling sort_index(level=0) or sort_index().</div>"
   ]
  },
  {
   "cell_type": "markdown",
   "metadata": {},
   "source": [
    "# Summary Statistics by Level"
   ]
  },
  {
   "cell_type": "markdown",
   "metadata": {},
   "source": [
    "Many descriptive and summary statistics on DataFrame and Series have a level option in which you can specify the level you want to aggregate by on a particular axis. Consider the above DataFrame; we can aggregate by level on either the rows or columns like so:"
   ]
  },
  {
   "cell_type": "code",
   "execution_count": null,
   "metadata": {},
   "outputs": [],
   "source": [
    "frame.sum(level='key2')"
   ]
  },
  {
   "cell_type": "markdown",
   "metadata": {},
   "source": [
    "Output:<br>`\n",
    "state Ohio      Colorado\n",
    "color Green Red    Green\n",
    "key2\n",
    "1         6   8       10\n",
    "2        12 14        16\n",
    "    `"
   ]
  },
  {
   "cell_type": "code",
   "execution_count": null,
   "metadata": {},
   "outputs": [],
   "source": [
    "frame.sum(level='color', axis=1)"
   ]
  },
  {
   "cell_type": "markdown",
   "metadata": {},
   "source": [
    "Output:<br>`\n",
    "color      Green Red\n",
    "key1 key2\n",
    "a     1        2    1\n",
    "      2        8    4\n",
    "b     1       14    7\n",
    "      2       20   10\n",
    "    `"
   ]
  },
  {
   "cell_type": "markdown",
   "metadata": {},
   "source": [
    "Under the hood, this utilizes pandas’s groupby machinery, which will be discussed in more detail later in the book."
   ]
  },
  {
   "cell_type": "markdown",
   "metadata": {},
   "source": [
    "# Indexing with a DataFrame’s columns"
   ]
  },
  {
   "cell_type": "markdown",
   "metadata": {},
   "source": [
    "It’s not unusual to want to use one or more columns from a DataFrame as the row index; alternatively, you may wish to move the row index into the DataFrame’s columns. Here’s an example DataFrame:"
   ]
  },
  {
   "cell_type": "code",
   "execution_count": null,
   "metadata": {},
   "outputs": [],
   "source": [
    "frame = pd.DataFrame({'a': range(7), 'b': range(7, 0, -1),\n",
    "                      'c': ['one', 'one', 'one', 'two', 'two',\n",
    "                            'two', 'two'],\n",
    "                      'd': [0, 1, 2, 0, 1, 2, 3]})\n",
    "frame"
   ]
  },
  {
   "cell_type": "markdown",
   "metadata": {},
   "source": [
    "Output:<br>`\n",
    "   a b       c   d\n",
    "0 0 7      one   0\n",
    "1 1 6      one   1\n",
    "2 2 5      one   2\n",
    "3 3 4      two   0\n",
    "4 4 3      two   1\n",
    "5 5 2      two   2\n",
    "6 6 1      two   3\n",
    "    `"
   ]
  },
  {
   "cell_type": "markdown",
   "metadata": {},
   "source": [
    "DataFrame’s set_index function will create a new DataFrame using one or more of its columns as the index:"
   ]
  },
  {
   "cell_type": "code",
   "execution_count": null,
   "metadata": {},
   "outputs": [],
   "source": [
    "frame2 = frame.set_index(['c', 'd'])\n",
    "frame2"
   ]
  },
  {
   "cell_type": "markdown",
   "metadata": {},
   "source": [
    "Output:<br>`\n",
    "      a b\n",
    "c   d\n",
    "one 0 0 7\n",
    "    1 1 6\n",
    "    2 2 5\n",
    "two 0 3 4\n",
    "    1 4 3\n",
    "    2 5 2\n",
    "    3 6 1\n",
    "    `"
   ]
  },
  {
   "cell_type": "markdown",
   "metadata": {},
   "source": [
    "By default the columns are removed from the DataFrame, though you can leave them in:"
   ]
  },
  {
   "cell_type": "code",
   "execution_count": null,
   "metadata": {},
   "outputs": [],
   "source": [
    "frame.set_index(['c', 'd'], drop=False)"
   ]
  },
  {
   "cell_type": "markdown",
   "metadata": {},
   "source": [
    "Output:<br>`\n",
    "       a b     c d\n",
    "c   d\n",
    "one 0 0 7 one 0\n",
    "    1 1 6 one 1\n",
    "    2 2 5 one 2\n",
    "two 0 3 4 two 0\n",
    "    1 4 3 two 1\n",
    "    2 5 2 two 2\n",
    "    3 6 1 two 3\n",
    "    `"
   ]
  },
  {
   "cell_type": "markdown",
   "metadata": {},
   "source": [
    "reset_index, on the other hand, does the opposite of set_index; the hierarchical index levels are moved into the columns:"
   ]
  },
  {
   "cell_type": "code",
   "execution_count": null,
   "metadata": {},
   "outputs": [],
   "source": [
    "frame2.reset_index()"
   ]
  },
  {
   "cell_type": "markdown",
   "metadata": {},
   "source": [
    "Output:<br>`\n",
    "     c d a b\n",
    "0 one 0 0 7\n",
    "1 one 1 1 6\n",
    "2 one 2 2 5\n",
    "3 two 0 3 4\n",
    "4 two 1 4 3\n",
    "5 two 2 5 2\n",
    "6 two 3 6 1\n",
    "    `"
   ]
  },
  {
   "cell_type": "markdown",
   "metadata": {},
   "source": [
    "# Combining and Merging Datasets"
   ]
  },
  {
   "cell_type": "markdown",
   "metadata": {},
   "source": [
    "Data contained in pandas objects can be combined together in a number of ways:"
   ]
  },
  {
   "cell_type": "markdown",
   "metadata": {},
   "source": [
    "- pandas.merge connects rows in DataFrames based on one or more keys. This will be familiar to users of SQL or other relational databases, as it implements database join operations.\n",
    "- pandas.concat concatenates or “stacks” together objects along an axis.\n",
    "- The combine_first instance method enables splicing together overlapping data to fill in missing values in one object with values from another."
   ]
  },
  {
   "cell_type": "markdown",
   "metadata": {},
   "source": [
    "I will address each of these and give a number of examples. They’ll be utilized in examples throughout the rest of the book."
   ]
  },
  {
   "cell_type": "markdown",
   "metadata": {},
   "source": [
    "# Database-Style DataFrame Joins"
   ]
  },
  {
   "cell_type": "markdown",
   "metadata": {},
   "source": [
    "Merge or join operations combine datasets by linking rows using one or more keys. These operations are central to relational databases (e.g., SQL-based). The merge function in pandas is the main entry point for using these algorithms on your data."
   ]
  },
  {
   "cell_type": "markdown",
   "metadata": {},
   "source": [
    "Let’s start with a simple example:"
   ]
  },
  {
   "cell_type": "code",
   "execution_count": null,
   "metadata": {},
   "outputs": [],
   "source": [
    "df1 = pd.DataFrame({'key': ['b', 'b', 'a', 'c', 'a', 'a', 'b'],\n",
    "                    'data1': range(7)})\n",
    "df2 = pd.DataFrame({'key': ['a', 'b', 'd'],\n",
    "                    'data2': range(3)})"
   ]
  },
  {
   "cell_type": "code",
   "execution_count": null,
   "metadata": {},
   "outputs": [],
   "source": [
    "df1"
   ]
  },
  {
   "cell_type": "markdown",
   "metadata": {},
   "source": [
    "Output:<br>`\n",
    "   data1 key\n",
    "0      0   b\n",
    "1      1   b\n",
    "2      2   a\n",
    "3      3   c\n",
    "4      4   a\n",
    "5      5   a\n",
    "6      6   b\n",
    "    `"
   ]
  },
  {
   "cell_type": "code",
   "execution_count": null,
   "metadata": {},
   "outputs": [],
   "source": [
    "df2"
   ]
  },
  {
   "cell_type": "markdown",
   "metadata": {},
   "source": [
    "Output:<br>`\n",
    "   data2 key\n",
    "0      0   a\n",
    "1      1   b\n",
    "2      2   d\n",
    "    `"
   ]
  },
  {
   "cell_type": "markdown",
   "metadata": {},
   "source": [
    "This is an example of a many-to-one join; the data in df1 has multiple rows labeled a and b, whereas df2 has only one row for each value in the key column. Calling merge with these objects we obtain:"
   ]
  },
  {
   "cell_type": "code",
   "execution_count": null,
   "metadata": {},
   "outputs": [],
   "source": [
    "pd.merge(df1, df2)"
   ]
  },
  {
   "cell_type": "markdown",
   "metadata": {},
   "source": [
    "Output:<br>`\n",
    "    data1 key data2\n",
    "0      0 b        1\n",
    "1      1 b        1\n",
    "2      6 b        1\n",
    "3      2 a        0\n",
    "4      4 a        0\n",
    "5      5 a        0\n",
    "    `"
   ]
  },
  {
   "cell_type": "markdown",
   "metadata": {},
   "source": [
    "Note that I didn’t specify which column to join on. If that information is not specified, merge uses the overlapping column names as the keys. It’s a good practice to specify explicitly, though:"
   ]
  },
  {
   "cell_type": "code",
   "execution_count": null,
   "metadata": {},
   "outputs": [],
   "source": [
    "pd.merge(df1, df2, on='key')"
   ]
  },
  {
   "cell_type": "markdown",
   "metadata": {},
   "source": [
    "Output:<br>`\n",
    "    data1 key data2\n",
    "0      0   b      1\n",
    "1      1   b      1\n",
    "2      6   b      1\n",
    "3      2   a      0\n",
    "4      4   a      0\n",
    "5      5   a      0\n",
    "    `"
   ]
  },
  {
   "cell_type": "markdown",
   "metadata": {},
   "source": [
    "If the column names are different in each object, you can specify them separately:"
   ]
  },
  {
   "cell_type": "code",
   "execution_count": null,
   "metadata": {},
   "outputs": [],
   "source": [
    "df3 = pd.DataFrame({'lkey': ['b', 'b', 'a', 'c', 'a', 'a', 'b'],\n",
    "                    'data1': range(7)})\n",
    "df4 = pd.DataFrame({'rkey': ['a', 'b', 'd'],\n",
    "                    'data2': range(3)})\n",
    "pd.merge(df3, df4, left_on='lkey', right_on='rkey')"
   ]
  },
  {
   "cell_type": "markdown",
   "metadata": {},
   "source": [
    "Output:<br>`\n",
    "    data1 lkey data2 rkey\n",
    "0      0    b      1    b\n",
    "1      1    b      1    b\n",
    "2      6    b      1    b\n",
    "3      2    a      0    a\n",
    "4      4    a      0    a\n",
    "5      5    a      0    a\n",
    "    `"
   ]
  },
  {
   "cell_type": "markdown",
   "metadata": {},
   "source": [
    "You may notice that the 'c' and 'd' values and associated data are missing from the result. By default merge does an 'inner' join; the keys in the result are the intersection, or the common set found in both tables. Other possible options are 'left', 'right', and 'outer'. The outer join takes the union of the keys, combining the effect of applying both left and right joins:"
   ]
  },
  {
   "cell_type": "code",
   "execution_count": null,
   "metadata": {},
   "outputs": [],
   "source": [
    "pd.merge(df1, df2, how='outer')"
   ]
  },
  {
   "cell_type": "markdown",
   "metadata": {},
   "source": [
    "Output:<br>`\n",
    "    data1 key data2\n",
    "0    0.0   b    1.0\n",
    "1    1.0   b    1.0\n",
    "2    6.0   b    1.0\n",
    "3    2.0   a    0.0\n",
    "4    4.0   a    0.0\n",
    "5    5.0   a    0.0\n",
    "6    3.0   c    NaN\n",
    "7    NaN   d    2.0\n",
    "    `"
   ]
  },
  {
   "cell_type": "markdown",
   "metadata": {},
   "source": [
    "See Table 8-1 for a summary of the options for how."
   ]
  },
  {
   "cell_type": "markdown",
   "metadata": {},
   "source": [
    "_Table 8-1. Different join types with how argument_"
   ]
  },
  {
   "cell_type": "markdown",
   "metadata": {},
   "source": [
    "| Option | Behavior |\n",
    "|--------|-----------------------------------|\n",
    "| 'inner'  | Use only the key combinations observed in both tables |\n",
    "| 'left'   | Use all key combinations found in the left table |\n",
    "| 'right'  | Use all key combinations found in the right table |\n",
    "| 'output' | Use all key combinations observed in both tables together |"
   ]
  },
  {
   "cell_type": "markdown",
   "metadata": {},
   "source": [
    "Many-to-many merges have well-defined, though not necessarily intuitive, behavior. Here’s an example:"
   ]
  },
  {
   "cell_type": "code",
   "execution_count": null,
   "metadata": {},
   "outputs": [],
   "source": [
    "df1 = pd.DataFrame({'key': ['b', 'b', 'a', 'c', 'a', 'b'],\n",
    "                    'data1': range(6)})\n",
    "df2 = pd.DataFrame({'key': ['a', 'b', 'a', 'b', 'd'],\n",
    "                    'data2': range(5)})"
   ]
  },
  {
   "cell_type": "code",
   "execution_count": null,
   "metadata": {},
   "outputs": [],
   "source": [
    "df1"
   ]
  },
  {
   "cell_type": "markdown",
   "metadata": {},
   "source": [
    "Output:<br>`\n",
    "   data1 key\n",
    "0      0   b\n",
    "1      1   b\n",
    "2      2   a\n",
    "3      3   c\n",
    "4      4   a\n",
    "5      5   b\n",
    "    `"
   ]
  },
  {
   "cell_type": "code",
   "execution_count": null,
   "metadata": {},
   "outputs": [],
   "source": [
    "df2"
   ]
  },
  {
   "cell_type": "markdown",
   "metadata": {},
   "source": [
    "Output:<br>`\n",
    "   data2 key\n",
    "0      0   a\n",
    "1      1   b\n",
    "2      2   a\n",
    "3      3   b\n",
    "4      4   d\n",
    "    `"
   ]
  },
  {
   "cell_type": "code",
   "execution_count": null,
   "metadata": {},
   "outputs": [],
   "source": [
    "pd.merge(df1, df2, on='key', how='left')"
   ]
  },
  {
   "cell_type": "markdown",
   "metadata": {},
   "source": [
    "Output:<br>`\n",
    "    data1 key data2\n",
    "0        0  b    1.0\n",
    "1        0  b    3.0\n",
    "2        1  b    1.0\n",
    "3        1  b    3.0\n",
    "4        2  a    0.0\n",
    "5        2  a    2.0\n",
    "6        3  c    NaN\n",
    "7        4  a    0.0\n",
    "8        4  a    2.0\n",
    "9        5  b    1.0\n",
    "10       5  b    3.0\n",
    "    `"
   ]
  },
  {
   "cell_type": "markdown",
   "metadata": {},
   "source": [
    "Many-to-many joins form the Cartesian product of the rows. Since there were three 'b' rows in the left DataFrame and two in the right one, there are six 'b' rows in the result. The join method only affects the distinct key values appearing in the result:"
   ]
  },
  {
   "cell_type": "code",
   "execution_count": null,
   "metadata": {},
   "outputs": [],
   "source": [
    "pd.merge(df1, df2, how='inner')"
   ]
  },
  {
   "cell_type": "markdown",
   "metadata": {},
   "source": [
    "Output:<br>`\n",
    "   data1 key data2\n",
    "0      0   b      1\n",
    "1      0   b      3\n",
    "2      1   b      1\n",
    "3      1   b      3\n",
    "4      5   b      1\n",
    "5      5   b      3\n",
    "6      2   a      0\n",
    "7      2   a      2\n",
    "8      4   a      0\n",
    "9      4   a      2\n",
    "    `"
   ]
  },
  {
   "cell_type": "markdown",
   "metadata": {},
   "source": [
    "To merge with multiple keys, pass a list of column names:"
   ]
  },
  {
   "cell_type": "code",
   "execution_count": null,
   "metadata": {},
   "outputs": [],
   "source": [
    "left = pd.DataFrame({'key1': ['foo', 'foo', 'bar'],\n",
    "                     'key2': ['one', 'two', 'one'],\n",
    "                     'lval': [1, 2, 3]})\n",
    "right = pd.DataFrame({'key1': ['foo', 'foo', 'bar', 'bar'],\n",
    "                      'key2': ['one', 'one', 'one', 'two'],\n",
    "                      'rval': [4, 5, 6, 7]})\n",
    "pd.merge(left, right, on=['key1', 'key2'], how='outer')"
   ]
  },
  {
   "cell_type": "markdown",
   "metadata": {},
   "source": [
    "Output:<br>`\n",
    "  key1 key2 lval rval\n",
    "0 foo one    1.0  4.0\n",
    "1 foo one    1.0  5.0\n",
    "2 foo two    2.0  NaN\n",
    "3 bar one    3.0  6.0\n",
    "4 bar two    NaN  7.0\n",
    "    `"
   ]
  },
  {
   "cell_type": "markdown",
   "metadata": {},
   "source": [
    "To determine which key combinations will appear in the result depending on the choice of merge method, think of the multiple keys as forming an array of tuples to be used as a single join key (even though it’s not actually implemented that way)."
   ]
  },
  {
   "cell_type": "markdown",
   "metadata": {},
   "source": [
    "<div style=\"border: 1px solid black; padding: 10px;\"><b style=\"font-size: 2em;\">Note</b><br> When you’re joining columns-on-columns, the indexes on the passed DataFrame objects are discarded.</div>"
   ]
  },
  {
   "cell_type": "markdown",
   "metadata": {},
   "source": [
    "A last issue to consider in merge operations is the treatment of overlapping column names. While you can address the overlap manually (see the earlier section on renaming axis labels), merge has a suffixes option for specifying strings to append to overlapping names in the left and right DataFrame objects:"
   ]
  },
  {
   "cell_type": "code",
   "execution_count": null,
   "metadata": {},
   "outputs": [],
   "source": [
    "pd.merge(left, right, on='key1')"
   ]
  },
  {
   "cell_type": "markdown",
   "metadata": {},
   "source": [
    "Output:<br>`\n",
    "    key1 key2_x lval key2_y rval\n",
    "0 foo     one     1    one     4\n",
    "1 foo     one     1    one     5\n",
    "2 foo     two     2    one     4\n",
    "3 foo     two     2    one     5\n",
    "4 bar     one     3    one     6\n",
    "5 bar     one     3    two     7\n",
    "    `"
   ]
  },
  {
   "cell_type": "code",
   "execution_count": null,
   "metadata": {},
   "outputs": [],
   "source": [
    "pd.merge(left, right, on='key1', suffixes=('_left', '_right'))"
   ]
  },
  {
   "cell_type": "markdown",
   "metadata": {},
   "source": [
    "Output:<br>`\n",
    "    key1 key2_left lval key2_right rval\n",
    "0 foo        one     1        one     4\n",
    "1 foo        one     1        one     5\n",
    "2 foo        two     2        one     4\n",
    "3 foo        two     2        one     5\n",
    "4 bar        one     3        one     6\n",
    "5 bar        one     3        two     7\n",
    "    `"
   ]
  },
  {
   "cell_type": "markdown",
   "metadata": {},
   "source": [
    "See Table 8-2 for an argument reference on merge. Joining using the DataFrame’s row index is the subject of the next section."
   ]
  },
  {
   "cell_type": "markdown",
   "metadata": {},
   "source": [
    "_Table 8-2. merge function arguments_"
   ]
  },
  {
   "cell_type": "markdown",
   "metadata": {},
   "source": [
    "| Argument | Description |\n",
    "|------------|-------------------------------------------|\n",
    "| left        | DataFrame to be merged on the left side. |\n",
    "| right       | DataFrame to be merged on the right side. |\n",
    "| how         | One of 'inner', 'outer', 'left', or 'right'; defaults to 'inner'. |\n",
    "| on          | Column names to join on. Must be found in both DataFrame objects. If not specified and no other join keys given, will use the intersection of the column names in left and right as the join keys. |\n",
    "| left_on     | Columns in left DataFrame to use as join keys. |\n",
    "| right_on    | Analogous to left_on for left DataFrame. |\n",
    "| left_index  | Use row index in left as its join key (or keys, if a MultiIndex). |\n",
    "| right_index | Analogous to left_index. |\n",
    "| sort        | Sort merged data lexicographically by join keys; True by default (disable to get better performance in some cases on large datasets). |\n",
    "| suffixes    | Tuple of string values to append to column names in case of overlap; defaults to ('_x', '_y') (e.g., if 'data' in both DataFrame objects, would appear as 'data_x' and 'data_y' in result). |\n",
    "| copy        | If False, avoid copying data into resulting data structure in some exceptional cases; by default always copies. |\n",
    "| indicator   | Adds a special column _merge that indicates the source of each row; values will be 'left_only', 'right_only', or 'both' based on the origin of the joined data in each row. |"
   ]
  },
  {
   "cell_type": "markdown",
   "metadata": {},
   "source": [
    "# Merging on Index"
   ]
  },
  {
   "cell_type": "markdown",
   "metadata": {},
   "source": [
    "In some cases, the merge key(s) in a DataFrame will be found in its index. In this case, you can pass left_index=True or right_index=True (or both) to indicate that the index should be used as the merge key:"
   ]
  },
  {
   "cell_type": "code",
   "execution_count": null,
   "metadata": {},
   "outputs": [],
   "source": [
    "left1 = pd.DataFrame({'key': ['a', 'b', 'a', 'a', 'b', 'c'],\n",
    "                      'value': range(6)})\n",
    "right1 = pd.DataFrame({'group_val': [3.5, 7]}, index=['a', 'b'])"
   ]
  },
  {
   "cell_type": "code",
   "execution_count": null,
   "metadata": {},
   "outputs": [],
   "source": [
    "left1"
   ]
  },
  {
   "cell_type": "markdown",
   "metadata": {},
   "source": [
    "Output:<br>`\n",
    "  key value\n",
    "0   a      0\n",
    "1   b      1\n",
    "2   a      2\n",
    "3   a      3\n",
    "4   b      4\n",
    "5   c      5\n",
    "    `"
   ]
  },
  {
   "cell_type": "code",
   "execution_count": null,
   "metadata": {},
   "outputs": [],
   "source": [
    "right1"
   ]
  },
  {
   "cell_type": "markdown",
   "metadata": {},
   "source": [
    "Output:<br>`\n",
    "   group_val\n",
    "a        3.5\n",
    "b        7.0\n",
    "    `"
   ]
  },
  {
   "cell_type": "code",
   "execution_count": null,
   "metadata": {},
   "outputs": [],
   "source": [
    "pd.merge(left1, right1, left_on='key', right_index=True)"
   ]
  },
  {
   "cell_type": "markdown",
   "metadata": {},
   "source": [
    "Output:<br>`\n",
    "  key value group_val\n",
    "0   a      0        3.5\n",
    "2   a      2        3.5\n",
    "3   a      3        3.5\n",
    "1   b      1        7.0\n",
    "4   b      4        7.0\n",
    "    `"
   ]
  },
  {
   "cell_type": "markdown",
   "metadata": {},
   "source": [
    "Since the default merge method is to intersect the join keys, you can instead form the union of them with an outer join:"
   ]
  },
  {
   "cell_type": "code",
   "execution_count": null,
   "metadata": {},
   "outputs": [],
   "source": [
    "pd.merge(left1, right1, left_on='key', right_index=True, how='outer')"
   ]
  },
  {
   "cell_type": "markdown",
   "metadata": {},
   "source": [
    "Output:<br>`\n",
    "  key value group_val\n",
    "0   a      0        3.5\n",
    "2   a      2        3.5\n",
    "3   a      3        3.5\n",
    "1   b      1        7.0\n",
    "4   b      4        7.0\n",
    "5   c      5        NaN\n",
    "        `"
   ]
  },
  {
   "cell_type": "markdown",
   "metadata": {},
   "source": [
    "With hierarchically indexed data, things are more complicated, as joining on index is implicitly a multiple-key merge:"
   ]
  },
  {
   "cell_type": "code",
   "execution_count": null,
   "metadata": {},
   "outputs": [],
   "source": [
    "lefth = pd.DataFrame({'key1': ['Ohio', 'Ohio', 'Ohio',\n",
    "                               'Nevada', 'Nevada'],\n",
    "                      'key2': [2000, 2001, 2002, 2001, 2002],\n",
    "                      'data': np.arange(5.)})\n",
    "righth = pd.DataFrame(np.arange(12).reshape((6, 2)),\n",
    "                      index=[['Nevada', 'Nevada', 'Ohio', 'Ohio', 'Ohio', 'Ohio'],\n",
    "                             [2001, 2000, 2000, 2000, 2001, 2002]],\n",
    "                      columns=['event1', 'event2'])"
   ]
  },
  {
   "cell_type": "code",
   "execution_count": null,
   "metadata": {},
   "outputs": [],
   "source": [
    "lefth"
   ]
  },
  {
   "cell_type": "markdown",
   "metadata": {},
   "source": [
    "Output:<br>`\n",
    "   data    key1   key2\n",
    "0   0.0    Ohio   2000\n",
    "1   1.0    Ohio   2001\n",
    "2   2.0    Ohio   2002\n",
    "3   3.0 Nevada    2001\n",
    "4   4.0 Nevada    2002\n",
    "    `"
   ]
  },
  {
   "cell_type": "code",
   "execution_count": null,
   "metadata": {},
   "outputs": [],
   "source": [
    "righth"
   ]
  },
  {
   "cell_type": "markdown",
   "metadata": {},
   "source": [
    "Output:<br>`\n",
    "             event1   event2\n",
    "Nevada 2001       0        1\n",
    "       2000       2        3\n",
    "Ohio   2000       4        5\n",
    "       2000       6        7\n",
    "       2001       8        9\n",
    "       2002      10       11\n",
    "    `"
   ]
  },
  {
   "cell_type": "markdown",
   "metadata": {},
   "source": [
    "In this case, you have to indicate multiple columns to merge on as a list (note the handling of duplicate index values with how='outer'):"
   ]
  },
  {
   "cell_type": "code",
   "execution_count": null,
   "metadata": {},
   "outputs": [],
   "source": [
    "pd.merge(lefth, righth, left_on=['key1', 'key2'], right_index=True)"
   ]
  },
  {
   "cell_type": "markdown",
   "metadata": {},
   "source": [
    "Output:<br>`\n",
    "   data    key1 key2 event1 event2\n",
    "0   0.0    Ohio 2000        4       5\n",
    "0   0.0    Ohio 2000        6       7\n",
    "1   1.0    Ohio 2001        8       9\n",
    "2   2.0    Ohio 2002       10      11\n",
    "3   3.0 Nevada 2001         0       1\n",
    "        `"
   ]
  },
  {
   "cell_type": "code",
   "execution_count": null,
   "metadata": {},
   "outputs": [],
   "source": [
    "pd.merge(lefth, righth, left_on=['key1', 'key2'],\n",
    "         right_index=True, how='outer')"
   ]
  },
  {
   "cell_type": "markdown",
   "metadata": {},
   "source": [
    "Output:<br>`\n",
    "   data      key1     key2     event1    event2\n",
    "0   0.0      Ohio     2000        4.0       5.0\n",
    "0   0.0      Ohio     2000        6.0       7.0\n",
    "1   1.0      Ohio     2001        8.0       9.0\n",
    "2   2.0      Ohio     2002       10.0      11.0\n",
    "3   3.0    Nevada     2001        0.0       1.0\n",
    "4   4.0    Nevada     2002        NaN       NaN\n",
    "4   NaN    Nevada     2000        2.0       3.0\n",
    "    `"
   ]
  },
  {
   "cell_type": "markdown",
   "metadata": {},
   "source": [
    "Using the indexes of both sides of the merge is also possible:"
   ]
  },
  {
   "cell_type": "code",
   "execution_count": null,
   "metadata": {},
   "outputs": [],
   "source": [
    "left2 = pd.DataFrame([[1., 2.], [3., 4.], [5., 6.]],\n",
    "                     index=['a', 'c', 'e'],\n",
    "                     columns=['Ohio', 'Nevada'])\n",
    "right2 = pd.DataFrame([[7., 8.], [9., 10.], [11., 12.], [13, 14]],\n",
    "                      index=['b', 'c', 'd', 'e'],\n",
    "                      columns=['Missouri', 'Alabama'])"
   ]
  },
  {
   "cell_type": "code",
   "execution_count": null,
   "metadata": {},
   "outputs": [],
   "source": [
    "left2"
   ]
  },
  {
   "cell_type": "markdown",
   "metadata": {},
   "source": [
    "Output:<br>`\n",
    "   Ohio Nevada\n",
    "a   1.0     2.0\n",
    "c   3.0     4.0\n",
    "e   5.0     6.0\n",
    "    `"
   ]
  },
  {
   "cell_type": "code",
   "execution_count": null,
   "metadata": {},
   "outputs": [],
   "source": [
    "right2"
   ]
  },
  {
   "cell_type": "markdown",
   "metadata": {},
   "source": [
    "Output:<br>`\n",
    "   Missouri Alabama\n",
    "b        7.0     8.0\n",
    "c        9.0    10.0\n",
    "d      11.0     12.0\n",
    "e      13.0     14.0\n",
    "    `"
   ]
  },
  {
   "cell_type": "code",
   "execution_count": null,
   "metadata": {},
   "outputs": [],
   "source": [
    "pd.merge(left2, right2, how='outer', left_index=True, right_index=True)"
   ]
  },
  {
   "cell_type": "markdown",
   "metadata": {},
   "source": [
    "Output:<br>`\n",
    "   Ohio Nevada   Missouri   Alabama\n",
    "a   1.0    2.0        NaN       NaN\n",
    "b   NaN    NaN        7.0       8.0\n",
    "c   3.0    4.0        9.0      10.0\n",
    "d   NaN    NaN       11.0      12.0\n",
    "e   5.0    6.0       13.0      14.0\n",
    "        `"
   ]
  },
  {
   "cell_type": "markdown",
   "metadata": {},
   "source": [
    "DataFrame has a convenient join instance for merging by index. It can also be used to combine together many DataFrame objects having the same or similar indexes but non-overlapping columns. In the prior example, we could have written:"
   ]
  },
  {
   "cell_type": "code",
   "execution_count": null,
   "metadata": {},
   "outputs": [],
   "source": [
    "left2.join(right2, how='outer')"
   ]
  },
  {
   "cell_type": "markdown",
   "metadata": {},
   "source": [
    "Output:<br>`\n",
    "   Ohio Nevada Missouri Alabama\n",
    "a   1.0     2.0       NaN      NaN\n",
    "b   NaN     NaN       7.0      8.0\n",
    "c   3.0     4.0       9.0     10.0\n",
    "d   NaN     NaN      11.0     12.0\n",
    "e   5.0     6.0      13.0     14.0\n",
    "    `"
   ]
  },
  {
   "cell_type": "markdown",
   "metadata": {},
   "source": [
    "In part for legacy reasons (i.e., much earlier versions of pandas), DataFrame’s join method performs a left join on the join keys, exactly preserving the left frame’s row index. It also supports joining the index of the passed DataFrame on one of the columns of the calling DataFrame:"
   ]
  },
  {
   "cell_type": "code",
   "execution_count": null,
   "metadata": {},
   "outputs": [],
   "source": [
    "left1.join(right1, on='key')"
   ]
  },
  {
   "cell_type": "markdown",
   "metadata": {},
   "source": [
    "Output:<br>`\n",
    "  key value group_val\n",
    "0   a      0        3.5\n",
    "1   b      1        7.0\n",
    "2   a      2        3.5\n",
    "3   a      3        3.5\n",
    "4   b      4        7.0\n",
    "5   c      5        NaN\n",
    "    `"
   ]
  },
  {
   "cell_type": "markdown",
   "metadata": {},
   "source": [
    "Lastly, for simple index-on-index merges, you can pass a list of DataFrames to join as an alternative to using the more general concat function described in the next section:"
   ]
  },
  {
   "cell_type": "code",
   "execution_count": null,
   "metadata": {},
   "outputs": [],
   "source": [
    "another = pd.DataFrame([[7., 8.], [9., 10.], [11., 12.], [16., 17.]],\n",
    "                       index=['a', 'c', 'e', 'f'],\n",
    "                       columns=['New York', 'Oregon'])\n",
    "another"
   ]
  },
  {
   "cell_type": "markdown",
   "metadata": {},
   "source": [
    "Output:<br>`\n",
    "   New York Oregon\n",
    "a        7.0     8.0\n",
    "c        9.0   10.0\n",
    "e      11.0    12.0\n",
    "f      16.0    17.0\n",
    "    `"
   ]
  },
  {
   "cell_type": "code",
   "execution_count": null,
   "metadata": {},
   "outputs": [],
   "source": [
    "left2.join([right2, another])"
   ]
  },
  {
   "cell_type": "markdown",
   "metadata": {},
   "source": [
    "Output:<br>`\n",
    "   Ohio Nevada Missouri Alabama New York Oregon\n",
    "a   1.0     2.0       NaN      NaN      7.0  8.0\n",
    "c   3.0     4.0       9.0     10.0      9.0 10.0\n",
    "e   5.0     6.0      13.0     14.0     11.0 12.0\n",
    "    `"
   ]
  },
  {
   "cell_type": "code",
   "execution_count": null,
   "metadata": {},
   "outputs": [],
   "source": [
    "left2.join([right2, another], how='outer')"
   ]
  },
  {
   "cell_type": "markdown",
   "metadata": {},
   "source": [
    "Output:<br>`\n",
    "   Ohio Nevada Missouri Alabama New York Oregon\n",
    "a   1.0     2.0       NaN      NaN       7.0     8.0\n",
    "b   NaN     NaN       7.0      8.0       NaN     NaN\n",
    "c   3.0     4.0       9.0     10.0       9.0    10.0\n",
    "d   NaN     NaN      11.0     12.0       NaN     NaN\n",
    "e   5.0     6.0      13.0     14.0      11.0    12.0\n",
    "f   NaN     NaN       NaN      NaN      16.0    17.0\n",
    "    `"
   ]
  },
  {
   "cell_type": "markdown",
   "metadata": {},
   "source": [
    "# Concatenating Along an Axis"
   ]
  },
  {
   "cell_type": "markdown",
   "metadata": {},
   "source": [
    "Another kind of data combination operation is referred to interchangeably as concatenation, binding, or stacking. NumPy’s concatenate function can do this with NumPy arrays:"
   ]
  },
  {
   "cell_type": "code",
   "execution_count": null,
   "metadata": {},
   "outputs": [],
   "source": [
    "arr = np.arange(12).reshape((3, 4))\n",
    "arr"
   ]
  },
  {
   "cell_type": "markdown",
   "metadata": {},
   "source": [
    "Output:<br>`\n",
    "array([[   0, 1, 2, 3],\n",
    "       [   4, 5, 6, 7],\n",
    "       [   8, 9, 10, 11]])\n",
    "    `"
   ]
  },
  {
   "cell_type": "code",
   "execution_count": null,
   "metadata": {},
   "outputs": [],
   "source": [
    "np.concatenate([arr, arr], axis=1)"
   ]
  },
  {
   "cell_type": "markdown",
   "metadata": {},
   "source": [
    "Output:<br>`\n",
    "array([[   0, 1, 2, 3, 0, 1, 2, 3],\n",
    "       [   4, 5, 6, 7, 4, 5, 6, 7],\n",
    "       [   8, 9, 10, 11, 8, 9, 10, 11]])\n",
    "    `"
   ]
  },
  {
   "cell_type": "markdown",
   "metadata": {},
   "source": [
    "In the context of pandas objects such as Series and DataFrame, having labeled axes enable you to further generalize array concatenation. In particular, you have a number of additional things to think about:"
   ]
  },
  {
   "cell_type": "markdown",
   "metadata": {},
   "source": [
    "- If the objects are indexed differently on the other axes, should we combine the distinct elements in these axes or use only the shared values (the intersection)?\n",
    "- Do the concatenated chunks of data need to be identifiable in the resulting object?\n",
    "- Does the “concatenation axis” contain data that needs to be preserved? In many cases, the default integer labels in a DataFrame are best discarded during concatenation."
   ]
  },
  {
   "cell_type": "markdown",
   "metadata": {},
   "source": [
    "The concat function in pandas provides a consistent way to address each of these concerns. I’ll give a number of examples to illustrate how it works. Suppose we have three Series with no index overlap:"
   ]
  },
  {
   "cell_type": "code",
   "execution_count": null,
   "metadata": {},
   "outputs": [],
   "source": [
    "s1 = pd.Series([0, 1], index=['a', 'b'])\n",
    "s2 = pd.Series([2, 3, 4], index=['c', 'd', 'e'])\n",
    "s3 = pd.Series([5, 6], index=['f', 'g'])"
   ]
  },
  {
   "cell_type": "markdown",
   "metadata": {},
   "source": [
    "Calling concat with these objects in a list glues together the values and indexes:"
   ]
  },
  {
   "cell_type": "code",
   "execution_count": null,
   "metadata": {},
   "outputs": [],
   "source": [
    "pd.concat([s1, s2, s3])"
   ]
  },
  {
   "cell_type": "markdown",
   "metadata": {},
   "source": [
    "Output:<br>`\n",
    "a    0\n",
    "b    1\n",
    "c    2\n",
    "d    3\n",
    "e    4\n",
    "f    5\n",
    "g    6\n",
    "dtype: int64\n",
    "    `"
   ]
  },
  {
   "cell_type": "markdown",
   "metadata": {},
   "source": [
    "By default concat works along axis=0, producing another Series. If you pass axis=1, the result will instead be a DataFrame (axis=1 is the columns):"
   ]
  },
  {
   "cell_type": "code",
   "execution_count": null,
   "metadata": {},
   "outputs": [],
   "source": [
    "pd.concat([s1, s2, s3], axis=1)"
   ]
  },
  {
   "cell_type": "markdown",
   "metadata": {},
   "source": [
    "Output:<br>`\n",
    "     0    1    2\n",
    "a 0.0 NaN NaN\n",
    "b 1.0 NaN NaN\n",
    "c NaN 2.0 NaN\n",
    "d NaN 3.0 NaN\n",
    "e NaN 4.0 NaN\n",
    "f NaN NaN 5.0\n",
    "g NaN NaN 6.0\n",
    "    `"
   ]
  },
  {
   "cell_type": "markdown",
   "metadata": {},
   "source": [
    "In this case there is no overlap on the other axis, which as you can see is the sorted union (the 'outer' join) of the indexes. You can instead intersect them by passing join='inner':"
   ]
  },
  {
   "cell_type": "code",
   "execution_count": null,
   "metadata": {},
   "outputs": [],
   "source": [
    "s4 = pd.concat([s1, s3])\n",
    "s4"
   ]
  },
  {
   "cell_type": "markdown",
   "metadata": {},
   "source": [
    "Output:<br>`\n",
    "a    0\n",
    "b    1\n",
    "f    5\n",
    "g    6\n",
    "dtype: int64\n",
    "    `"
   ]
  },
  {
   "cell_type": "code",
   "execution_count": null,
   "metadata": {},
   "outputs": [],
   "source": [
    "pd.concat([s1, s4], axis=1)"
   ]
  },
  {
   "cell_type": "markdown",
   "metadata": {},
   "source": [
    "Output:<br>`\n",
    "      0   1\n",
    "a   0.0   0\n",
    "b   1.0   1\n",
    "f   NaN   5\n",
    "g   NaN   6\n",
    "    `"
   ]
  },
  {
   "cell_type": "code",
   "execution_count": null,
   "metadata": {},
   "outputs": [],
   "source": [
    "pd.concat([s1, s4], axis=1, join='inner')"
   ]
  },
  {
   "cell_type": "markdown",
   "metadata": {},
   "source": [
    "Output:<br>`\n",
    "  0 1\n",
    "a 0 0\n",
    "b 1 1\n",
    "    `"
   ]
  },
  {
   "cell_type": "markdown",
   "metadata": {},
   "source": [
    "In this last example, the 'f' and 'g' labels disappeared because of the join='inner' option."
   ]
  },
  {
   "cell_type": "markdown",
   "metadata": {},
   "source": [
    "You can even specify the axes to be used on the other axes with join_axes:"
   ]
  },
  {
   "cell_type": "code",
   "execution_count": null,
   "metadata": {},
   "outputs": [],
   "source": [
    "pd.concat([s1, s4], axis=1, join_axes=[['a', 'c', 'b', 'e']])"
   ]
  },
  {
   "cell_type": "markdown",
   "metadata": {},
   "source": [
    "Output:<br>`\n",
    "     0    1\n",
    "a 0.0 0.0\n",
    "c NaN NaN\n",
    "b 1.0 1.0\n",
    "e NaN NaN\n",
    "    `"
   ]
  },
  {
   "cell_type": "markdown",
   "metadata": {},
   "source": [
    "A potential issue is that the concatenated pieces are not identifiable in the result. Suppose instead you wanted to create a hierarchical index on the concatenation axis. To do this, use the keys argument:"
   ]
  },
  {
   "cell_type": "code",
   "execution_count": null,
   "metadata": {},
   "outputs": [],
   "source": [
    "result = pd.concat([s1, s1, s3], keys=['one', 'two', 'three'])\n",
    "result"
   ]
  },
  {
   "cell_type": "markdown",
   "metadata": {},
   "source": [
    "Output:<br>`\n",
    "one    a     0\n",
    "       b     1\n",
    "two    a     0\n",
    "       b     1\n",
    "three f      5\n",
    "       g     6\n",
    "dtype: int64\n",
    "    `"
   ]
  },
  {
   "cell_type": "code",
   "execution_count": null,
   "metadata": {},
   "outputs": [],
   "source": [
    "result.unstack()"
   ]
  },
  {
   "cell_type": "markdown",
   "metadata": {},
   "source": [
    "Output:<br>`\n",
    "         a    b    f    g\n",
    "one    0.0 1.0 NaN NaN\n",
    "two    0.0 1.0 NaN NaN\n",
    "three NaN NaN 5.0 6.0\n",
    "    `"
   ]
  },
  {
   "cell_type": "markdown",
   "metadata": {},
   "source": [
    "In the case of combining Series along axis=1, the keys become the DataFrame column headers:"
   ]
  },
  {
   "cell_type": "code",
   "execution_count": null,
   "metadata": {},
   "outputs": [],
   "source": [
    "pd.concat([s1, s2, s3], axis=1, keys=['one', 'two', 'three'])"
   ]
  },
  {
   "cell_type": "markdown",
   "metadata": {},
   "source": [
    "Output:<br>`\n",
    "    one   two   three\n",
    "a   0.0   NaN     NaN\n",
    "b   1.0   NaN     NaN\n",
    "c   NaN   2.0     NaN\n",
    "d   NaN   3.0     NaN\n",
    "e   NaN   4.0     NaN\n",
    "f   NaN   NaN     5.0\n",
    "g   NaN   NaN     6.0\n",
    "    `"
   ]
  },
  {
   "cell_type": "markdown",
   "metadata": {},
   "source": [
    "The same logic extends to DataFrame objects:"
   ]
  },
  {
   "cell_type": "code",
   "execution_count": null,
   "metadata": {},
   "outputs": [],
   "source": [
    "df1 = pd.DataFrame(np.arange(6).reshape(3, 2), index=['a', 'b', 'c'],\n",
    "                   columns=['one', 'two'])\n",
    "df2 = pd.DataFrame(5 + np.arange(4).reshape(2, 2), index=['a', 'c'],\n",
    "                   columns=['three', 'four'])\n",
    "df1"
   ]
  },
  {
   "cell_type": "markdown",
   "metadata": {},
   "source": [
    "Output:<br>`\n",
    "   one two\n",
    "a    0    1\n",
    "b    2    3\n",
    "c    4    5\n",
    "    `"
   ]
  },
  {
   "cell_type": "code",
   "execution_count": null,
   "metadata": {},
   "outputs": [],
   "source": [
    "df2"
   ]
  },
  {
   "cell_type": "markdown",
   "metadata": {},
   "source": [
    "Output:<br>`\n",
    "   three four\n",
    "a      5     6\n",
    "c      7     8\n",
    "    `"
   ]
  },
  {
   "cell_type": "code",
   "execution_count": null,
   "metadata": {},
   "outputs": [],
   "source": [
    "pd.concat([df1, df2], axis=1, keys=['level1', 'level2'])"
   ]
  },
  {
   "cell_type": "markdown",
   "metadata": {},
   "source": [
    "Output:<br>`\n",
    "  level1     level2\n",
    "     one two three four\n",
    "a      0   1    5.0 6.0\n",
    "b      2   3    NaN NaN\n",
    "c      4   5    7.0 8.0\n",
    "    `"
   ]
  },
  {
   "cell_type": "markdown",
   "metadata": {},
   "source": [
    "If you pass a dict of objects instead of a list, the dict’s keys will be used for the keys option:"
   ]
  },
  {
   "cell_type": "code",
   "execution_count": null,
   "metadata": {},
   "outputs": [],
   "source": [
    "pd.concat({'level1': df1, 'level2': df2}, axis=1)"
   ]
  },
  {
   "cell_type": "markdown",
   "metadata": {},
   "source": [
    "Output:<br>`\n",
    "  level1     level2\n",
    "     one two three four\n",
    "a      0   1    5.0 6.0\n",
    "b      2   3    NaN NaN\n",
    "c      4   5    7.0 8.0\n",
    "    `"
   ]
  },
  {
   "cell_type": "markdown",
   "metadata": {},
   "source": [
    "There are additional arguments governing how the hierarchical index is created (see Table 8-3). For example, we can name the created axis levels with the names argument:"
   ]
  },
  {
   "cell_type": "code",
   "execution_count": null,
   "metadata": {},
   "outputs": [],
   "source": [
    "pd.concat([df1, df2], axis=1, keys=['level1', 'level2'],\n",
    "          names=['upper', 'lower'])"
   ]
  },
  {
   "cell_type": "markdown",
   "metadata": {},
   "source": [
    "Output:<br>`\n",
    "upper level1      level2\n",
    "lower     one two three four\n",
    "a           0   1    5.0 6.0\n",
    "b           2   3    NaN NaN\n",
    "c           4   5    7.0 8.0\n",
    "    `"
   ]
  },
  {
   "cell_type": "markdown",
   "metadata": {},
   "source": [
    "A last consideration concerns DataFrames in which the row index does not contain any relevant data:"
   ]
  },
  {
   "cell_type": "code",
   "execution_count": null,
   "metadata": {},
   "outputs": [],
   "source": [
    "df1 = pd.DataFrame(np.random.randn(3, 4), columns=['a', 'b', 'c', 'd'])\n",
    "df2 = pd.DataFrame(np.random.randn(2, 3), columns=['b', 'd', 'a'])"
   ]
  },
  {
   "cell_type": "code",
   "execution_count": null,
   "metadata": {},
   "outputs": [],
   "source": [
    "df1"
   ]
  },
  {
   "cell_type": "markdown",
   "metadata": {},
   "source": [
    "Output:<br>`\n",
    "          a        b         c         d\n",
    "0 1.246435 1.007189 -1.296221 0.274992\n",
    "1 0.228913 1.352917 0.886429 -2.001637\n",
    "2 -0.371843 1.669025 -0.438570 -0.539741\n",
    "    `"
   ]
  },
  {
   "cell_type": "code",
   "execution_count": null,
   "metadata": {},
   "outputs": [],
   "source": [
    "df2"
   ]
  },
  {
   "cell_type": "markdown",
   "metadata": {},
   "source": [
    "Output:<br>`\n",
    "          b        d        a\n",
    "0 0.476985 3.248944 -1.021228\n",
    "1 -0.577087 0.124121 0.302614\n",
    "    `"
   ]
  },
  {
   "cell_type": "markdown",
   "metadata": {},
   "source": [
    "In this case, you can pass ignore_index=True:"
   ]
  },
  {
   "cell_type": "code",
   "execution_count": null,
   "metadata": {},
   "outputs": [],
   "source": [
    "pd.concat([df1, df2], ignore_index=True)"
   ]
  },
  {
   "cell_type": "markdown",
   "metadata": {},
   "source": [
    "Output:<br>`\n",
    "          a         b         c         d\n",
    "0 1.246435 1.007189 -1.296221 0.274992\n",
    "1 0.228913 1.352917 0.886429 -2.001637\n",
    "2 -0.371843 1.669025 -0.438570 -0.539741\n",
    "3 -1.021228 0.476985        NaN 3.248944\n",
    "4 0.302614 -0.577087        NaN 0.124121\n",
    "    `"
   ]
  },
  {
   "cell_type": "markdown",
   "metadata": {},
   "source": [
    "_Table 8-3. concat function arguments_"
   ]
  },
  {
   "cell_type": "markdown",
   "metadata": {},
   "source": [
    "| Argument | Description |\n",
    "|------------|-------------------------------------------|\n",
    "| objs             | List or dict of pandas objects to be concatenated; this is the only required argument |\n",
    "| axis             | Axis to concatenate along; defaults to 0 (along rows) |\n",
    "| join             | Either 'inner' or 'outer' ('outer' by default); whether to intersection (inner) or union (outer) together indexes along the other axes |\n",
    "| join_axes        | Specific indexes to use for the other n–1 axes instead of performing union/intersection logic |\n",
    "| keys             | Values to associate with objects being concatenated, forming a hierarchical index along the concatenation axis; can either be a list or array of arbitrary values, an array of tuples, or a list of arrays (if multiple-level arrays passed in levels) |\n",
    "| levels           | Specific indexes to use as hierarchical index level or levels if keys passed |\n",
    "| names            | Names for created hierarchical levels if keys and/or levels passed |\n",
    "| verify_integrity | Check new axis in concatenated object for duplicates and raise exception if so; by default (False) allows duplicates |\n",
    "| ignore_index     | Do not preserve indexes along concatenation axis, instead producing a new range(total_length) index |"
   ]
  },
  {
   "cell_type": "markdown",
   "metadata": {},
   "source": [
    "# Combining Data with Overlap"
   ]
  },
  {
   "cell_type": "markdown",
   "metadata": {},
   "source": [
    "There is another data combination situation that can’t be expressed as either a merge or concatenation operation. You may have two datasets whose indexes overlap in full or part. As a motivating example, consider NumPy’s where function, which performs the array-oriented equivalent of an if-else expression:"
   ]
  },
  {
   "cell_type": "code",
   "execution_count": null,
   "metadata": {},
   "outputs": [],
   "source": [
    "a = pd.Series([np.nan, 2.5, np.nan, 3.5, 4.5, np.nan],\n",
    "              index=['f', 'e', 'd', 'c', 'b', 'a'])\n",
    "b = pd.Series(np.arange(len(a), dtype=np.float64),\n",
    "              index=['f', 'e', 'd', 'c', 'b', 'a'])\n",
    "b[-1] = np.nan"
   ]
  },
  {
   "cell_type": "code",
   "execution_count": null,
   "metadata": {},
   "outputs": [],
   "source": [
    "a"
   ]
  },
  {
   "cell_type": "markdown",
   "metadata": {},
   "source": [
    "Output:<br>`\n",
    "f    NaN\n",
    "e    2.5\n",
    "d    NaN\n",
    "c    3.5\n",
    "b    4.5\n",
    "a    NaN\n",
    "dtype: float64\n",
    "    `"
   ]
  },
  {
   "cell_type": "code",
   "execution_count": null,
   "metadata": {},
   "outputs": [],
   "source": [
    "b"
   ]
  },
  {
   "cell_type": "markdown",
   "metadata": {},
   "source": [
    "Output:<br>`\n",
    "f    0.0\n",
    "e    1.0\n",
    "d    2.0\n",
    "c    3.0\n",
    "b    4.0\n",
    "a    NaN\n",
    "dtype: float64\n",
    "    `"
   ]
  },
  {
   "cell_type": "code",
   "execution_count": null,
   "metadata": {},
   "outputs": [],
   "source": [
    "np.where(pd.isnull(a), b, a)"
   ]
  },
  {
   "cell_type": "markdown",
   "metadata": {},
   "source": [
    "Output:<br>`array([ 0. , 2.5, 2. , 3.5,                      4.5,    nan])`"
   ]
  },
  {
   "cell_type": "markdown",
   "metadata": {},
   "source": [
    "Series has a combine_first method, which performs the equivalent of this operation along with pandas’s usual data alignment logic:"
   ]
  },
  {
   "cell_type": "code",
   "execution_count": null,
   "metadata": {},
   "outputs": [],
   "source": [
    "b[:-2].combine_first(a[2:])"
   ]
  },
  {
   "cell_type": "markdown",
   "metadata": {},
   "source": [
    "Output:<br>`\n",
    "a    NaN\n",
    "b    4.5\n",
    "c    3.0\n",
    "d    2.0\n",
    "e    1.0\n",
    "f    0.0\n",
    "dtype: float64\n",
    "    `"
   ]
  },
  {
   "cell_type": "markdown",
   "metadata": {},
   "source": [
    "With DataFrames, combine_first does the same thing column by column, so you can think of it as “patching” missing data in the calling object with data from the object you pass:"
   ]
  },
  {
   "cell_type": "code",
   "execution_count": null,
   "metadata": {},
   "outputs": [],
   "source": [
    "df1 = pd.DataFrame({'a': [1., np.nan, 5., np.nan],\n",
    "                    'b': [np.nan, 2., np.nan, 6.],\n",
    "                    'c': range(2, 18, 4)})\n",
    "df2 = pd.DataFrame({'a': [5., 4., np.nan, 3., 7.],\n",
    "                    'b': [np.nan, 3., 4., 6., 8.]})\n",
    "df1"
   ]
  },
  {
   "cell_type": "markdown",
   "metadata": {},
   "source": [
    "Output:<br>`\n",
    "     a    b   c\n",
    "0 1.0 NaN     2\n",
    "1 NaN 2.0     6\n",
    "2 5.0 NaN 10\n",
    "3 NaN 6.0 14\n",
    "    `"
   ]
  },
  {
   "cell_type": "code",
   "execution_count": null,
   "metadata": {},
   "outputs": [],
   "source": [
    "df2"
   ]
  },
  {
   "cell_type": "markdown",
   "metadata": {},
   "source": [
    "Output:<br>`\n",
    "     a    b\n",
    "0 5.0 NaN\n",
    "1 4.0 3.0\n",
    "2 NaN 4.0\n",
    "3 3.0 6.0\n",
    "4 7.0 8.0\n",
    "    `"
   ]
  },
  {
   "cell_type": "code",
   "execution_count": null,
   "metadata": {},
   "outputs": [],
   "source": [
    "df1.combine_first(df2)"
   ]
  },
  {
   "cell_type": "markdown",
   "metadata": {},
   "source": [
    "Output:<br>`\n",
    "     a    b     c\n",
    "0 1.0 NaN     2.0\n",
    "1 4.0 2.0     6.0\n",
    "2 5.0 4.0 10.0\n",
    "3 3.0 6.0 14.0\n",
    "4 7.0 8.0     NaN\n",
    "    `"
   ]
  },
  {
   "cell_type": "markdown",
   "metadata": {},
   "source": [
    "# Reshaping and Pivoting"
   ]
  },
  {
   "cell_type": "markdown",
   "metadata": {},
   "source": [
    "There are a number of basic operations for rearranging tabular data. These are alternatingly referred to as reshape or pivot operations."
   ]
  },
  {
   "cell_type": "markdown",
   "metadata": {},
   "source": [
    "# Reshaping with Hierarchical Indexing"
   ]
  },
  {
   "cell_type": "markdown",
   "metadata": {},
   "source": [
    "Hierarchical indexing provides a consistent way to rearrange data in a DataFrame. There are two primary actions:"
   ]
  },
  {
   "cell_type": "markdown",
   "metadata": {},
   "source": [
    "**stack**. This “rotates” or pivots from the columns in the data to the rows"
   ]
  },
  {
   "cell_type": "markdown",
   "metadata": {},
   "source": [
    "**unstack**. This pivots from the rows into the columns"
   ]
  },
  {
   "cell_type": "markdown",
   "metadata": {},
   "source": [
    "I’ll illustrate these operations through a series of examples. Consider a small DataFrame with string arrays as row and column indexes:"
   ]
  },
  {
   "cell_type": "code",
   "execution_count": null,
   "metadata": {},
   "outputs": [],
   "source": [
    "data = pd.DataFrame(np.arange(6).reshape((2, 3)),\n",
    "                    index=pd.Index(['Ohio', 'Colorado'], name='state'),\n",
    "                    columns=pd.Index(['one', 'two', 'three'],\n",
    "                                     name='number'))\n",
    "data"
   ]
  },
  {
   "cell_type": "markdown",
   "metadata": {},
   "source": [
    "Output:<br>`\n",
    "number    one two   three\n",
    "state\n",
    "Ohio        0   1       2\n",
    "Colorado    3   4       5\n",
    "    `"
   ]
  },
  {
   "cell_type": "markdown",
   "metadata": {},
   "source": [
    "Using the stack method on this data pivots the columns into the rows, producing a Series:"
   ]
  },
  {
   "cell_type": "code",
   "execution_count": null,
   "metadata": {},
   "outputs": [],
   "source": [
    "result = data.stack()\n",
    "result"
   ]
  },
  {
   "cell_type": "markdown",
   "metadata": {},
   "source": [
    "Output:<br>`\n",
    "state     number\n",
    "Ohio      one       0\n",
    "          two       1\n",
    "          three     2\n",
    "Colorado one        3\n",
    "          two       4\n",
    "          three     5\n",
    "dtype: int64\n",
    "    `"
   ]
  },
  {
   "cell_type": "markdown",
   "metadata": {},
   "source": [
    "From a hierarchically indexed Series, you can rearrange the data back into a DataFrame with unstack:"
   ]
  },
  {
   "cell_type": "code",
   "execution_count": null,
   "metadata": {},
   "outputs": [],
   "source": [
    "result.unstack()"
   ]
  },
  {
   "cell_type": "markdown",
   "metadata": {},
   "source": [
    "Output:<br>`\n",
    "number    one two three\n",
    "state\n",
    "Ohio        0    1      2\n",
    "Colorado    3    4      5\n",
    "    `"
   ]
  },
  {
   "cell_type": "markdown",
   "metadata": {},
   "source": [
    "By default the innermost level is unstacked (same with stack). You can unstack a different level by passing a level number or name:"
   ]
  },
  {
   "cell_type": "code",
   "execution_count": null,
   "metadata": {},
   "outputs": [],
   "source": [
    "result.unstack(0)"
   ]
  },
  {
   "cell_type": "markdown",
   "metadata": {},
   "source": [
    "Output:<br>`\n",
    "state   Ohio Colorado\n",
    "number\n",
    "one        0         3\n",
    "two        1         4\n",
    "three      2         5\n",
    "    `"
   ]
  },
  {
   "cell_type": "code",
   "execution_count": null,
   "metadata": {},
   "outputs": [],
   "source": [
    "result.unstack('state')"
   ]
  },
  {
   "cell_type": "markdown",
   "metadata": {},
   "source": [
    "Output:<br>`\n",
    "state   Ohio Colorado\n",
    "number\n",
    "one        0         3\n",
    "two        1         4\n",
    "three      2         5\n",
    "    `"
   ]
  },
  {
   "cell_type": "markdown",
   "metadata": {},
   "source": [
    "Unstacking might introduce missing data if all of the values in the level aren’t found in each of the subgroups:"
   ]
  },
  {
   "cell_type": "code",
   "execution_count": null,
   "metadata": {},
   "outputs": [],
   "source": [
    "s1 = pd.Series([0, 1, 2, 3], index=['a', 'b', 'c', 'd'])\n",
    "s2 = pd.Series([4, 5, 6], index=['c', 'd', 'e'])\n",
    "data2 = pd.concat([s1, s2], keys=['one', 'two'])\n",
    "data2"
   ]
  },
  {
   "cell_type": "markdown",
   "metadata": {},
   "source": [
    "Output:<br>`\n",
    "one a     0\n",
    "     b    1\n",
    "     c    2\n",
    "     d    3\n",
    "two c     4\n",
    "     d    5\n",
    "     e    6\n",
    "dtype: int64\n",
    "    `"
   ]
  },
  {
   "cell_type": "code",
   "execution_count": null,
   "metadata": {},
   "outputs": [],
   "source": [
    "data2.unstack()"
   ]
  },
  {
   "cell_type": "markdown",
   "metadata": {},
   "source": [
    "Output:<br>`\n",
    "       a    b    c    d   e\n",
    "one 0.0 1.0 2.0 3.0 NaN\n",
    "two NaN NaN 4.0 5.0 6.0\n",
    "    `"
   ]
  },
  {
   "cell_type": "markdown",
   "metadata": {},
   "source": [
    "Stacking filters out missing data by default, so the operation is more easily invertible:"
   ]
  },
  {
   "cell_type": "code",
   "execution_count": null,
   "metadata": {},
   "outputs": [],
   "source": [
    "data2.unstack()"
   ]
  },
  {
   "cell_type": "markdown",
   "metadata": {},
   "source": [
    "Output:<br>`\n",
    "       a    b    c    d   e\n",
    "one 0.0 1.0 2.0 3.0 NaN\n",
    "two NaN NaN 4.0 5.0 6.0\n",
    "    `"
   ]
  },
  {
   "cell_type": "code",
   "execution_count": null,
   "metadata": {},
   "outputs": [],
   "source": [
    "data2.unstack().stack()"
   ]
  },
  {
   "cell_type": "markdown",
   "metadata": {},
   "source": [
    "Output:<br>`\n",
    "one a     0.0\n",
    "     b    1.0\n",
    "     c    2.0\n",
    "     d    3.0\n",
    "two c     4.0\n",
    "     d    5.0\n",
    "     e    6.0\n",
    "dtype: float64\n",
    "    `"
   ]
  },
  {
   "cell_type": "code",
   "execution_count": null,
   "metadata": {},
   "outputs": [],
   "source": [
    "data2.unstack().stack(dropna=False)"
   ]
  },
  {
   "cell_type": "markdown",
   "metadata": {},
   "source": [
    "Output:<br>`\n",
    "one a     0.0\n",
    "     b    1.0\n",
    "     c    2.0\n",
    "     d    3.0\n",
    "     e    NaN\n",
    "two a     NaN\n",
    "     b    NaN\n",
    "     c    4.0\n",
    "     d    5.0\n",
    "     e    6.0\n",
    "dtype: float64\n",
    "    `"
   ]
  },
  {
   "cell_type": "markdown",
   "metadata": {},
   "source": [
    "When you unstack in a DataFrame, the level unstacked becomes the lowest level in the result:"
   ]
  },
  {
   "cell_type": "code",
   "execution_count": null,
   "metadata": {},
   "outputs": [],
   "source": [
    "df = pd.DataFrame({'left': result, 'right': result + 5},\n",
    "                  columns=pd.Index(['left', 'right'], name='side'))\n",
    "df"
   ]
  },
  {
   "cell_type": "markdown",
   "metadata": {},
   "source": [
    "Output:<br>`\n",
    "side             left right\n",
    "state     number\n",
    "Ohio      one       0     5\n",
    "          two       1     6\n",
    "          three     2     7\n",
    "Colorado one        3     8\n",
    "          two       4     9\n",
    "          three     5    10\n",
    "    `"
   ]
  },
  {
   "cell_type": "code",
   "execution_count": null,
   "metadata": {},
   "outputs": [],
   "source": [
    "df.unstack('state')"
   ]
  },
  {
   "cell_type": "markdown",
   "metadata": {},
   "source": [
    "Output:<br>`\n",
    "side   left          right\n",
    "state Ohio Colorado Ohio Colorado\n",
    "number\n",
    "one       0        3     5      8\n",
    "two       1        4     6      9\n",
    "three     2        5     7     10\n",
    "    `"
   ]
  },
  {
   "cell_type": "markdown",
   "metadata": {},
   "source": [
    "When calling stack, we can indicate the name of the axis to stack:"
   ]
  },
  {
   "cell_type": "code",
   "execution_count": null,
   "metadata": {},
   "outputs": [],
   "source": [
    "df.unstack('state').stack('side')"
   ]
  },
  {
   "cell_type": "markdown",
   "metadata": {},
   "source": [
    "Output:<br>`\n",
    "state         Colorado Ohio\n",
    "number side\n",
    "one    left          3     0\n",
    "       right         8     5\n",
    "two    left          4     1\n",
    "       right         9     6\n",
    "three left           5     2\n",
    "       right        10     7\n",
    "    `"
   ]
  },
  {
   "cell_type": "markdown",
   "metadata": {},
   "source": [
    "# Pivoting “Long” to “Wide” Format"
   ]
  },
  {
   "cell_type": "markdown",
   "metadata": {},
   "source": [
    "A common way to store multiple time series in databases and CSV is in so-called long or stacked format. Let’s load some example data and do a small amount of time series wrangling and other data cleaning:"
   ]
  },
  {
   "cell_type": "code",
   "execution_count": null,
   "metadata": {},
   "outputs": [],
   "source": [
    "data = pd.read_csv('examples/macrodata.csv')\n",
    "data.head()"
   ]
  },
  {
   "cell_type": "markdown",
   "metadata": {},
   "source": [
    "Output:<br>`\n",
    "     year quarter     realgdp realcons realinv realgovt realdpi      cpi 0 1959.0       1.0 2710.349     1707.4 286.898   470.045 1886.9    28.98\n",
    "1 1959.0       2.0 2778.801     1733.7 310.859   481.301 1919.7    29.15\n",
    "2 1959.0       3.0 2775.488     1751.8 289.226   491.260 1916.4    29.35\n",
    "3 1959.0       4.0 2785.204     1753.7 299.356   484.052 1931.3    29.37\n",
    "4 1960.0       1.0 2847.699     1770.5 331.722   462.199 1955.5    29.54\n",
    "      m1 tbilrate unemp        pop infl realint\n",
    "0 139.7       2.82     5.8 177.146 0.00     0.00\n",
    "1 141.7       3.08     5.1 177.830 2.34     0.74\n",
    "2 140.5       3.82     5.3 178.657 2.74     1.09\n",
    "3 140.0       4.33     5.6 179.386 0.27     4.06\n",
    "4 139.6       3.50     5.2 180.007 2.31     1.19\n",
    "    `"
   ]
  },
  {
   "cell_type": "code",
   "execution_count": null,
   "metadata": {},
   "outputs": [],
   "source": [
    "periods = pd.PeriodIndex(year=data.year, quarter=data.quarter, name='date')\n",
    "columns = pd.Index(['realgdp', 'infl', 'unemp'], name='item')\n",
    "data = data.reindex(columns=columns)\n",
    "data.index = periods.to_timestamp('D', 'end')\n",
    "ldata = data.stack().reset_index().rename(columns={0: 'value'})"
   ]
  },
  {
   "cell_type": "markdown",
   "metadata": {},
   "source": [
    "We will look at PeriodIndex a bit more closely in Chapter 11. In short, it combines the year and quarter columns to create a kind of time interval type."
   ]
  },
  {
   "cell_type": "markdown",
   "metadata": {},
   "source": [
    "Now, ldata looks like:"
   ]
  },
  {
   "cell_type": "code",
   "execution_count": null,
   "metadata": {},
   "outputs": [],
   "source": [
    "ldata[:10]"
   ]
  },
  {
   "cell_type": "markdown",
   "metadata": {},
   "source": [
    "Output:<br>`\n",
    "          date      item      value\n",
    "0   1959-03-31   realgdp   2710.349\n",
    "1   1959-03-31      infl      0.000\n",
    "2   1959-03-31     unemp      5.800\n",
    "3   1959-06-30   realgdp   2778.801\n",
    "4   1959-06-30      infl      2.340\n",
    "5   1959-06-30     unemp      5.100\n",
    "6   1959-09-30   realgdp   2775.488\n",
    "7   1959-09-30      infl      2.740\n",
    "8   1959-09-30     unemp      5.300\n",
    "9   1959-12-31   realgdp   2785.204\n",
    "    `"
   ]
  },
  {
   "cell_type": "markdown",
   "metadata": {},
   "source": [
    "This is the so-called long format for multiple time series, or other observational data with two or more keys (here, our keys are date and item). Each row in the table represents a single observation."
   ]
  },
  {
   "cell_type": "markdown",
   "metadata": {},
   "source": [
    "Data is frequently stored this way in relational databases like MySQL, as a fixed schema (column names and data types) allows the number of distinct values in the item column to change as data is added to the table. In the previous example, date and item would usually be the primary keys (in relational database parlance), offering both relational integrity and easier joins. In some cases, the data may be more difficult to work with in this format; you might prefer to have a DataFrame containing one column per distinct item value indexed by timestamps in the date column. DataFrame’s pivot method performs exactly this transformation:"
   ]
  },
  {
   "cell_type": "code",
   "execution_count": null,
   "metadata": {},
   "outputs": [],
   "source": [
    "pivoted = ldata.pivot('date', 'item', 'value')\n",
    "pivoted"
   ]
  },
  {
   "cell_type": "markdown",
   "metadata": {},
   "source": [
    "Output:<br>`\n",
    "item        infl       realgdp   unemp\n",
    "date\n",
    "1959-03-31 0.00       2710.349        5.8\n",
    "1959-06-30 2.34       2778.801        5.1\n",
    "1959-09-30 2.74       2775.488        5.3\n",
    "1959-12-31 0.27       2785.204        5.6\n",
    "1960-03-31 2.31       2847.699        5.2\n",
    "1960-06-30 0.14       2834.390        5.2\n",
    "1960-09-30 2.70       2839.022        5.6\n",
    "1960-12-31 1.21       2802.616        6.3\n",
    "1961-03-31 -0.40      2819.264        6.8\n",
    "1961-06-30 1.47       2872.005        7.0\n",
    "...          ...           ...        ...\n",
    "2007-06-30 2.75      13203.977        4.5\n",
    "2007-09-30 3.45      13321.109        4.7\n",
    "2007-12-31 6.38      13391.249        4.8\n",
    "2008-03-31 2.82      13366.865        4.9\n",
    "2008-06-30 8.53      13415.266        5.4\n",
    "2008-09-30 -3.16     13324.600        6.0\n",
    "2008-12-31 -8.79     13141.920        6.9\n",
    "2009-03-31 0.94      12925.410        8.1\n",
    "2009-06-30 3.37      12901.504        9.2\n",
    "2009-09-30 3.56 12990.341                9.6\n",
    "[203 rows x 3 columns]\n",
    "    `"
   ]
  },
  {
   "cell_type": "markdown",
   "metadata": {},
   "source": [
    "The first two values passed are the columns to be used respectively as the row and column index, then finally an optional value column to fill the DataFrame. Suppose you had two value columns that you wanted to reshape simultaneously:"
   ]
  },
  {
   "cell_type": "code",
   "execution_count": null,
   "metadata": {},
   "outputs": [],
   "source": [
    "ldata['value2'] = np.random.randn(len(ldata))\n",
    "ldata[:10]"
   ]
  },
  {
   "cell_type": "markdown",
   "metadata": {},
   "source": [
    "Output:<br>`\n",
    "        date     item             value       value2\n",
    "0 1959-03-31 realgdp           2710.349     0.523772\n",
    "1 1959-03-31     infl             0.000     0.000940\n",
    "2 1959-03-31    unemp             5.800     1.343810\n",
    "3 1959-06-30 realgdp           2778.801    -0.713544\n",
    "4 1959-06-30     infl             2.340    -0.831154\n",
    "5 1959-06-30    unemp             5.100    -2.370232\n",
    "6 1959-09-30 realgdp           2775.488    -1.860761\n",
    "7 1959-09-30     infl             2.740    -0.860757\n",
    "8 1959-09-30    unemp             5.300     0.560145\n",
    "9 1959-12-31 realgdp           2785.204    -1.265934\n",
    "    `"
   ]
  },
  {
   "cell_type": "markdown",
   "metadata": {},
   "source": [
    "By omitting the last argument, you obtain a DataFrame with hierarchical columns:"
   ]
  },
  {
   "cell_type": "code",
   "execution_count": null,
   "metadata": {},
   "outputs": [],
   "source": [
    "pivoted = ldata.pivot('date', 'item')\n",
    "pivoted[:5]"
   ]
  },
  {
   "cell_type": "markdown",
   "metadata": {},
   "source": [
    "Output:<br>`\n",
    "           value                    value2\n",
    "item        infl   realgdp unemp      infl   realgdp     unemp\n",
    "date\n",
    "1959-03-31 0.00 2710.349     5.8 0.000940 0.523772 1.343810\n",
    "1959-06-30 2.34 2778.801     5.1 -0.831154 -0.713544 -2.370232\n",
    "1959-09-30 2.74 2775.488     5.3 -0.860757 -1.860761 0.560145\n",
    "1959-12-31 0.27 2785.204     5.6 0.119827 -1.265934 -1.063512\n",
    "1960-03-31 2.31 2847.699     5.2 -2.359419 0.332883 -0.199543\n",
    "    `"
   ]
  },
  {
   "cell_type": "code",
   "execution_count": null,
   "metadata": {},
   "outputs": [],
   "source": [
    "pivoted['value'][:5]"
   ]
  },
  {
   "cell_type": "markdown",
   "metadata": {},
   "source": [
    "Output:<br>`\n",
    "item        infl   realgdp unemp\n",
    "date\n",
    "1959-03-31 0.00 2710.349       5.8\n",
    "1959-06-30 2.34 2778.801       5.1\n",
    "1959-09-30 2.74 2775.488       5.3\n",
    "1959-12-31 0.27 2785.204       5.6\n",
    "1960-03-31 2.31 2847.699       5.2\n",
    "    `"
   ]
  },
  {
   "cell_type": "markdown",
   "metadata": {},
   "source": [
    "Note that pivot is equivalent to creating a hierarchical index using set_index followed by a call to unstack:"
   ]
  },
  {
   "cell_type": "code",
   "execution_count": null,
   "metadata": {},
   "outputs": [],
   "source": [
    "unstacked = ldata.set_index(['date', 'item']).unstack('item')\n",
    "unstacked[:7]"
   ]
  },
  {
   "cell_type": "markdown",
   "metadata": {},
   "source": [
    "Output:<br>`\n",
    "           value                    value2\n",
    "item        infl   realgdp unemp      infl   realgdp     unemp\n",
    "date\n",
    "1959-03-31 0.00 2710.349     5.8 0.000940 0.523772 1.343810\n",
    "1959-06-30 2.34 2778.801     5.1 -0.831154 -0.713544 -2.370232\n",
    "1959-09-30 2.74 2775.488     5.3 -0.860757 -1.860761 0.560145\n",
    "1959-12-31 0.27 2785.204     5.6 0.119827 -1.265934 -1.063512\n",
    "1960-03-31 2.31 2847.699     5.2 -2.359419 0.332883 -0.199543\n",
    "1960-06-30 0.14 2834.390     5.2 -0.970736 -1.541996 -1.307030\n",
    "1960-09-30 2.70 2839.022     5.6 0.377984 0.286350 -0.753887\n",
    "    `"
   ]
  },
  {
   "cell_type": "markdown",
   "metadata": {},
   "source": [
    "# Pivoting “Wide” to “Long” Format"
   ]
  },
  {
   "cell_type": "markdown",
   "metadata": {},
   "source": [
    "An inverse operation to pivot for DataFrames is pandas.melt. Rather than transforming one column into many in a new DataFrame, it merges multiple columns into one, producing a DataFrame that is longer than the input. Let’s look at an example:"
   ]
  },
  {
   "cell_type": "code",
   "execution_count": null,
   "metadata": {},
   "outputs": [],
   "source": [
    "df = pd.DataFrame({'key': ['foo', 'bar', 'baz'],\n",
    "                   'A': [1, 2, 3],\n",
    "                   'B': [4, 5, 6],\n",
    "                   'C': [7, 8, 9]})\n",
    "df"
   ]
  },
  {
   "cell_type": "markdown",
   "metadata": {},
   "source": [
    "Output:<br>`\n",
    "   A B C key\n",
    "0 1 4 7 foo\n",
    "1 2 5 8 bar\n",
    "2 3 6 9 baz\n",
    "    `"
   ]
  },
  {
   "cell_type": "markdown",
   "metadata": {},
   "source": [
    "The 'key' column may be a group indicator, and the other columns are data values. When using pandas.melt, we must indicate which columns (if any) are group indicators. Let’s use 'key' as the only group indicator here:"
   ]
  },
  {
   "cell_type": "code",
   "execution_count": null,
   "metadata": {},
   "outputs": [],
   "source": [
    "melted = pd.melt(df, ['key'])\n",
    "melted"
   ]
  },
  {
   "cell_type": "markdown",
   "metadata": {},
   "source": [
    "Output:<br>`\n",
    "   key variable value\n",
    "0 foo         A     1\n",
    "1 bar         A     2\n",
    "2 baz         A     3\n",
    "3 foo         B     4\n",
    "4 bar         B     5\n",
    "5 baz         B     6\n",
    "6 foo         C     7\n",
    "7 bar         C     8\n",
    "8 baz         C     9\n",
    "    `"
   ]
  },
  {
   "cell_type": "markdown",
   "metadata": {},
   "source": [
    "Using pivot, we can reshape back to the original layout:"
   ]
  },
  {
   "cell_type": "code",
   "execution_count": null,
   "metadata": {},
   "outputs": [],
   "source": [
    "reshaped = melted.pivot('key', 'variable', 'value')\n",
    "reshaped"
   ]
  },
  {
   "cell_type": "markdown",
   "metadata": {},
   "source": [
    "Output:<br>`\n",
    "variable     A     B       C\n",
    "key\n",
    "bar          2     5       8\n",
    "baz          3     6       9\n",
    "foo          1     4       7\n",
    "    `"
   ]
  },
  {
   "cell_type": "markdown",
   "metadata": {},
   "source": [
    "Since the result of pivot creates an index from the column used as the row labels, we may want to use reset_index to move the data back into a column:"
   ]
  },
  {
   "cell_type": "code",
   "execution_count": null,
   "metadata": {},
   "outputs": [],
   "source": [
    "reshaped.reset_index()"
   ]
  },
  {
   "cell_type": "markdown",
   "metadata": {},
   "source": [
    "Output:<br>`\n",
    "variable     key       A       B   C\n",
    "0            bar       2       5   8\n",
    "1            baz       3       6   9\n",
    "2            foo       1       4   7\n",
    "    `"
   ]
  },
  {
   "cell_type": "markdown",
   "metadata": {},
   "source": [
    "You can also specify a subset of columns to use as value columns:"
   ]
  },
  {
   "cell_type": "code",
   "execution_count": null,
   "metadata": {},
   "outputs": [],
   "source": [
    "pd.melt(df, id_vars=['key'], value_vars=['A', 'B'])"
   ]
  },
  {
   "cell_type": "markdown",
   "metadata": {},
   "source": [
    "Output:<br>`\n",
    "   key variable value\n",
    "0 foo         A      1\n",
    "1 bar         A      2\n",
    "2 baz         A      3\n",
    "3 foo         B      4\n",
    "4 bar         B      5\n",
    "5 baz         B      6\n",
    "    `"
   ]
  },
  {
   "cell_type": "markdown",
   "metadata": {},
   "source": [
    "pandas.melt can be used without any group identifiers, too:"
   ]
  },
  {
   "cell_type": "code",
   "execution_count": null,
   "metadata": {},
   "outputs": [],
   "source": [
    "pd.melt(df, value_vars=['A', 'B', 'C'])"
   ]
  },
  {
   "cell_type": "markdown",
   "metadata": {},
   "source": [
    "Output:<br>`\n",
    "  variable value\n",
    "0         A     1\n",
    "1         A     2\n",
    "2         A     3\n",
    "3         B     4\n",
    "4         B     5\n",
    "5         B     6\n",
    "6         C     7\n",
    "7         C     8\n",
    "8         C     9\n",
    "    `"
   ]
  },
  {
   "cell_type": "code",
   "execution_count": null,
   "metadata": {},
   "outputs": [],
   "source": [
    "pd.melt(df, value_vars=['key', 'A', 'B'])"
   ]
  },
  {
   "cell_type": "markdown",
   "metadata": {},
   "source": [
    "Output:<br>`\n",
    "  variable value\n",
    "0      key   foo\n",
    "1      key   bar\n",
    "2      key   baz\n",
    "3        A     1\n",
    "4        A     2\n",
    "5        A     3\n",
    "6        B     4\n",
    "7        B     5\n",
    "8        B     6\n",
    "    `"
   ]
  },
  {
   "cell_type": "markdown",
   "metadata": {},
   "source": [
    "# Conclusion"
   ]
  },
  {
   "cell_type": "markdown",
   "metadata": {},
   "source": [
    "Now that you have some pandas basics for data import, cleaning, and reorganization under your belt, we are ready to move on to data visualization with matplotlib. We will return to pandas later in the book when we discuss more advanced analytics."
   ]
  }
 ],
 "metadata": {},
 "nbformat": 4,
 "nbformat_minor": 2
}
