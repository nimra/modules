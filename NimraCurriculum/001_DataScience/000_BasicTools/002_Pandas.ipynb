{
 "cells": [
  {
   "cell_type": "markdown",
   "metadata": {},
   "source": [
    "# Pandas\n",
    "\n",
    "Pandas is a specialized Python library for data analysis, especially on humongous datasets. It boasts easy-to-use functionality for reading and writing data, dealing with missing data, reshaping the dataset, and massaging the data by slicing, indexing, inserting, and deleting data variables and records. Pandas also has an important `groupBy` functionality for aggregating data for defined conditions - useful for plotting and computing data summaries for exploration.\n",
    "\n",
    "Another key strength of Pandas is in re-ordering and cleaning time series data for time series analysis. In short, Pandas is the go-to tool for data cleaning and data exploration.\n",
    "\n",
    "To use Pandas, first import the Pandas module:"
   ]
  },
  {
   "cell_type": "code",
   "execution_count": null,
   "metadata": {},
   "outputs": [],
   "source": [
    "import pandas as pd"
   ]
  },
  {
   "cell_type": "markdown",
   "metadata": {},
   "source": [
    "# Pandas Data Structures\n",
    "\n",
    "Just like NumPy, Pandas can store and manipulate a multi-dimensional array of data. To handle this, Pandas has the `Series` and `DataFrame` data structures.\n",
    "\n",
    "# Series\n",
    "\n",
    "The `Series` data structure is for storing a 1-D array (or vector) of data elements. A series data structure also provides labels to the data items in the form of an `index`. The user can specify this label via the `index` parameter in the `Series` function, but if the `index` parameter is left unspecified, a default label of 0 to one minus the size of the data elements is assigned.\n",
    "\n",
    "Let us consider an example of creating a `Series` data structure."
   ]
  },
  {
   "cell_type": "code",
   "execution_count": null,
   "metadata": {},
   "outputs": [],
   "source": [
    "# create a Series object\n",
    "my_series = pd.Series([2,4,6,8], index=['e1','e2','e3','e4'])\n",
    "# print out data in Series data structure\n",
    "print( my_series )"
   ]
  },
  {
   "cell_type": "markdown",
   "metadata": {},
   "source": [
    "Output:<br>`\n",
    "e1    2\n",
    "e2    4\n",
    "e3    6\n",
    "e4    8\n",
    "dtype: int64\n",
    "    `"
   ]
  },
  {
   "cell_type": "code",
   "execution_count": null,
   "metadata": {},
   "outputs": [],
   "source": [
    "# check the data type of the variable\n",
    "print( type(my_series) )"
   ]
  },
  {
   "cell_type": "markdown",
   "metadata": {},
   "source": [
    "Output:<br>`pandas.core.series.Series`"
   ]
  },
  {
   "cell_type": "code",
   "execution_count": null,
   "metadata": {},
   "outputs": [],
   "source": [
    "# return the elements of the Series data structure\n",
    "print( my_series.values )"
   ]
  },
  {
   "cell_type": "markdown",
   "metadata": {},
   "source": [
    "Output:<br>`array([2, 4, 6, 8])`"
   ]
  },
  {
   "cell_type": "code",
   "execution_count": null,
   "metadata": {},
   "outputs": [],
   "source": [
    "# retrieve elements from Series data structure based on their assigned indices\n",
    "print( my_series['e1'] )"
   ]
  },
  {
   "cell_type": "markdown",
   "metadata": {},
   "source": [
    "Output:<br>`2`"
   ]
  },
  {
   "cell_type": "code",
   "execution_count": null,
   "metadata": {},
   "outputs": [],
   "source": [
    "# return all indices of the Series data structure\n",
    "print( my_series.index )"
   ]
  },
  {
   "cell_type": "markdown",
   "metadata": {},
   "source": [
    "Output:<br>`Index(['e1', 'e2', 'e3', 'e4'], dtype='object')`"
   ]
  },
  {
   "cell_type": "markdown",
   "metadata": {},
   "source": [
    "Elements in a `Series` data structure can be assigned the same indices."
   ]
  },
  {
   "cell_type": "code",
   "execution_count": null,
   "metadata": {},
   "outputs": [],
   "source": [
    "# create a Series object with elements sharing indices\n",
    "my_series = pd.Series([2,4,6,8], index=['e1','e2','e1','e2'])\n",
    "# note the same index assigned to various elements\n",
    "print( my_series )"
   ]
  },
  {
   "cell_type": "markdown",
   "metadata": {},
   "source": [
    "Output:<br>`\n",
    "e1    2\n",
    "e2    4\n",
    "e1    6\n",
    "e2    8\n",
    "dtype: int64\n",
    "    `"
   ]
  },
  {
   "cell_type": "code",
   "execution_count": null,
   "metadata": {},
   "outputs": [],
   "source": [
    "# get elements using their index\n",
    "print( my_series['e1'] )"
   ]
  },
  {
   "cell_type": "markdown",
   "metadata": {},
   "source": [
    "Output:<br>`\n",
    "e1    2\n",
    "e1    6\n",
    "dtype: int64\n",
    "    `"
   ]
  },
  {
   "cell_type": "markdown",
   "metadata": {},
   "source": [
    "# DataFrames\n",
    "\n",
    "A `DataFrame` is a Pandas data structure for storing and manipulating 2-D arrays. A 2-D array is a table-like structure that is similar to an Excel spreadsheet or a relational database table. A `DataFrame` is a very natural form for storing structured datasets.\n",
    "\n",
    "A `DataFrame` consists of rows and columns for storing records of information (in rows) across heterogeneous variables (in columns).\n",
    "\n",
    "Let’s see examples of working with `DataFrames`."
   ]
  },
  {
   "cell_type": "code",
   "execution_count": null,
   "metadata": {},
   "outputs": [],
   "source": [
    "# create a data frame\n",
    "my_DF = pd.DataFrame({'age': [15,17,21,29,25],             'state_of_origin':['Lagos', 'Cross River', 'Kano', 'Abia',\n",
    "            'Benue']})\n",
    "print( my_DF )"
   ]
  },
  {
   "cell_type": "markdown",
   "metadata": {},
   "source": [
    "Output:<br>`\n",
    "   age state_of_origin\n",
    "0   15         Lagos\n",
    "1   17    Cross River\n",
    "2   21           Kano\n",
    "3   29           Abia\n",
    "4   25          Benue\n",
    "    `"
   ]
  },
  {
   "cell_type": "markdown",
   "metadata": {},
   "source": [
    "We will observe from the preceding example that a `DataFrame` is constructed from a dictionary of records where each value is a `Series` data structure. Also note that each row has an `index` that can be assigned when creating the `DataFrame`, else the default from 0 to one off the number of records in the `DataFrame` is used. Creating an `index` manually is usually not feasible except when working with small dummy datasets.\n",
    "\n",
    "NumPy is frequently used together with Pandas. Let’s import the NumPy library and use some of its functions to demonstrate other ways of creating a quick `DataFrame`."
   ]
  },
  {
   "cell_type": "code",
   "execution_count": null,
   "metadata": {},
   "outputs": [],
   "source": [
    "import numpy as np\n",
    "# create a 3x3 dataframe of numbers from the normal distribution\n",
    "my_DF = pd.DataFrame(np.random.randn(3,3),            columns=['First','Second','Third'])\n",
    "print( my_DF )"
   ]
  },
  {
   "cell_type": "markdown",
   "metadata": {},
   "source": [
    "Output:<br>`\n",
    "      First    Second     Third\n",
    "0 -0.211218 -0.499870 -0.609792\n",
    "1 -0.295363  0.388722  0.316661\n",
    "2  1.397300 -0.894861  1.127306\n",
    "    `"
   ]
  },
  {
   "cell_type": "code",
   "execution_count": null,
   "metadata": {},
   "outputs": [],
   "source": [
    "# check the dimensions\n",
    "print( my_DF.shape )"
   ]
  },
  {
   "cell_type": "markdown",
   "metadata": {},
   "source": [
    "Output:<br>`(3, 3)`"
   ]
  },
  {
   "cell_type": "markdown",
   "metadata": {},
   "source": [
    "Let’s examine some other operations with `DataFrame`s."
   ]
  },
  {
   "cell_type": "code",
   "execution_count": null,
   "metadata": {},
   "outputs": [],
   "source": [
    "# create a python dictionary\n",
    "my_dict = {'State':['Adamawa', 'Akwa-Ibom', 'Yobe', 'Rivers', 'Taraba'],             'Capital':['Yola','Uyo','Damaturu','Port-Harcourt','Jalingo'],             'Population':[3178950, 5450758, 2321339, 5198716, 2294800]}\n",
    "print( my_dict )"
   ]
  },
  {
   "cell_type": "markdown",
   "metadata": {},
   "source": [
    "Output:<br>`\n",
    "{'Capital': ['Yola', 'Uyo', 'Damaturu', 'Port-Harcourt', 'Jalingo'],\n",
    " 'Population': [3178950, 5450758, 2321339, 5198716, 2294800],\n",
    " 'State': ['Adamawa', 'Akwa-Ibom', 'Yobe', 'Rivers', 'Taraba']}\n",
    "    `"
   ]
  },
  {
   "cell_type": "code",
   "execution_count": null,
   "metadata": {},
   "outputs": [],
   "source": [
    "# confirm dictionary type\n",
    "print( type(my_dict) )"
   ]
  },
  {
   "cell_type": "markdown",
   "metadata": {},
   "source": [
    "Output:<br>`dict`"
   ]
  },
  {
   "cell_type": "code",
   "execution_count": null,
   "metadata": {},
   "outputs": [],
   "source": [
    "# create DataFrame from dictionary\n",
    "my_DF = pd.DataFrame(my_dict)\n",
    "print( my_DF )"
   ]
  },
  {
   "cell_type": "markdown",
   "metadata": {},
   "source": [
    "Output:<br>`\n",
    "         Capital  Population      State\n",
    "0           Yola     3178950    Adamawa\n",
    "1            Uyo     5450758  Akwa-Ibom\n",
    "2       Damaturu     2321339       Yobe\n",
    "3  Port-Harcourt     5198716     Rivers\n",
    "4        Jalingo     2294800     Taraba\n",
    "    `"
   ]
  },
  {
   "cell_type": "code",
   "execution_count": null,
   "metadata": {},
   "outputs": [],
   "source": [
    "# check DataFrame type\n",
    "print( type(my_DF) )"
   ]
  },
  {
   "cell_type": "markdown",
   "metadata": {},
   "source": [
    "Output:<br>`pandas.core.frame.DataFrame`"
   ]
  },
  {
   "cell_type": "code",
   "execution_count": null,
   "metadata": {},
   "outputs": [],
   "source": [
    "# retrieve column names of the DataFrame\n",
    "print( my_DF.columns )"
   ]
  },
  {
   "cell_type": "markdown",
   "metadata": {},
   "source": [
    "Output:<br>`Index(['Capital', 'Population', 'State'], dtype='object')`"
   ]
  },
  {
   "cell_type": "code",
   "execution_count": null,
   "metadata": {},
   "outputs": [],
   "source": [
    "# the data type of `DF.columns` method is an Index\n",
    "print( type(my_DF.columns) )"
   ]
  },
  {
   "cell_type": "markdown",
   "metadata": {},
   "source": [
    "Output:<br>`pandas.core.indexes.base.Index`"
   ]
  },
  {
   "cell_type": "code",
   "execution_count": null,
   "metadata": {},
   "outputs": [],
   "source": [
    "# retrieve the DataFrame values as a NumPy ndarray\n",
    "print( my_DF.values )"
   ]
  },
  {
   "cell_type": "markdown",
   "metadata": {},
   "source": [
    "Output:<br>`\n",
    "array([['Yola', 3178950, 'Adamawa'],\n",
    "       ['Uyo', 5450758, 'Akwa-Ibom'],\n",
    "       ['Damaturu', 2321339, 'Yobe'],\n",
    "       ['Port-Harcourt', 5198716, 'Rivers'],\n",
    "       ['Jalingo', 2294800, 'Taraba']], dtype=object)\n",
    "    `"
   ]
  },
  {
   "cell_type": "code",
   "execution_count": null,
   "metadata": {},
   "outputs": [],
   "source": [
    "# the data type of  `DF.values` method is an numpy ndarray\n",
    "print( type(my_DF.values) )"
   ]
  },
  {
   "cell_type": "markdown",
   "metadata": {},
   "source": [
    "Output:<br>`numpy.ndarray`"
   ]
  },
  {
   "cell_type": "markdown",
   "metadata": {},
   "source": [
    "In summary, a `DataFrame` is a tabular structure for storing a structured dataset where each column contains a `Series` data structure of records. Here’s an illustration (Figure 11-1)."
   ]
  },
  {
   "cell_type": "markdown",
   "metadata": {},
   "source": [
    "> **Figure 11-1: _Pandas data structure_**<br><img width=\"500\" src=\"data:image/png;base64, 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\" />"
   ]
  },
  {
   "cell_type": "markdown",
   "metadata": {},
   "source": [
    "Let’s check the data type of each column in the `DataFrame`."
   ]
  },
  {
   "cell_type": "code",
   "execution_count": null,
   "metadata": {},
   "outputs": [],
   "source": [
    "print( my_DF.dtypes )"
   ]
  },
  {
   "cell_type": "markdown",
   "metadata": {},
   "source": [
    "Output:<br>`\n",
    "Capital       object\n",
    "Population     int64\n",
    "State         object\n",
    "dtype: object\n",
    "    `"
   ]
  },
  {
   "cell_type": "markdown",
   "metadata": {},
   "source": [
    "An `object` data type in Pandas represents `String`s.\n",
    "\n",
    "# Data Indexing (Selection/Subsets)\n",
    "\n",
    "Similar to NumPy, Pandas objects can index or subset the dataset to retrieve a specific sub-record of the larger dataset. Note that data indexing returns a new `DataFrame` or `Series` if a 2-D or 1-D array is retrieved. They do not, however, alter the original dataset. Let’s go through some examples of indexing a Pandas `DataFrame`.\n",
    "\n",
    "First let’s create a `Dataframe`. Observe the default integer indices assigned."
   ]
  },
  {
   "cell_type": "code",
   "execution_count": null,
   "metadata": {},
   "outputs": [],
   "source": [
    "# create the dataframe\n",
    "my_DF = pd.DataFrame({'age': [15,17,21,29,25],             \u0007'state_of_origin':['Lagos', 'Cross River', 'Kano', 'Abia',\n",
    "             'Benue']})\n",
    "print( my_DF )"
   ]
  },
  {
   "cell_type": "markdown",
   "metadata": {},
   "source": [
    "Output:<br>`\n",
    "   age state_of_origin\n",
    "0   15          Lagos\n",
    "1   17    Cross River\n",
    "2   21           Kano\n",
    "3   29           Abia\n",
    "4   25          Benue\n",
    "    `"
   ]
  },
  {
   "cell_type": "markdown",
   "metadata": {},
   "source": [
    "# Selecting a Column from a DataFrame\n",
    "\n",
    "Remember that the data type of a `DataFrame` column is a `Series` because it is a vector or 1-D array."
   ]
  },
  {
   "cell_type": "code",
   "execution_count": null,
   "metadata": {},
   "outputs": [],
   "source": [
    "print( my_DF['age'] )"
   ]
  },
  {
   "cell_type": "markdown",
   "metadata": {},
   "source": [
    "Output:<br>`\n",
    "0    15\n",
    "1    17\n",
    "2    21\n",
    "3    29\n",
    "4    25\n",
    "Name: age, dtype: int64\n",
    "    `"
   ]
  },
  {
   "cell_type": "code",
   "execution_count": null,
   "metadata": {},
   "outputs": [],
   "source": [
    "# check data type\n",
    "print( type(my_DF['age']) )"
   ]
  },
  {
   "cell_type": "markdown",
   "metadata": {},
   "source": [
    "Output:<br>`pandas.core.series.Series`"
   ]
  },
  {
   "cell_type": "markdown",
   "metadata": {},
   "source": [
    "To select multiple columns, enclose the column names as **strings** with the double square brackets `[[ ]]`. The following code is an example:"
   ]
  },
  {
   "cell_type": "code",
   "execution_count": null,
   "metadata": {},
   "outputs": [],
   "source": [
    "print( my_DF[['age','state_of_origin']] )"
   ]
  },
  {
   "cell_type": "markdown",
   "metadata": {},
   "source": [
    "Output:<br>`\n",
    "   age state_of_origin\n",
    "0   15          Lagos\n",
    "1   17    Cross River\n",
    "2   21           Kano\n",
    "3   29           Abia\n",
    "4   25          Benue\n",
    "    `"
   ]
  },
  {
   "cell_type": "markdown",
   "metadata": {},
   "source": [
    "# Selecting a Row from a DataFrame\n",
    "\n",
    "Pandas makes use of two unique wrapper attributes for indexing rows from a `DataFrame` or a cell from a `Series` data structure. These attributes are the `iloc` and `loc` - they are also known as indexers. The `iloc` attribute allows you to select or slice row(s) of a `DataFrame` using the intrinsic Python index format, whereas the `loc` attribute uses the explicit indices assigned to the `DataFrame`. If no explicit index is found, `loc` returns the same value as `iloc`.\n",
    "\n",
    "Remember that the data type of a `DataFrame` row is a `Series` because it is a vector or 1-D array.\n",
    "\n",
    "Let’s select the first row from the `DataFrame`."
   ]
  },
  {
   "cell_type": "code",
   "execution_count": null,
   "metadata": {},
   "outputs": [],
   "source": [
    "# using explicit indexing\n",
    "print( my_DF.loc[0] )"
   ]
  },
  {
   "cell_type": "markdown",
   "metadata": {},
   "source": [
    "Output:<br>`\n",
    "age                   15\n",
    "state_of_origin    Lagos\n",
    "Name: 0, dtype: object\n",
    "    `"
   ]
  },
  {
   "cell_type": "code",
   "execution_count": null,
   "metadata": {},
   "outputs": [],
   "source": [
    "# using implicit indexing\n",
    "print( my_DF.iloc[0] )"
   ]
  },
  {
   "cell_type": "markdown",
   "metadata": {},
   "source": [
    "Output:<br>`\n",
    "age                   15\n",
    "state_of_origin    Lagos\n",
    "Name: 0, dtype: object\n",
    "    `"
   ]
  },
  {
   "cell_type": "code",
   "execution_count": null,
   "metadata": {},
   "outputs": [],
   "source": [
    "# let's see the data type\n",
    "print( type(my_DF.loc[0]) )"
   ]
  },
  {
   "cell_type": "markdown",
   "metadata": {},
   "source": [
    "Output:<br>`pandas.core.series.Series`"
   ]
  },
  {
   "cell_type": "markdown",
   "metadata": {},
   "source": [
    "Now let’s create a `DataFrame` with explicit indexing and test out the `iloc` and `loc` methods. Pandas will return an error if `iloc` is used for explicit indexing or if `loc` is used for implicit Python indexing."
   ]
  },
  {
   "cell_type": "code",
   "execution_count": null,
   "metadata": {},
   "outputs": [],
   "source": [
    "my_DF = pd.DataFrame({'age': [15,17,21,29,25],             'state_of_origin':['Lagos', 'Cross River', 'Kano', 'Abia',\n",
    "            'Benue']},            index=['a','a','b','b','c'])\n",
    "# observe the string indices\n",
    "print( my_DF )"
   ]
  },
  {
   "cell_type": "markdown",
   "metadata": {},
   "source": [
    "Output:<br>`\n",
    "   age state_of_origin\n",
    "a   15           Lagos\n",
    "a   17     Cross River\n",
    "b   21            Kano\n",
    "b   29            Abia\n",
    "c   25           Benue\n",
    "    `"
   ]
  },
  {
   "cell_type": "code",
   "execution_count": null,
   "metadata": {},
   "outputs": [],
   "source": [
    "# select using explicit indexing\n",
    "print( my_DF.loc['a'] )"
   ]
  },
  {
   "cell_type": "markdown",
   "metadata": {},
   "source": [
    "Output:<br>`\n",
    "   age state_of_origin\n",
    "a   15           Lagos\n",
    "a   17     Cross River\n",
    "    `"
   ]
  },
  {
   "cell_type": "code",
   "execution_count": null,
   "metadata": {},
   "outputs": [],
   "source": [
    "# let's try to use loc for implicit indexing\n",
    "print( my_DF.loc[0] )"
   ]
  },
  {
   "cell_type": "markdown",
   "metadata": {},
   "source": [
    "Output:<br>`\n",
    "    Traceback (most recent call last):\n",
    "    TypeError: cannot do label indexing on <class 'pandas.core.indexes.\n",
    "     base.Index'>\n",
    "        with these indexers [0] of <class 'int'>\n",
    "    `"
   ]
  },
  {
   "cell_type": "markdown",
   "metadata": {},
   "source": [
    "# Selecting Multiple Rows and Columns from a DataFrame\n",
    "\n",
    "Let’s use the `loc` method to select multiple rows and columns from a Pandas `DataFrame`."
   ]
  },
  {
   "cell_type": "code",
   "execution_count": null,
   "metadata": {},
   "outputs": [],
   "source": [
    "# select rows with age greater than 20\n",
    "print( my_DF.loc[my_DF.age > 20] )"
   ]
  },
  {
   "cell_type": "markdown",
   "metadata": {},
   "source": [
    "Output:<br>`\n",
    "   age  state_of_origin\n",
    "2   21             Kano\n",
    "3   29             Abia\n",
    "4   25            Benue\n",
    "    `"
   ]
  },
  {
   "cell_type": "code",
   "execution_count": null,
   "metadata": {},
   "outputs": [],
   "source": [
    "# find states of origin with age greater than or equal to 25\n",
    "print( my_DF.loc[my_DF.age >= 25, 'state_of_origin'] )"
   ]
  },
  {
   "cell_type": "markdown",
   "metadata": {},
   "source": [
    "Output:<br>`\n",
    "3     Abia\n",
    "4    Benue\n",
    "    `"
   ]
  },
  {
   "cell_type": "markdown",
   "metadata": {},
   "source": [
    "# Slice Cells by Row and Column from a DataFrame\n",
    "\n",
    "First let’s create a `DataFrame`. Remember, we use `iloc` when no explicit index or row labels are assigned."
   ]
  },
  {
   "cell_type": "code",
   "execution_count": null,
   "metadata": {},
   "outputs": [],
   "source": [
    "my_DF = pd.DataFrame({\n",
    "    'age': [15,17,21,29,25],\n",
    "    'state_of_origin': ['Lagos', 'Cross River', 'Kano', 'Abia',\n",
    "    'Benue'],\n",
    "})\n",
    "print( my_DF )"
   ]
  },
  {
   "cell_type": "markdown",
   "metadata": {},
   "source": [
    "Output:<br>`\n",
    "   age  state_of_origin\n",
    "0   15            Lagos\n",
    "1   17      Cross River\n",
    "2   21             Kano\n",
    "3   29             Abia\n",
    "4   25            Benue\n",
    "    `"
   ]
  },
  {
   "cell_type": "code",
   "execution_count": null,
   "metadata": {},
   "outputs": [],
   "source": [
    "# select the third row and second column\n",
    "print( my_DF.iloc[2,1] )"
   ]
  },
  {
   "cell_type": "markdown",
   "metadata": {},
   "source": [
    "Output:<br>`'Kano'`"
   ]
  },
  {
   "cell_type": "code",
   "execution_count": null,
   "metadata": {},
   "outputs": [],
   "source": [
    "# slice the first 2 rows - indexed from zero, excluding the final index\n",
    "print( my_DF.iloc[:2,] )"
   ]
  },
  {
   "cell_type": "markdown",
   "metadata": {},
   "source": [
    "Output:<br>`\n",
    "   age  state_of_origin\n",
    "0   15            Lagos\n",
    "1   17      Cross River\n",
    "    `"
   ]
  },
  {
   "cell_type": "code",
   "execution_count": null,
   "metadata": {},
   "outputs": [],
   "source": [
    "# slice the last three rows from the last column\n",
    "print( my_DF.iloc[-3:,-1] )"
   ]
  },
  {
   "cell_type": "markdown",
   "metadata": {},
   "source": [
    "Output:<br>`\n",
    "2     Kano\n",
    "3     Abia\n",
    "4    Benue\n",
    "Name: state_of_origin, dtype: object\n",
    "    `"
   ]
  },
  {
   "cell_type": "markdown",
   "metadata": {},
   "source": [
    "# DataFrame Manipulation\n",
    "\n",
    "Let’s go through some common tasks for manipulating a `DataFrame`.\n",
    "\n",
    "# Removing a Row/Column\n",
    "\n",
    "In many cases during the data cleaning process, there may be a need to drop unwanted rows or data variables (i.e., columns). We typically do this using the `drop` function. The `drop` function has a parameter `axis` whose default is 0. If `axis` is set to 1, it drops columns in a dataset, but if left at the default, rows are dropped from the dataset.\n",
    "\n",
    "Note that when a column or row is dropped, a new `DataFrame` or `Series` is returned without altering the original data structure. However, when the attribute `inplace` is set to `True`, the original `DataFrame` or `Series` is modified. Let’s see some examples."
   ]
  },
  {
   "cell_type": "code",
   "execution_count": null,
   "metadata": {},
   "outputs": [],
   "source": [
    "# the data frame\n",
    "my_DF = pd.DataFrame({\n",
    "    'age': [15,17,21,29,25],\n",
    "    'state_of_origin': ['Lagos', 'Cross River', 'Kano', 'Abia', 'Benue'],\n",
    "})\n",
    "print( my_DF )"
   ]
  },
  {
   "cell_type": "markdown",
   "metadata": {},
   "source": [
    "Output:<br>`\n",
    "   age  state_of_origin\n",
    "0   15            Lagos\n",
    "1   17      Cross River\n",
    "2   21             Kano\n",
    "3   29             Abia\n",
    "4   25            Benue\n",
    "    `"
   ]
  },
  {
   "cell_type": "code",
   "execution_count": null,
   "metadata": {},
   "outputs": [],
   "source": [
    "# drop the 3rd and 4th column\n",
    "print( my_DF.drop([2,4]) )"
   ]
  },
  {
   "cell_type": "markdown",
   "metadata": {},
   "source": [
    "Output:<br>`\n",
    "   age  state_of_origin\n",
    "0   15            Lagos\n",
    "1   17      Cross River\n",
    "3   29             Abia\n",
    "    `"
   ]
  },
  {
   "cell_type": "code",
   "execution_count": null,
   "metadata": {},
   "outputs": [],
   "source": [
    "# drop the `age` column\n",
    "print( my_DF.drop('age', axis=1) )"
   ]
  },
  {
   "cell_type": "markdown",
   "metadata": {},
   "source": [
    "Output:<br>`\n",
    "  state_of_origin\n",
    "0           Lagos\n",
    "1     Cross River\n",
    "2            Kano\n",
    "3            Abia\n",
    "4           Benue\n",
    "    `"
   ]
  },
  {
   "cell_type": "code",
   "execution_count": null,
   "metadata": {},
   "outputs": [],
   "source": [
    "# original DataFrame is unchanged\n",
    "print( my_DF )"
   ]
  },
  {
   "cell_type": "markdown",
   "metadata": {},
   "source": [
    "Output:<br>`\n",
    "   age  state_of_origin\n",
    "0   15            Lagos\n",
    "1   17      Cross River\n",
    "2   21             Kano\n",
    "3   29             Abia\n",
    "4   25            Benue\n",
    "    `"
   ]
  },
  {
   "cell_type": "code",
   "execution_count": null,
   "metadata": {},
   "outputs": [],
   "source": [
    "# drop using 'inplace' - to modify the original DataFrame\n",
    "my_DF.drop('age', axis=1, inplace=True)\n",
    "# original DataFrame altered\n",
    "print( my_DF )"
   ]
  },
  {
   "cell_type": "markdown",
   "metadata": {},
   "source": [
    "Output:<br>`\n",
    "  state_of_origin\n",
    "0           Lagos\n",
    "1     Cross River\n",
    "2            Kano\n",
    "3            Abia\n",
    "4           Benue\n",
    "    `"
   ]
  },
  {
   "cell_type": "markdown",
   "metadata": {},
   "source": [
    "Let’s see examples of removing a row given a condition."
   ]
  },
  {
   "cell_type": "code",
   "execution_count": null,
   "metadata": {},
   "outputs": [],
   "source": [
    "my_DF = pd.DataFrame({\n",
    "    'age': [15,17,21,29,25],\n",
    "    'state_of_origin': ['Lagos', 'Cross River', 'Kano', 'Abia', 'Benue'],\n",
    "})\n",
    "print( my_DF )"
   ]
  },
  {
   "cell_type": "markdown",
   "metadata": {},
   "source": [
    "Output:<br>`\n",
    "   age  state_of_origin\n",
    "0   15            Lagos\n",
    "1   17      Cross River\n",
    "2   21             Kano\n",
    "3   29             Abia\n",
    "4   25            Benue\n",
    "    `"
   ]
  },
  {
   "cell_type": "code",
   "execution_count": null,
   "metadata": {},
   "outputs": [],
   "source": [
    "# drop all rows less than 20\n",
    "my_DF.drop(my_DF[my_DF['age'] < 20].index, inplace=True)\n",
    "print( my_DF )"
   ]
  },
  {
   "cell_type": "markdown",
   "metadata": {},
   "source": [
    "Output:<br>`\n",
    "   age  state_of_origin\n",
    "2   21             Kano\n",
    "3   29             Abia\n",
    "4   25            Benue\n",
    "    `"
   ]
  },
  {
   "cell_type": "markdown",
   "metadata": {},
   "source": [
    "# Adding a Row/Column\n",
    "\n",
    "We can add a new column to a Pandas `DataFrame` by using the `assign` method."
   ]
  },
  {
   "cell_type": "code",
   "execution_count": null,
   "metadata": {},
   "outputs": [],
   "source": [
    "# show dataframe\n",
    "my_DF = pd.DataFrame({\n",
    "    'age': [15,17,21,29,25],     'state_of_origin': ['Lagos', 'Cross River', 'Kano', 'Abia', 'Benue'],\n",
    "})\n",
    "print( my_DF )"
   ]
  },
  {
   "cell_type": "markdown",
   "metadata": {},
   "source": [
    "Output:<br>`\n",
    "   age  state_of_origin\n",
    "0   15            Lagos\n",
    "1   17      Cross River\n",
    "2   21             Kano\n",
    "3   29             Abia\n",
    "4   25            Benue\n",
    "    `"
   ]
  },
  {
   "cell_type": "code",
   "execution_count": null,
   "metadata": {},
   "outputs": [],
   "source": [
    "# add column to data frame\n",
    "my_DF = my_DF.assign(capital_city = pd.Series([\n",
    "    'Ikeja',\n",
    "    'Calabar',\n",
    "    'Kano',\n",
    "    'Umuahia',\n",
    "    'Makurdi',\n",
    "]))\n",
    "print( my_DF )"
   ]
  },
  {
   "cell_type": "markdown",
   "metadata": {},
   "source": [
    "Output:<br>`\n",
    "   age  state_of_origin  capital_city\n",
    "0   15            Lagos         Ikeja\n",
    "1   17      Cross River       Calabar\n",
    "2   21             Kano          Kano\n",
    "3   29             Abia       Umuahia\n",
    "4   25            Benue       Makurdi\n",
    "    `"
   ]
  },
  {
   "cell_type": "markdown",
   "metadata": {},
   "source": [
    "We can also add a new `DataFrame` column by computing some function on another column. Let’s take an example by adding a column computing the absolute difference of the ages from their mean."
   ]
  },
  {
   "cell_type": "code",
   "execution_count": null,
   "metadata": {},
   "outputs": [],
   "source": [
    "mean_of_age = my_DF['age'].mean()\n",
    "my_DF['diff_age'] = my_DF['age'].map(lambda x: abs(x-mean_of_age))\n",
    "print( my_DF )"
   ]
  },
  {
   "cell_type": "markdown",
   "metadata": {},
   "source": [
    "Output:<br>`\n",
    "   age  state_of_origin  diff_age\n",
    "0   15            Lagos       6.4\n",
    "1   17      Cross River       4.4\n",
    "2   21             Kano       0.4\n",
    "3   29             Abia       7.6\n",
    "4   25            Benue       3.6\n",
    "    `"
   ]
  },
  {
   "cell_type": "markdown",
   "metadata": {},
   "source": [
    "Typically in practice, a fully formed dataset is converted into Pandas for cleaning and data analysis, which does not ideally involve adding a new observation to the dataset. But in the event that this is desired, we can use the `append()` method to achieve this. However, it may not be a computationally efficient action. Let’s see an example."
   ]
  },
  {
   "cell_type": "code",
   "execution_count": null,
   "metadata": {},
   "outputs": [],
   "source": [
    "# show dataframe\n",
    "my_DF = pd.DataFrame({\n",
    "    'age': [15,17,21,29,25],\n",
    "    'state_of_origin':['Lagos', 'Cross River', 'Kano', 'Abia', 'Benue'],\n",
    "})\n",
    "print( my_DF )"
   ]
  },
  {
   "cell_type": "markdown",
   "metadata": {},
   "source": [
    "Output:<br>`\n",
    "   age  state_of_origin\n",
    "0   15            Lagos\n",
    "1   17      Cross River\n",
    "2   21             Kano\n",
    "3   29             Abia\n",
    "4   25            Benue\n",
    "    `"
   ]
  },
  {
   "cell_type": "code",
   "execution_count": null,
   "metadata": {},
   "outputs": [],
   "source": [
    "# add a row to data frame\n",
    "my_DF = my_DF.append(\n",
    "    pd.Series([30 , 'Osun'], index=my_DF.columns),\n",
    "    ignore_index=True,\n",
    ")\n",
    "print( my_DF )"
   ]
  },
  {
   "cell_type": "markdown",
   "metadata": {},
   "source": [
    "Output:<br>`\n",
    "   age  state_of_origin\n",
    "0   15            Lagos\n",
    "1   17      Cross River\n",
    "2   21             Kano\n",
    "3   29             Abia\n",
    "4   25            Benue\n",
    "5   30             Osun\n",
    "    `"
   ]
  },
  {
   "cell_type": "markdown",
   "metadata": {},
   "source": [
    "We observe that adding a new row involves passing to the `append` method, a `Series` object with the `index` attribute set to the columns of the main `DataFrame`. Since typically, in given datasets, the `index` is nothing more than the assigned defaults, we set the attribute `ignore_index` to create a new set of default `index` values with the new row(s).\n",
    "\n",
    "# Data Alignment\n",
    "\n",
    "Pandas utilizes data alignment to align indices when performing some binary arithmetic operation on `DataFrame`s. If two or more `DataFrame`s in an arithmetic operation do not share a common index, a `NaN` is introduced denoting missing data. Let’s see examples of this."
   ]
  },
  {
   "cell_type": "code",
   "execution_count": null,
   "metadata": {},
   "outputs": [],
   "source": [
    "# create a 3x3 dataframe - remember randint(low, high, size)\n",
    "df_A = pd.DataFrame(np.random.randint(1,10,[3,3]),            columns=['First','Second','Third'])\n",
    "print( df_A )"
   ]
  },
  {
   "cell_type": "markdown",
   "metadata": {},
   "source": [
    "Output:<br>`\n",
    "   First  Second  Third\n",
    "0      2       3      9\n",
    "1      8       7      7\n",
    "2      8       6      4\n",
    "    `"
   ]
  },
  {
   "cell_type": "code",
   "execution_count": null,
   "metadata": {},
   "outputs": [],
   "source": [
    "# create a 4x3 dataframe\n",
    "df_B = pd.DataFrame(np.random.randint(1,10,[4,3]),            columns=['First','Second','Third'])\n",
    "print( df_B )"
   ]
  },
  {
   "cell_type": "markdown",
   "metadata": {},
   "source": [
    "Output:<br>`\n",
    "   First  Second  Third\n",
    "0      3       6      3\n",
    "1      2       2      1\n",
    "2      9       3      8\n",
    "3      2       9      2\n",
    "    `"
   ]
  },
  {
   "cell_type": "code",
   "execution_count": null,
   "metadata": {},
   "outputs": [],
   "source": [
    "# add df_A and df_B together\n",
    "print( df_A + df_B )"
   ]
  },
  {
   "cell_type": "markdown",
   "metadata": {},
   "source": [
    "Output:<br>`\n",
    "   First  Second  Third\n",
    "0    5.0     9.0   12.0\n",
    "1   10.0     9.0    8.0\n",
    "2   17.0     9.0   12.0\n",
    "3    NaN     NaN    NaN\n",
    "    `"
   ]
  },
  {
   "cell_type": "code",
   "execution_count": null,
   "metadata": {},
   "outputs": [],
   "source": [
    "# divide both dataframes\n",
    "print( df_A / df_B )"
   ]
  },
  {
   "cell_type": "markdown",
   "metadata": {},
   "source": [
    "Output:<br>`\n",
    "      First  Second  Third\n",
    "0  0.666667     0.5    3.0\n",
    "1  4.000000     3.5    7.0\n",
    "2  0.888889     2.0    0.5\n",
    "3       NaN     NaN    NaN\n",
    "    `"
   ]
  },
  {
   "cell_type": "markdown",
   "metadata": {},
   "source": [
    "If we do not want a `NaN` signifying missing values to be imputed, we can use the `fill_value` attribute to substitute with a default value. However, to take advantage of the `fill_value` attribute, we have to use the Pandas arithmetic methods: `add()`, `sub()`, `mul()`, `div()`, `floordiv()`, `mod()`, and `pow()` for addition, subtraction, multiplication, integer division, numeric division, remainder division, and exponentiation. Let’s see examples."
   ]
  },
  {
   "cell_type": "code",
   "execution_count": null,
   "metadata": {},
   "outputs": [],
   "source": [
    "print( df_A.add(df_B, fill_value=10) )"
   ]
  },
  {
   "cell_type": "markdown",
   "metadata": {},
   "source": [
    "Output:<br>`\n",
    "   First  Second  Third\n",
    "0    5.0     9.0   12.0\n",
    "1   10.0     9.0    8.0\n",
    "2   17.0     9.0   12.0\n",
    "3   12.0    19.0   12.0\n",
    "    `"
   ]
  },
  {
   "cell_type": "markdown",
   "metadata": {},
   "source": [
    "# Combining Datasets\n",
    "\n",
    "We may need to combine two or more datasets together; Pandas provides methods for such operations. We would consider the simple case of combining data frames with shared column names using the `concat` method."
   ]
  },
  {
   "cell_type": "code",
   "execution_count": null,
   "metadata": {},
   "outputs": [],
   "source": [
    "# combine two dataframes column-wise\n",
    "print( pd.concat([df_A, df_B]) )"
   ]
  },
  {
   "cell_type": "markdown",
   "metadata": {},
   "source": [
    "Output:<br>`\n",
    "   First  Second  Third\n",
    "0      2       3      9\n",
    "1      8       7      7\n",
    "2      8       6      4\n",
    "0      3       6      3\n",
    "1      2       2      1\n",
    "2      9       3      8\n",
    "3      2       9      2\n",
    "    `"
   ]
  },
  {
   "cell_type": "markdown",
   "metadata": {},
   "source": [
    "Observe that the `concat` method preserves indices by default. We can also concatenate or combine two dataframes by rows (or horizontally). This is done by setting the `axis` parameter to 1."
   ]
  },
  {
   "cell_type": "code",
   "execution_count": null,
   "metadata": {},
   "outputs": [],
   "source": [
    "# combine two dataframes horizontally\n",
    "print( pd.concat([df_A, df_B], axis=1) )"
   ]
  },
  {
   "cell_type": "markdown",
   "metadata": {},
   "source": [
    "Output:<br>`\n",
    "   First  Second  Third  First  Second  Third\n",
    "0    2.0     3.0    9.0     3        6     3\n",
    "1    8.0     7.0    7.0     2        2     1\n",
    "2    8.0     6.0    4.0     9        3     8\n",
    "3    NaN     NaN    NaN     2        9     2\n",
    "    `"
   ]
  },
  {
   "cell_type": "markdown",
   "metadata": {},
   "source": [
    "# Handling Missing Data\n",
    "\n",
    "Dealing with missing data is an integral part of the data cleaning/data analysis process. Moreover, some machine learning algorithms will not work in the presence of missing data. Let’s see some simple Pandas methods for identifying and removing missing data, as well as imputing values into missing data.\n",
    "\n",
    "# Identifying Missing Data\n",
    "\n",
    "In this section, we’ll use the `isnull()` method to check if missing cells exist in a `DataFrame`."
   ]
  },
  {
   "cell_type": "code",
   "execution_count": null,
   "metadata": {},
   "outputs": [],
   "source": [
    "# let's create a data frame with missing data\n",
    "my_DF = pd.DataFrame({\n",
    "    'age': [15,17,np.nan,29,25],\n",
    "    'state_of_origin':['Lagos', 'Cross River', 'Kano', 'Abia', np.nan],\n",
    "})\n",
    "print( my_DF )"
   ]
  },
  {
   "cell_type": "markdown",
   "metadata": {},
   "source": [
    "Output:<br>`\n",
    "    age  state_of_origin\n",
    "0  15.0            Lagos\n",
    "1  17.0      Cross River\n",
    "2   NaN             Kano\n",
    "3  29.0             Abia\n",
    "4  25.0              NaN\n",
    "    `"
   ]
  },
  {
   "cell_type": "markdown",
   "metadata": {},
   "source": [
    "Let’s check for missing data in this data frame. The `isnull()` method will return `True` where there is a missing data, whereas the `notnull()` function returns `False`."
   ]
  },
  {
   "cell_type": "code",
   "execution_count": null,
   "metadata": {},
   "outputs": [],
   "source": [
    "print( my_DF.isnull() )"
   ]
  },
  {
   "cell_type": "markdown",
   "metadata": {},
   "source": [
    "Output:<br>`\n",
    "     age  state_of_origin\n",
    "0  False            False\n",
    "1  False            False\n",
    "2   True            False\n",
    "3  False            False\n",
    "4  False             True\n",
    "    `"
   ]
  },
  {
   "cell_type": "markdown",
   "metadata": {},
   "source": [
    "However, if we want a single answer (i.e., either `True` or `False`) to report if there is a missing data in the data frame, we will first convert the `DataFrame` to a NumPy array and use the function `any()`.\n",
    "\n",
    "The `any` function returns `True` when at least one of the elements in the dataset is `True`. In this case, `isnull()` returns a `DataFrame` of booleans where `True` designates a cell with a missing value.\n",
    "\n",
    "Let’s see how that works."
   ]
  },
  {
   "cell_type": "code",
   "execution_count": null,
   "metadata": {},
   "outputs": [],
   "source": [
    "print( my_DF.isnull().values.any() )"
   ]
  },
  {
   "cell_type": "markdown",
   "metadata": {},
   "source": [
    "Output:<br>`True`"
   ]
  },
  {
   "cell_type": "markdown",
   "metadata": {},
   "source": [
    "# Removing Missing Data\n",
    "\n",
    "Pandas has a function `dropna()` which is used to filter or remove missing data from a `DataFrame`. `dropna()` returns a new `DataFrame` without missing data. Let’s see examples of how this works."
   ]
  },
  {
   "cell_type": "code",
   "execution_count": null,
   "metadata": {},
   "outputs": [],
   "source": [
    "# let's see our dataframe with missing data\n",
    "my_DF = pd.DataFrame({\n",
    "    'age': [15,17,np.nan,29,25],\n",
    "    'state_of_origin': ['Lagos', 'Cross River', 'Kano', 'Abia', np.nan]\n",
    "})\n",
    "my_DF"
   ]
  },
  {
   "cell_type": "markdown",
   "metadata": {},
   "source": [
    "Output:<br>`\n",
    "    age  state_of_origin\n",
    "0  15.0            Lagos\n",
    "1  17.0      Cross River\n",
    "2   NaN             Kano\n",
    "3  29.0             Abia\n",
    "4  25.0              NaN\n",
    "    `"
   ]
  },
  {
   "cell_type": "code",
   "execution_count": null,
   "metadata": {},
   "outputs": [],
   "source": [
    "# let's run dropna() to remove all rows with missing values\n",
    "my_DF.dropna()"
   ]
  },
  {
   "cell_type": "markdown",
   "metadata": {},
   "source": [
    "Output:<br>`\n",
    "    age  state_of_origin\n",
    "0  15.0            Lagos\n",
    "1  17.0      Cross River\n",
    "3  29.0             Abia\n",
    "    `"
   ]
  },
  {
   "cell_type": "markdown",
   "metadata": {},
   "source": [
    "As we will observe from the preceding code block, `dropna()` drops all rows that contain a missing value. But we may not want that. We may rather, for example, want to drop columns with missing data or drop rows where all the observations are missing or better still remove consequent on the number of observations present in a particular row.\n",
    "\n",
    "Let’s see examples of this option. First let’s expand our example dataset."
   ]
  },
  {
   "cell_type": "code",
   "execution_count": null,
   "metadata": {},
   "outputs": [],
   "source": [
    "my_DF = pd.DataFrame({\n",
    "    'Capital': ['Yola', np.nan, np.nan, 'Port-Harcourt', 'Jalingo'],\n",
    "    'Population': [3178950, np.nan, 2321339, np.nan, 2294800],\n",
    "    'State': ['Adamawa', np.nan, 'Yobe', np.nan, 'Taraba'],\n",
    "    'LGAs': [22, np.nan, 17, 23, 16],\n",
    "})\n",
    "my_DF"
   ]
  },
  {
   "cell_type": "markdown",
   "metadata": {},
   "source": [
    "Output:<br>`\n",
    "         Capital  LGAs  Population    State\n",
    "0           Yola  22.0   3178950.0  Adamawa\n",
    "1            NaN   NaN         NaN      NaN\n",
    "2            NaN  17.0   2321339.0     Yobe\n",
    "3  Port-Harcourt  23.0         NaN      NaN\n",
    "4        Jalingo  16.0   2294800.0   Taraba\n",
    "    `"
   ]
  },
  {
   "cell_type": "markdown",
   "metadata": {},
   "source": [
    "Drop columns with `NaN`. This option is not often used in practice."
   ]
  },
  {
   "cell_type": "code",
   "execution_count": null,
   "metadata": {},
   "outputs": [],
   "source": [
    "my_DF.dropna(axis=1)"
   ]
  },
  {
   "cell_type": "markdown",
   "metadata": {},
   "source": [
    "Output:<br>`\n",
    "Empty DataFrame\n",
    "Columns: []\n",
    "Index: [0, 1, 2, 3, 4]\n",
    "    `"
   ]
  },
  {
   "cell_type": "markdown",
   "metadata": {},
   "source": [
    "Drop rows where all the observations are missing."
   ]
  },
  {
   "cell_type": "code",
   "execution_count": null,
   "metadata": {},
   "outputs": [],
   "source": [
    "my_DF.dropna(how='all')"
   ]
  },
  {
   "cell_type": "markdown",
   "metadata": {},
   "source": [
    "Output:<br>`\n",
    "         Capital  LGAs  Population    State\n",
    "0           Yola  22.0   3178950.0  Adamawa\n",
    "2            NaN  17.0   2321339.0     Yobe\n",
    "3  Port-Harcourt  23.0         NaN      NaN\n",
    "4        Jalingo  16.0   2294800.0   Taraba\n",
    "    `"
   ]
  },
  {
   "cell_type": "markdown",
   "metadata": {},
   "source": [
    "Drop rows based on an observation threshold. By adjusting the `thresh` attribute, we can drop rows where the number of observations in the row is less than the `thresh` value."
   ]
  },
  {
   "cell_type": "code",
   "execution_count": null,
   "metadata": {},
   "outputs": [],
   "source": [
    "# drop rows where number of NaN is less than 3\n",
    "my_DF.dropna(thresh=3)"
   ]
  },
  {
   "cell_type": "markdown",
   "metadata": {},
   "source": [
    "Output:<br>`\n",
    "   Capital  LGAs  Population    State\n",
    "0     Yola  22.0   3178950.0  Adamawa\n",
    "2      NaN  17.0   2321339.0     Yobe\n",
    "4  Jalingo  16.0   2294800.0   Taraba\n",
    "    `"
   ]
  },
  {
   "cell_type": "markdown",
   "metadata": {},
   "source": [
    "# Imputing Values into Missing Data\n",
    "\n",
    "Imputing values as substitutes for missing data is a standard practice in preparing data for machine learning. Pandas has a `fillna()` function for this purpose. A simple approach is to fill `NaN`s with zeros."
   ]
  },
  {
   "cell_type": "code",
   "execution_count": null,
   "metadata": {},
   "outputs": [],
   "source": [
    "my_DF.fillna(0) # we can also run my_DF.replace(np.nan, 0)"
   ]
  },
  {
   "cell_type": "markdown",
   "metadata": {},
   "source": [
    "Output:<br>`\n",
    "         Capital  LGAs  Population    State\n",
    "0           Yola  22.0   3178950.0  Adamawa\n",
    "1              0   0.0         0.0        0\n",
    "2              0  17.0   2321339.0     Yobe\n",
    "3  Port-Harcourt  23.0         0.0        0\n",
    "4        Jalingo  16.0   2294800.0   Taraba\n",
    "    `"
   ]
  },
  {
   "cell_type": "markdown",
   "metadata": {},
   "source": [
    "Another tactic is to fill missing values with the mean of the column value."
   ]
  },
  {
   "cell_type": "code",
   "execution_count": null,
   "metadata": {},
   "outputs": [],
   "source": [
    "my_DF.fillna(my_DF.mean())"
   ]
  },
  {
   "cell_type": "markdown",
   "metadata": {},
   "source": [
    "Output:<br>`\n",
    "         Capital  LGAs  Population    State\n",
    "0           Yola  22.0   3178950.0  Adamawa\n",
    "1            NaN  19.5   2598363.0      NaN\n",
    "2            NaN  17.0   2321339.0     Yobe\n",
    "3  Port-Harcourt  23.0   2598363.0      NaN\n",
    "4        Jalingo  16.0   2294800.0   Taraba\n",
    "    `"
   ]
  },
  {
   "cell_type": "markdown",
   "metadata": {},
   "source": [
    "# Data Aggregation (Grouping)\n",
    "\n",
    "We will touch briefly on a common practice in data science, and that is grouping a set of data attributes, either for retrieving some group statistics or applying a particular set of functions to the group. Grouping is commonly used for data exploration and plotting graphs to understand more about the dataset. Missing data are automatically excluded in a grouping operation.\n",
    "\n",
    "Let’s see examples of how this works."
   ]
  },
  {
   "cell_type": "code",
   "execution_count": null,
   "metadata": {},
   "outputs": [],
   "source": [
    "# create a data frame\n",
    "my_DF = pd.DataFrame({\n",
    "    'Sex':    ['M', 'F', 'M', 'F','M', 'F','M', 'F'],\n",
    "    'Age':    np.random.randint(15,60,8),\n",
    "    'Salary': np.random.rand(8)*10000,\n",
    "})\n",
    "my_DF"
   ]
  },
  {
   "cell_type": "markdown",
   "metadata": {},
   "source": [
    "Output:<br>`\n",
    "   Age       Salary Sex\n",
    "0   54  6092.596170   M\n",
    "1   57  3148.886141   F\n",
    "2   37  5960.916038   M\n",
    "3   23  6713.133849   F\n",
    "4   34  5208.240349   M\n",
    "5   25  2469.118934   F\n",
    "6   50  1277.511182   M\n",
    "7   54  3529.201109   F\n",
    "    `"
   ]
  },
  {
   "cell_type": "markdown",
   "metadata": {},
   "source": [
    "Let’s find the mean age and salary for observations in our dataset grouped by `Sex`."
   ]
  },
  {
   "cell_type": "code",
   "execution_count": null,
   "metadata": {},
   "outputs": [],
   "source": [
    "my_DF.groupby('Sex').mean()"
   ]
  },
  {
   "cell_type": "markdown",
   "metadata": {},
   "source": [
    "Output:<br>`\n",
    "       Age       Salary\n",
    "Sex\n",
    "F    39.75  3965.085008\n",
    "M    43.75  4634.815935\n",
    "    `"
   ]
  },
  {
   "cell_type": "markdown",
   "metadata": {},
   "source": [
    "We can group by more than one variable. In this case for each `Sex` group, also group the age and find the mean of the other numeric variables."
   ]
  },
  {
   "cell_type": "code",
   "execution_count": null,
   "metadata": {},
   "outputs": [],
   "source": [
    "my_DF.groupby([my_DF['Sex'], my_DF['Age']]).mean()"
   ]
  },
  {
   "cell_type": "markdown",
   "metadata": {},
   "source": [
    "Output:<br>`\n",
    "              Salary\n",
    "Sex Age\n",
    "F   23   6713.133849\n",
    "    25   2469.118934\n",
    "    54   3529.201109\n",
    "    57   3148.886141\n",
    "M   34   5208.240349\n",
    "    37   5960.916038\n",
    "    50   1277.511182\n",
    "    54   6092.596170\n",
    "    `"
   ]
  },
  {
   "cell_type": "markdown",
   "metadata": {},
   "source": [
    "Also, we can use a variable as a group key to run a group function on another variable or sets of variables."
   ]
  },
  {
   "cell_type": "code",
   "execution_count": null,
   "metadata": {},
   "outputs": [],
   "source": [
    "my_DF['Age'].groupby(my_DF['Salary']).mean()"
   ]
  },
  {
   "cell_type": "markdown",
   "metadata": {},
   "source": [
    "Output:<br>`\n",
    "Salary\n",
    "1277.511182    50\n",
    "2469.118934    25\n",
    "3148.886141    57\n",
    "3529.201109    54\n",
    "5208.240349    34\n",
    "5960.916038    37\n",
    "6092.596170    54\n",
    "6713.133849    23\n",
    "Name: Age, dtype: int64\n",
    "    `"
   ]
  },
  {
   "cell_type": "markdown",
   "metadata": {},
   "source": [
    "# Statistical Summaries\n",
    "\n",
    "Descriptive statistics is an essential component of the data science pipeline. By investigating the properties of the dataset, we can gain a better understanding of the data and the relationship between the variables. This information is useful in making decisions about the type of data transformations to carry out or the types of learning algorithms to spot check. Let’s see some examples of simple statistical functions in Pandas.\n",
    "\n",
    "First, we’ll create a Pandas `DataFrame`."
   ]
  },
  {
   "cell_type": "code",
   "execution_count": null,
   "metadata": {},
   "outputs": [],
   "source": [
    "my_DF = pd.DataFrame(\n",
    "    np.random.randint(10,80,[7,4]),\n",
    "    columns=['First','Second','Third', 'Fourth'],\n",
    ")"
   ]
  },
  {
   "cell_type": "markdown",
   "metadata": {},
   "source": [
    "Output:<br>`\n",
    "   First  Second  Third  Fourth\n",
    "0     47      32     66      52\n",
    "1     37      66     16      22\n",
    "2     24      16     63      36\n",
    "3     70      47     62      12\n",
    "4     74      61     44      18\n",
    "5     65      73     21      37\n",
    "6     44      47     23      13\n",
    "    `"
   ]
  },
  {
   "cell_type": "markdown",
   "metadata": {},
   "source": [
    "Use the `describe` function to obtain summary statistics of a dataset. Eight statistical measures are displayed. They are count, mean, standard deviation, minimum value, 25th percentile, 50th percentile or median, 75th percentile, and the maximum value."
   ]
  },
  {
   "cell_type": "code",
   "execution_count": null,
   "metadata": {},
   "outputs": [],
   "source": [
    "my_DF.describe()"
   ]
  },
  {
   "cell_type": "markdown",
   "metadata": {},
   "source": [
    "Output:<br>`\n",
    "           First     Second      Third     Fourth\n",
    "count   7.000000   7.000000   7.000000   7.000000\n",
    "mean   51.571429  48.857143  42.142857  27.142857\n",
    "std    18.590832  19.978560  21.980511  14.904458\n",
    "min    24.000000  16.000000  16.000000  12.000000\n",
    "25%    40.500000  39.500000  22.000000  15.500000\n",
    "50%    47.000000  47.000000  44.000000  22.000000\n",
    "75%    67.500000  63.500000  62.500000  36.500000\n",
    "max    74.000000  73.000000  66.000000  52.000000\n",
    "    `"
   ]
  },
  {
   "cell_type": "markdown",
   "metadata": {},
   "source": [
    "# Correlation\n",
    "\n",
    "Correlation shows how much relationship exists between two variables. Parametric machine learning methods such as logistic and linear regression can take a performance hit when variables are highly correlated. The correlation values range from -1 to 1, with 0 indicating no correlation at all. -1 signifies that the variables are strongly negatively correlated, while 1 shows that the variables are strongly positively correlated. In practice, it is safe to eliminate variables that have a correlation value greater than -0.7 or 0.7. A common correlation estimate in use is the Pearson’s correlation coefficient."
   ]
  },
  {
   "cell_type": "code",
   "execution_count": null,
   "metadata": {},
   "outputs": [],
   "source": [
    "my_DF.corr(method='pearson')"
   ]
  },
  {
   "cell_type": "markdown",
   "metadata": {},
   "source": [
    "Output:<br>`\n",
    "           First    Second     Third    Fourth\n",
    "First   1.000000  0.587645 -0.014100 -0.317333\n",
    "Second  0.587645  1.000000 -0.768495 -0.345265\n",
    "Third  -0.014100 -0.768495  1.000000  0.334169\n",
    "Fourth -0.317333 -0.345265  0.334169  1.000000\n",
    "    `"
   ]
  },
  {
   "cell_type": "markdown",
   "metadata": {},
   "source": [
    "# Skewness\n",
    "\n",
    "Another important statistical metric is the skewness of the dataset. Skewness is when a bell-shaped or normal distribution is shifted toward the right or the left. Pandas offers a convenient function called `skew()` to check the skewness of each variable. Values close to 0 are more normally distributed with less skew."
   ]
  },
  {
   "cell_type": "code",
   "execution_count": null,
   "metadata": {},
   "outputs": [],
   "source": [
    "my_DF.skew()"
   ]
  },
  {
   "cell_type": "markdown",
   "metadata": {},
   "source": [
    "Output:<br>`\n",
    "First    -0.167782\n",
    "Second   -0.566914\n",
    "Third    -0.084490\n",
    "Fourth    0.691332\n",
    "dtype: float64\n",
    "    `"
   ]
  },
  {
   "cell_type": "markdown",
   "metadata": {},
   "source": [
    "# Importing Data\n",
    "\n",
    "Again, getting data into the programming environment for analysis is a fundamental and first step for any data analytics or machine learning task. In practice, data usually comes in a comma-separated value, `csv`, format."
   ]
  },
  {
   "cell_type": "code",
   "execution_count": null,
   "metadata": {},
   "outputs": [],
   "source": [
    "my_DF = pd.read_csv('link_to_file/csv_file', sep=',', header = None)"
   ]
  },
  {
   "cell_type": "markdown",
   "metadata": {},
   "source": [
    "To export a DataFrame back to `csv`"
   ]
  },
  {
   "cell_type": "code",
   "execution_count": null,
   "metadata": {},
   "outputs": [],
   "source": [
    "my_DF.to_csv('file_name.csv')"
   ]
  },
  {
   "cell_type": "markdown",
   "metadata": {},
   "source": [
    "For the next example, the dataset ‘states.csv’ is found in the chapter folder of the code repository of this book."
   ]
  },
  {
   "cell_type": "code",
   "execution_count": null,
   "metadata": {},
   "outputs": [],
   "source": [
    "my_DF = pd.read_csv('states.csv', sep=',', header = 0)\n",
    "# read the top 5 rows\n",
    "my_DF.head()\n",
    "# save DataFrame to csv\n",
    "my_DF.to_csv('save_states.csv')"
   ]
  },
  {
   "cell_type": "markdown",
   "metadata": {},
   "source": [
    "# Timeseries with Pandas\n",
    "\n",
    "One of the core strengths of Pandas is its powerful set of functions for manipulating timeseries datasets. A couple of these functions are covered in this material.\n",
    "\n",
    "# Importing a Dataset with a DateTime Column\n",
    "\n",
    "When importing a dataset that has a column containing datetime entries, Pandas has an attribute in the `read_csv` method called `parse_dates` that converts the datetime column from strings into Pandas `date` datatype. The attribute `index_col` uses the column of datetimes as an index to the `DataFrame`.\n",
    "\n",
    "The method `head()` prints out the first five rows of the `DataFrame`, while the method `tail()` prints out the last five rows of the `DataFrame`. This function is very useful for taking a peek at a large `DataFrame` without having to bear the computational cost of printing it out entirely."
   ]
  },
  {
   "cell_type": "code",
   "execution_count": null,
   "metadata": {},
   "outputs": [],
   "source": [
    "# load the data\n",
    "data = pd.read_csv(\n",
    "    'crypto-markets.csv',\n",
    "    parse_dates = ['date'],\n",
    "    index_col='date',\n",
    ")\n",
    "data.head()"
   ]
  },
  {
   "cell_type": "markdown",
   "metadata": {},
   "source": [
    "Output:<br>`\n",
    "  slug date  symbol name  ranknow     open    high     low   close   \n",
    "volume   market    close_ratio  spread\n",
    "2013-04-28  bitcoin BTC Bitcoin 1   135.30  135.98  132.10  134.21  \n",
    "     0   1500520000     0.5438    3.88\n",
    "2013-04-29  bitcoin BTC Bitcoin 1   134.44  147.49  134.00  144.54  \n",
    "     0   1491160000     0.7813   13.49\n",
    "2013-04-30  bitcoin BTC Bitcoin 1   144.00  146.93  134.05  139.00  \n",
    "     0   1597780000     0.3843   12.88\n",
    "2013-05-01  bitcoin BTC Bitcoin 1   139.00  139.89  107.72  116.99  \n",
    "     0   1542820000     0.2882   32.17\n",
    "2013-05-02  bitcoin BTC Bitcoin 1   116.38  125.60  92.28   105.21  \n",
    "     0   1292190000     0.3881   33.32\n",
    "    `"
   ]
  },
  {
   "cell_type": "markdown",
   "metadata": {},
   "source": [
    "Let’s examine the index of the imported data. Notice that they are the datetime entries."
   ]
  },
  {
   "cell_type": "code",
   "execution_count": null,
   "metadata": {},
   "outputs": [],
   "source": [
    "# get the row indices\n",
    "data.index"
   ]
  },
  {
   "cell_type": "markdown",
   "metadata": {},
   "source": [
    "Output:<br>`\n",
    "DatetimeIndex(['2013-04-28', '2013-04-29', '2013-04-30', '2013-05-01',\n",
    "               '2013-05-02', '2013-05-03', '2013-05-04', '2013-05-05',\n",
    "               '2013-05-06', '2013-05-07',\n",
    "               ...\n",
    "               '2018-01-01', '2018-01-02', '2018-01-03', '2018-01-04',\n",
    "               '2018-01-05', '2018-01-06', '2018-01-07', '2018-01-08',\n",
    "               '2018-01-09', '2018-01-10'],\n",
    "               dtype='datetime64[ns]', name='date', length=659373,\n",
    "               freq=None)\n",
    "    `"
   ]
  },
  {
   "cell_type": "markdown",
   "metadata": {},
   "source": [
    "# Selection Using DatetimeIndex\n",
    "\n",
    "The `DatetimeIndex` can be used to select the observations of the dataset in various interesting ways. For example, we can select the observation of an exact day or the observations belonging to a particular month or year. The selected observation can be subsetted by columns and grouped to give more insight in understanding the dataset.\n",
    "\n",
    "Let’s see some examples."
   ]
  },
  {
   "cell_type": "markdown",
   "metadata": {},
   "source": [
    "# Select a Particular Date"
   ]
  },
  {
   "cell_type": "markdown",
   "metadata": {},
   "source": [
    "Let’s select a particular date from a `DataFrame`."
   ]
  },
  {
   "cell_type": "code",
   "execution_count": null,
   "metadata": {},
   "outputs": [],
   "source": [
    "# select a particular date\n",
    "data['2018-01-05'].head()"
   ]
  },
  {
   "cell_type": "markdown",
   "metadata": {},
   "source": [
    "Output:<br>`\n",
    "                    slug symbol          name  ranknow      open      high  date\n",
    "2018-01-05       bitcoin    BTC       Bitcoin        1  15477.20  17705.20\n",
    "2018-01-05      ethereum    ETH      Ethereum        2    975.75   1075.39\n",
    "2018-01-05        ripple    XRP        Ripple        3      3.30      3.56\n",
    "2018-01-05  bitcoin-cash    BCH  Bitcoin Cash        4   2400.74   2648.32\n",
    "2018-01-05       cardano    ADA       Cardano        5      1.17      1.25\n",
    "                     low         close       volume        market  date\n",
    "2018-01-05  15202.800000  17429.500000  23840900000  259748000000\n",
    "2018-01-05    956.330000    997.720000   6683150000   94423900000\n",
    "2018-01-05      2.830000      3.050000   6288500000  127870000000\n",
    "2018-01-05   2370.590000   2584.480000   2115710000   40557600000\n",
    "2018-01-05      0.903503      0.999559    508100000   30364400000\n",
    "            close_ratio   spread\n",
    "date\n",
    "2018-01-05       0.8898  2502.40\n",
    "2018-01-05       0.3476   119.06\n",
    "2018-01-05       0.3014     0.73\n",
    "2018-01-05       0.7701   277.73\n",
    "2018-01-05       0.2772     0.35\n",
    "        `"
   ]
  },
  {
   "cell_type": "code",
   "execution_count": null,
   "metadata": {},
   "outputs": [],
   "source": [
    "# select a range of dates\n",
    "data['2018-01-05':'2018-01-06'].head()"
   ]
  },
  {
   "cell_type": "markdown",
   "metadata": {},
   "source": [
    "Output:<br>`\n",
    "                slug symbol     name  ranknow      open      high       low  date\n",
    "2018-01-05  bitcoin    BTC   Bitcoin        1  15477.20  17705.20  15202.80\n",
    "2018-01-06  bitcoin    BTC   Bitcoin        1  17462.10  17712.40  16764.60\n",
    "2018-01-05  ethereum   ETH  Ethereum        2    975.75   1075.39    956.33\n",
    "2018-01-06  ethereum   ETH  Ethereum        2    995.15   1060.71    994.62\n",
    "2018-01-05  ripple     XRP    Ripple        3      3.30      3.56      2.83\n",
    "               close       volume        market  close_ratio   spread\n",
    "date\n",
    "2018-01-05  17429.50  23840900000  259748000000       0.8898  2502.40\n",
    "2018-01-06  17527.00  18314600000  293091000000       0.8044   947.80\n",
    "2018-01-05    997.72   6683150000   94423900000       0.3476   119.06\n",
    "2018-01-06   1041.68   4662220000   96326500000       0.7121    66.09\n",
    "2018-01-05      3.05   6288500000  127870000000       0.3014     0.73\n",
    "        `"
   ]
  },
  {
   "cell_type": "markdown",
   "metadata": {},
   "source": [
    "# Select a Month"
   ]
  },
  {
   "cell_type": "markdown",
   "metadata": {},
   "source": [
    "Let’s select a particular month from a `DataFrame`."
   ]
  },
  {
   "cell_type": "code",
   "execution_count": null,
   "metadata": {},
   "outputs": [],
   "source": [
    "# select a particular month\n",
    "data['2018-01'].head()"
   ]
  },
  {
   "cell_type": "markdown",
   "metadata": {},
   "source": [
    "Output:<br>`\n",
    "               slug    symbol     name  ranknow     open     high       low date\n",
    "2018-01-01  bitcoin      BTC   Bitcoin        1  14112.2  14112.2   13154.7\n",
    "2018-01-02  bitcoin      BTC   Bitcoin        1  13625.0  15444.6   13163.6\n",
    "2018-01-03  bitcoin      BTC   Bitcoin        1  14978.2  15572.8   14844.5\n",
    "2018-01-04  bitcoin      BTC   Bitcoin        1  15270.7  15739.7   14522.2\n",
    "2018-01-05  bitcoin      BTC   Bitcoin        1  15477.2  17705.2   15202.8\n",
    "              close       volume        market  close_ratio  spread\n",
    "date\n",
    "2018-01-01  13657.2  10291200000  236725000000       0.5248   957.5\n",
    "2018-01-02  14982.1  16846600000  228579000000       0.7972  2281.0\n",
    "2018-01-03  15201.0  16871900000  251312000000       0.4895   728.3\n",
    "2018-01-04  15599.2  21783200000  256250000000       0.8846  1217.5\n",
    "2018-01-05  17429.5  23840900000  259748000000       0.8898  2502.4\n",
    "        `"
   ]
  },
  {
   "cell_type": "markdown",
   "metadata": {},
   "source": [
    "# Select a Year"
   ]
  },
  {
   "cell_type": "markdown",
   "metadata": {},
   "source": [
    "Let’s select a particular year from a `DataFrame`."
   ]
  },
  {
   "cell_type": "code",
   "execution_count": null,
   "metadata": {},
   "outputs": [],
   "source": [
    "# select a particular year\n",
    "data['2018'].head()"
   ]
  },
  {
   "cell_type": "markdown",
   "metadata": {},
   "source": [
    "Output:<br>`\n",
    "               slug symbol     name  ranknow     open     high      low  date\n",
    "2018-01-01  bitcoin    BTC  Bitcoin        1  14112.2  14112.2  13154.7\n",
    "2018-01-02  bitcoin    BTC  Bitcoin        1  13625.0  15444.6  13163.6\n",
    "2018-01-03  bitcoin    BTC  Bitcoin        1  14978.2  15572.8  14844.5\n",
    "2018-01-04  bitcoin    BTC  Bitcoin        1  15270.7  15739.7  14522.2\n",
    "2018-01-05  bitcoin    BTC  Bitcoin        1  15477.2  17705.2  15202.8\n",
    "              close       volume        market  close_ratio  spread\n",
    "date\n",
    "2018-01-01  13657.2  10291200000  236725000000       0.5248   957.5\n",
    "2018-01-02  14982.1  16846600000  228579000000       0.7972  2281.0\n",
    "2018-01-03  15201.0  16871900000  251312000000       0.4895   728.3\n",
    "2018-01-04  15599.2  21783200000  256250000000       0.8846  1217.5\n",
    "2018-01-05  17429.5  23840900000  259748000000       0.8898  2502.4\n",
    "        `"
   ]
  },
  {
   "cell_type": "markdown",
   "metadata": {},
   "source": [
    "# Subset Data Columns and Find Summaries\n",
    "\n",
    "Get the closing prices of Bitcoin stocks for the month of January."
   ]
  },
  {
   "cell_type": "code",
   "execution_count": null,
   "metadata": {},
   "outputs": [],
   "source": [
    "data.loc[data.slug == 'bitcoin', 'close']['2018-01']"
   ]
  },
  {
   "cell_type": "markdown",
   "metadata": {},
   "source": [
    "Output:<br>`\n",
    "date\n",
    "2018-01-01    13657.2\n",
    "2018-01-02    14982.1\n",
    "2018-01-03    15201.0\n",
    "2018-01-04    15599.2\n",
    "2018-01-05    17429.5\n",
    "2018-01-06    17527.0\n",
    "2018-01-07    16477.6\n",
    "2018-01-08    15170.1\n",
    "2018-01-09    14595.4\n",
    "2018-01-10    14973.3\n",
    "    `"
   ]
  },
  {
   "cell_type": "markdown",
   "metadata": {},
   "source": [
    "Find the mean market value of Ethereum for the month of January."
   ]
  },
  {
   "cell_type": "code",
   "execution_count": null,
   "metadata": {},
   "outputs": [],
   "source": [
    "data.loc[data.slug == 'ethereum', 'market']['2018-01'].mean()"
   ]
  },
  {
   "cell_type": "markdown",
   "metadata": {},
   "source": [
    "Output:<br>`96739480000.0`"
   ]
  },
  {
   "cell_type": "markdown",
   "metadata": {},
   "source": [
    "# Resampling Datetime Objects\n",
    "\n",
    "A Pandas `DataFrame` with an index of `DatetimeIndex`, `PeriodIndex`, or `TimedeltaIndex` can be resampled to any of the date time frequencies from seconds, to minutes, to months. Let’s see some examples.\n",
    "\n",
    "Let’s get the average monthly closing values for Litecoin."
   ]
  },
  {
   "cell_type": "code",
   "execution_count": null,
   "metadata": {},
   "outputs": [],
   "source": [
    "data.loc[data.slug == 'bitcoin', 'close'].resample('M').mean().head()"
   ]
  },
  {
   "cell_type": "markdown",
   "metadata": {},
   "source": [
    "Output:<br>`\n",
    "date\n",
    "2013-04-30    139.250000\n",
    "2013-05-31    119.993226\n",
    "2013-06-30    107.761333\n",
    "2013-07-31     90.512258\n",
    "2013-08-31    113.905161\n",
    "Freq: M, Name: close, dtype: float64\n",
    "    `"
   ]
  },
  {
   "cell_type": "markdown",
   "metadata": {},
   "source": [
    "Get the average weekly market value of Bitcoin Cash."
   ]
  },
  {
   "cell_type": "code",
   "execution_count": null,
   "metadata": {},
   "outputs": [],
   "source": [
    "data.loc[data.symbol == 'BCH', 'market'].resample('W').mean().head()"
   ]
  },
  {
   "cell_type": "markdown",
   "metadata": {},
   "source": [
    "Output:<br>`\n",
    "date\n",
    "2017-07-23    0.000000e+00\n",
    "2017-07-30    0.000000e+00\n",
    "2017-08-06    3.852961e+09\n",
    "2017-08-13    4.982661e+09\n",
    "2017-08-20    7.355117e+09\n",
    "Freq: W-SUN, Name: market, dtype: float64\n",
    "    `"
   ]
  },
  {
   "cell_type": "markdown",
   "metadata": {},
   "source": [
    "# Convert to Datetime Datatype Using ‘to_datetime’\n",
    "\n",
    "Pandas uses the `to_datetime` method to convert strings to Pandas datetime datatype. The `to_datetime` method is smart enough to infer a `datetime` representation from a string of dates passed with different formats. The default output format of `to_datetime` is in the following order: `year`, `month`, `day`, `minute`, `second`, `millisecond`, `microsecond`, `nanosecond`.\n",
    "\n",
    "The input to `to_datetime` is recognized as `month`, `day`, `year`. Although, it can easily be modified by setting the attributes `dayfirst` or `yearfirst` to `True`.\n",
    "\n",
    "For example, if `dayfirst` is set to `True`, the input is recognized as `day`, `month`, `year`.\n",
    "\n",
    "Let’s see an example of this."
   ]
  },
  {
   "cell_type": "code",
   "execution_count": null,
   "metadata": {},
   "outputs": [],
   "source": [
    "# create list of dates\n",
    "my_dates = [\n",
    "    'Friday, May 11, 2018',\n",
    "    '11/5/2018',\n",
    "    '11-5-2018',\n",
    "    '5/11/2018',\n",
    "    '2018.5.11',\n",
    "]\n",
    "pd.to_datetime(my_dates)"
   ]
  },
  {
   "cell_type": "markdown",
   "metadata": {},
   "source": [
    "Output:<br>`\n",
    "DatetimeIndex(\n",
    "    [\n",
    "        '2018-05-11',\n",
    "        '2018-11-05',\n",
    "        '2018-11-05',\n",
    "        '2018-05-11',\n",
    "        '2018-05-11',\n",
    "    ],\n",
    "    dtype = 'datetime64[ns]',\n",
    "    freq = None,\n",
    ")\n",
    "    `"
   ]
  },
  {
   "cell_type": "markdown",
   "metadata": {},
   "source": [
    "Let’s set dayfirst to True. Observe that the first input in the string is treated as a day in the output."
   ]
  },
  {
   "cell_type": "code",
   "execution_count": null,
   "metadata": {},
   "outputs": [],
   "source": [
    "# set dayfirst to True\n",
    "pd.to_datetime('5-11-2018', dayfirst = True)"
   ]
  },
  {
   "cell_type": "markdown",
   "metadata": {},
   "source": [
    "Output:<br>`Timestamp('2018-11-05 00:00:00')`"
   ]
  },
  {
   "cell_type": "markdown",
   "metadata": {},
   "source": [
    "# The shift() Method\n",
    "\n",
    "A typical step in a timeseries use case is to convert the timeseries dataset into a supervised learning framework for predicting the outcome for a given time instant. The `shift()` method is used to adjust a Pandas `DataFrame` column by shifting the observations forward or backward. If the observations are pulled backward (or lagged), `NaN`s are attached at the tail of the column. But if the values are pushed forward, the head of the column will contain `NaN`s. This step is important for adjusting the `target` variable of a dataset to predict outcomes $n$-days or steps or instances into the future. Let’s see some examples.\n",
    "\n",
    "Subset columns for the observations related to Bitcoin Cash."
   ]
  },
  {
   "cell_type": "code",
   "execution_count": null,
   "metadata": {},
   "outputs": [],
   "source": [
    "# subset a few columns\n",
    "data_subset_BCH = data.loc[data.symbol == 'BCH', ['open','high','low','close']]\n",
    "data_subset_BCH.head()"
   ]
  },
  {
   "cell_type": "markdown",
   "metadata": {},
   "source": [
    "Output:<br>`\n",
    "              open    high     low   close\n",
    "date\n",
    "2017-07-23  555.89  578.97  411.78  413.06\n",
    "2017-07-24  412.58  578.89  409.21  440.70\n",
    "2017-07-25  441.35  541.66  338.09  406.90\n",
    "2017-07-26  407.08  486.16  321.79  365.82\n",
    "2017-07-27  417.10  460.97  367.78  385.48\n",
    "    `"
   ]
  },
  {
   "cell_type": "markdown",
   "metadata": {},
   "source": [
    "Now let’s create a target variable that contains the closing rates 3 days into the future."
   ]
  },
  {
   "cell_type": "code",
   "execution_count": null,
   "metadata": {},
   "outputs": [],
   "source": [
    "data_subset_BCH['close_4_ahead'] = data_subset_BCH['close'].shift(-4)\n",
    "data_subset_BCH.head()"
   ]
  },
  {
   "cell_type": "markdown",
   "metadata": {},
   "source": [
    "Output:<br>`\n",
    "              open    high     low   close  close_4_ahead\n",
    "date\n",
    "2017-07-23  555.89  578.97  411.78  413.06         385.48\n",
    "2017-07-24  412.58  578.89  409.21  440.70         406.05\n",
    "2017-07-25  441.35  541.66  338.09  406.90         384.77\n",
    "2017-07-26  407.08  486.16  321.79  365.82         345.66\n",
    "2017-07-27  417.10  460.97  367.78  385.48         294.46\n",
    "    `"
   ]
  },
  {
   "cell_type": "markdown",
   "metadata": {},
   "source": [
    "Observe that the tail of the column `close_4_head` contains `NaN`s."
   ]
  },
  {
   "cell_type": "code",
   "execution_count": null,
   "metadata": {},
   "outputs": [],
   "source": [
    "data_subset_BCH.tail()"
   ]
  },
  {
   "cell_type": "markdown",
   "metadata": {},
   "source": [
    "Output:<br>`\n",
    "               open     high      low    close  close_4_ahead\n",
    "date\n",
    "2018-01-06  2583.71  2829.69  2481.36  2786.65        2895.38\n",
    "2018-01-07  2784.68  3071.16  2730.31  2786.88            NaN\n",
    "2018-01-08  2786.60  2810.32  2275.07  2421.47            NaN\n",
    "2018-01-09  2412.36  2502.87  2346.68  2391.56            NaN\n",
    "2018-01-10  2390.02  2961.20  2332.48  2895.38            NaN\n",
    "    `"
   ]
  },
  {
   "cell_type": "markdown",
   "metadata": {},
   "source": [
    "# Rolling Windows\n",
    "\n",
    "Pandas provides a function called `rolling()` to find the rolling or moving statistics of values in a column over a specified window. The window is the “number of observations used in calculating the statistic.” So we can find the rolling sums or rolling means of a variable. These statistics are vital when working with timeseries datasets. Let’s see some examples.\n",
    "\n",
    "Let’s find the rolling means for the closing variable over a 30-day window."
   ]
  },
  {
   "cell_type": "code",
   "execution_count": null,
   "metadata": {},
   "outputs": [],
   "source": [
    "# find the rolling means for Bitcoin cash\n",
    "rolling_means = data_subset_BCH['close'].rolling(window=30).mean()"
   ]
  },
  {
   "cell_type": "markdown",
   "metadata": {},
   "source": [
    "The first few values of the `rolling_means` variable contain `NaN`s because the method computes the rolling statistic from the earliest time to the latest time in the dataset. Let’s print out the first five values using the `head` method."
   ]
  },
  {
   "cell_type": "code",
   "execution_count": null,
   "metadata": {},
   "outputs": [],
   "source": [
    "rolling_means.head()"
   ]
  },
  {
   "cell_type": "markdown",
   "metadata": {},
   "source": [
    "Output:<br>`\n",
    "date\n",
    "2017-07-23   NaN\n",
    "2017-07-24   NaN\n",
    "2017-07-25   NaN\n",
    "2017-07-26   NaN\n",
    "2017-07-27   NaN\n",
    "    `"
   ]
  },
  {
   "cell_type": "markdown",
   "metadata": {},
   "source": [
    "Now let’s observe the last five values using the `tail` method."
   ]
  },
  {
   "cell_type": "code",
   "execution_count": null,
   "metadata": {},
   "outputs": [],
   "source": [
    "rolling_means.tail()"
   ]
  },
  {
   "cell_type": "markdown",
   "metadata": {},
   "source": [
    "Output:<br>`\n",
    "date\n",
    "2018-01-06    2403.932000\n",
    "2018-01-07    2448.023667\n",
    "2018-01-08    2481.737333\n",
    "2018-01-09    2517.353667\n",
    "2018-01-10    2566.420333\n",
    "Name: close, dtype: float64\n",
    "    `"
   ]
  },
  {
   "cell_type": "markdown",
   "metadata": {},
   "source": [
    "Let’s do a quick plot of the rolling means using the Pandas plotting function. The output of the plot is shown in Figure 11-2."
   ]
  },
  {
   "cell_type": "code",
   "execution_count": null,
   "metadata": {},
   "outputs": [],
   "source": [
    "# plot the rolling means for Bitcoin cash\n",
    "data_subset_BCH['close'].rolling(window=30).mean().plot(label='Rolling Average over 30 days')"
   ]
  },
  {
   "cell_type": "markdown",
   "metadata": {},
   "source": [
    "> **Figure 11-2: _Rolling average closing price over 30 days for Bitcoin Cash_**<br><img width=\"500\" src=\"data:image/png;base64, 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\" />"
   ]
  },
  {
   "cell_type": "markdown",
   "metadata": {},
   "source": [
    "More on plotting in the next chapter."
   ]
  }
 ],
 "metadata": {},
 "nbformat": 4,
 "nbformat_minor": 2
}
