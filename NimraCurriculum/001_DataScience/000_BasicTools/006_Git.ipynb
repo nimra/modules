{
 "cells": [
  {
   "cell_type": "markdown",
   "metadata": {},
   "source": [
    "# Git"
   ]
  },
  {
   "cell_type": "markdown",
   "metadata": {},
   "source": [
    "# Introduction"
   ]
  },
  {
   "cell_type": "markdown",
   "metadata": {},
   "source": [
    "Have you ever worked on a Python project that stopped working after you made a change here or a PEP-8 cleanup there, and you weren’t quite sure how to get it back? Version control systems can help you solve that problem and other related ones. Git is one of the most popular version control systems today."
   ]
  },
  {
   "cell_type": "markdown",
   "metadata": {},
   "source": [
    "In this tutorial, I’ll walk you through what Git is, how to use it for your personal projects, and how to use it in conjunction with GitHub to work with other people on larger projects. We’ll look at how to create a repo, how to add both new and modified files, and how to navigate through your project’s history so you can “get back” to when your project was working."
   ]
  },
  {
   "cell_type": "markdown",
   "metadata": {},
   "source": [
    "This article assumes you already have Git installed on your system. If you don’t, the excellent _Pro Git_ book has a [section](https://git-scm.com/book/en/v2/Getting-Started-Installing-Git) on how to do that."
   ]
  },
  {
   "cell_type": "markdown",
   "metadata": {},
   "source": [
    "# What Is Git?"
   ]
  },
  {
   "cell_type": "markdown",
   "metadata": {},
   "source": [
    "Git is a _distributed version control system_ (DVCS). Let’s break that down a bit and look at what it means."
   ]
  },
  {
   "cell_type": "markdown",
   "metadata": {},
   "source": [
    "# Version Control"
   ]
  },
  {
   "cell_type": "markdown",
   "metadata": {},
   "source": [
    "A _version control system_ (VCS) is a set of tools that track the history of a set of files. This means that you can tell your VCS (Git, in our case) to save the state of your files at any point. Then, you may continue to edit the files and store that state as well. Saving the state is similar to creating a backup copy of your working directory. When using Git, we refer to this saving of state as _making a commit_."
   ]
  },
  {
   "cell_type": "markdown",
   "metadata": {},
   "source": [
    "When you make a commit in Git, you add a commit message that explains at a high level what changes you made in this commit. Git can show you the history of all of the commits and their commit messages. This provides a useful history of what work you have done and can really help pinpoint when a bug crept into the system."
   ]
  },
  {
   "cell_type": "markdown",
   "metadata": {},
   "source": [
    "In addition to showing you the log of changes you’ve made, Git also allows you to compare files between different commits. As I mentioned earlier, Git will also allow you to return any file (or all files) to an earlier commit with little effort."
   ]
  },
  {
   "cell_type": "markdown",
   "metadata": {},
   "source": [
    "# Distributed Version Control"
   ]
  },
  {
   "cell_type": "markdown",
   "metadata": {},
   "source": [
    "OK, so that’s a _version control system_. What’s the _distributed_ part? It’s probably easiest to answer that question by starting with a little history. Early version control systems worked by storing all of those commits locally on your hard drive. This collection of commits is called a _repository_. This solved the “I need to get back to where I was” problem but didn’t scale well for a team working on the same codebase."
   ]
  },
  {
   "cell_type": "markdown",
   "metadata": {},
   "source": [
    "As larger groups started working (and networking became more common), VCSs changed to store the repository on a central server that was shared by many developers. While this solved many problems, it also created new ones, like file locking."
   ]
  },
  {
   "cell_type": "markdown",
   "metadata": {},
   "source": [
    "Following the lead of a few other products, Git broke with that model. Git does not have a central server that has the definitive version of the repository. All users have a full copy of the repository. This means that getting all of the developers back on the same page can sometimes be tricky, but it also means that developers can work offline most of the time, only connecting to other repositories when they need to share their work."
   ]
  },
  {
   "cell_type": "markdown",
   "metadata": {},
   "source": [
    "That last paragraph can seem a little confusing at first, because there are a lot of developers who use GitHub as a _central repository_ from which everyone must pull. This is true, but Git doesn’t impose this. It’s just convenient in some circumstances to have a central place to share the code. The full repository is still stored on all local repos even when you use GitHub."
   ]
  },
  {
   "cell_type": "markdown",
   "metadata": {},
   "source": [
    "# Basic Usage"
   ]
  },
  {
   "cell_type": "markdown",
   "metadata": {},
   "source": [
    "Now that we’ve talked about what Git is in general, let’s run through an example and see it in action. We’ll start by working with Git just on our local machine. Once we get the hang of that, we’ll add GitHub and explain how you can interact with it."
   ]
  },
  {
   "cell_type": "markdown",
   "metadata": {},
   "source": [
    "# Creating a New Repo"
   ]
  },
  {
   "cell_type": "markdown",
   "metadata": {},
   "source": [
    "To work with Git, you first need to tell it who you are. You can set your username with the `git config` command:"
   ]
  },
  {
   "cell_type": "markdown",
   "metadata": {},
   "source": [
    "`$ git config --global user.name \"your name goes here\"`"
   ]
  },
  {
   "cell_type": "markdown",
   "metadata": {},
   "source": [
    "Once that is set up, you will need a repo to work in. Creating a repo is simple. Use the `git init` command in a directory:"
   ]
  },
  {
   "cell_type": "markdown",
   "metadata": {},
   "source": [
    "`$ mkdir example\n",
    "$ cd example\n",
    "$ git init`"
   ]
  },
  {
   "cell_type": "markdown",
   "metadata": {},
   "source": [
    "Output:<br>`\n",
    "Initialized empty Git repository in /home/jima/tmp/example/.git/\n",
    "                `"
   ]
  },
  {
   "cell_type": "markdown",
   "metadata": {},
   "source": [
    "Once you have a repo, you can ask Git about it. The Git command you’ll use most frequently is `git status`. Try that now:"
   ]
  },
  {
   "cell_type": "markdown",
   "metadata": {},
   "source": [
    "`$ git status`"
   ]
  },
  {
   "cell_type": "markdown",
   "metadata": {},
   "source": [
    "Output:<br>`\n",
    "On branch master\n",
    "Initial commit\n",
    "nothing to commit (create/copy files and use \"git add\" to track)\n",
    "                `"
   ]
  },
  {
   "cell_type": "markdown",
   "metadata": {},
   "source": [
    "This shows you a couple of bits of information: which branch you’re on, master (we’ll talk about branches later), and that you have _nothing to commit_. This last part means that there are no files in this directory that Git doesn’t know about. That’s good, as we just created the directory."
   ]
  },
  {
   "cell_type": "markdown",
   "metadata": {},
   "source": [
    "# Adding a New File"
   ]
  },
  {
   "cell_type": "markdown",
   "metadata": {},
   "source": [
    "Now create a file that Git doesn’t know about. With your favorite editor, create the file `hello.py`, which has just a print statement in it."
   ]
  },
  {
   "cell_type": "code",
   "execution_count": null,
   "metadata": {},
   "outputs": [],
   "source": [
    "# hello.py\n",
    "print('hello Git!')"
   ]
  },
  {
   "cell_type": "markdown",
   "metadata": {},
   "source": [
    "If you run `git status` again, you’ll see a different result:"
   ]
  },
  {
   "cell_type": "markdown",
   "metadata": {},
   "source": [
    "`$ git status`"
   ]
  },
  {
   "cell_type": "markdown",
   "metadata": {},
   "source": [
    "Output:<br>`\n",
    "On branch master\n",
    "Initial commit\n",
    "Untracked files:\n",
    "  (use \"git add <file>...\" to include in what will be committed)\n",
    "   hello.py\n",
    "nothing added to commit but untracked files present (use \"git add\" to track)\n",
    "                `"
   ]
  },
  {
   "cell_type": "markdown",
   "metadata": {},
   "source": [
    "Now Git sees the new file and tells you that it’s `untracked`. That’s just Git’s way of saying that the file is not part of the repo and is not under version control. We can fix that by adding the file to Git. Use the `git add` command to make that happen:"
   ]
  },
  {
   "cell_type": "markdown",
   "metadata": {},
   "source": [
    "`$ git add hello.py\n",
    "$ git status`"
   ]
  },
  {
   "cell_type": "markdown",
   "metadata": {},
   "source": [
    "Output:<br>`\n",
    "On branch master\n",
    "Initial commit\n",
    "Changes to be committed:\n",
    "  (use \"git rm --cached <file>...\" to unstage)\n",
    "   new file:   hello.py\n",
    "                `"
   ]
  },
  {
   "cell_type": "markdown",
   "metadata": {},
   "source": [
    "Now Git knows about `hello.py` and lists it under _changes to be committed_. Adding the file to Git moves it into the _staging area_ (discussed below) and means we can commit it to the repo."
   ]
  },
  {
   "cell_type": "markdown",
   "metadata": {},
   "source": [
    "# Committing Changes"
   ]
  },
  {
   "cell_type": "markdown",
   "metadata": {},
   "source": [
    "When you _commit_ changes, you are telling Git to make a snapshot of this state in the repo. Do that now by using the `git commit` command. The `-m` option tells Git to use the commit message that follows. If you don’t use `-m`, Git will bring up an editor for you to create the commit message. In general, you want your commit messages to reflect what has changed in the commit:"
   ]
  },
  {
   "cell_type": "markdown",
   "metadata": {},
   "source": [
    "`$ git commit -m \"creating hello.py\"`"
   ]
  },
  {
   "cell_type": "markdown",
   "metadata": {},
   "source": [
    "Output:<br>`\n",
    "[master (root-commit) 25b09b9] creating hello.py\n",
    " 1 file changed, 3 insertions(+)\n",
    " create mode 100755 hello.py\n",
    "                `"
   ]
  },
  {
   "cell_type": "markdown",
   "metadata": {},
   "source": [
    "`$ git status`"
   ]
  },
  {
   "cell_type": "markdown",
   "metadata": {},
   "source": [
    "Output:<br>`\n",
    "On branch master\n",
    "nothing to commit, working directory clean\n",
    "                `"
   ]
  },
  {
   "cell_type": "markdown",
   "metadata": {},
   "source": [
    "You can see that the commit command returned a bunch of information, most of which isn’t that useful, but it does tell you that only 1 file changed (which makes sense as we added one file). It also tells you the _SHA_ of the commit (25b09b9). We’ll have an aside about SHA a bit later."
   ]
  },
  {
   "cell_type": "markdown",
   "metadata": {},
   "source": [
    "Running the `git status` command again shows that we have a _clean_ working directory, meaning that all changes are committed to Git."
   ]
  },
  {
   "cell_type": "markdown",
   "metadata": {},
   "source": [
    "At this point, we need to stop our tutorial and have a quick chat about the staging area."
   ]
  },
  {
   "cell_type": "markdown",
   "metadata": {},
   "source": [
    "# Aside: The Staging Area"
   ]
  },
  {
   "cell_type": "markdown",
   "metadata": {},
   "source": [
    "Unlike many version control systems, Git has a _staging area_ (often referred to as the _index_). The staging area is how Git keeps track of the changes you want to be in your next commit. When we ran `git add` above, we told Git that we wanted to move the new file `hello.py` to the staging area. This change was reflected in `git status`. The file went from the _untracked_ section to the to be _committed_ section of the output."
   ]
  },
  {
   "cell_type": "markdown",
   "metadata": {},
   "source": [
    "Note that the staging area reflects the exact contents of the file when you ran `git add`. If you modify it again, the file will appear both in the _staged_ and _unstaged_ portions of the status output."
   ]
  },
  {
   "cell_type": "markdown",
   "metadata": {},
   "source": [
    "At any point of working with a file in Git (assuming it’s already been committed once), there can be three versions of the file you can work with:"
   ]
  },
  {
   "cell_type": "markdown",
   "metadata": {},
   "source": [
    "- the version on your hard drive that you are editing\n",
    "- a different version that Git has stored in your staging area\n",
    "- the latest version checked in to the repo"
   ]
  },
  {
   "cell_type": "markdown",
   "metadata": {},
   "source": [
    "All three of these can be different versions of the file. Moving changes to the staging area and then committing them brings all of these versions back into sync."
   ]
  },
  {
   "cell_type": "markdown",
   "metadata": {},
   "source": [
    "When I started with Git, I found the staging area a little confusing and a bit annoying. It seemed to add extra steps to the process without adding any benefits. When you’re first learning Git, that’s actually true. After a while, there will be situations where you come to really appreciate having that functionality. Unfortunately, those situations are beyond the scope of this tutorial."
   ]
  },
  {
   "cell_type": "markdown",
   "metadata": {},
   "source": [
    "If you’re interested in more detailed info about the staging area, I can recommend [this blog post](https://alblue.bandlem.com/2011/10/git-tip-of-week-understanding-index.html)."
   ]
  },
  {
   "cell_type": "markdown",
   "metadata": {},
   "source": [
    "# .gitignore"
   ]
  },
  {
   "cell_type": "markdown",
   "metadata": {},
   "source": [
    "The status command is very handy, and you’ll find yourself using it often. But sometimes you’ll find that there are a bunch of files that show up in the _untracked_ section and that you want Git to just not see. That’s where the `.gitignore` file comes in."
   ]
  },
  {
   "cell_type": "markdown",
   "metadata": {},
   "source": [
    "Let’s walk through an example. Create a new Python file in the same directory called `myname.py`."
   ]
  },
  {
   "cell_type": "code",
   "execution_count": null,
   "metadata": {},
   "outputs": [],
   "source": [
    "# myname.py\n",
    "def get_name():\n",
    "    return \"Jim\""
   ]
  },
  {
   "cell_type": "markdown",
   "metadata": {},
   "source": [
    "Then modify your `hello.py` to include `myname` and call its function:"
   ]
  },
  {
   "cell_type": "code",
   "execution_count": null,
   "metadata": {},
   "outputs": [],
   "source": [
    "# hello.py\n",
    "import myname\n",
    "name = myname.get_name()\n",
    "print( \"hello {}\".format(name) )"
   ]
  },
  {
   "cell_type": "markdown",
   "metadata": {},
   "source": [
    "When you import a local module, Python will compile it to bytecode for you and leave that file on your filesystem. In Python 2, it will leave a file called `myname.pyc`, but we’ll assume you’re running Python 3. In that case it will create a `__pycache__` directory and store a `pyc` file there. That is what’s shown below:"
   ]
  },
  {
   "cell_type": "markdown",
   "metadata": {},
   "source": [
    "`$ ls`"
   ]
  },
  {
   "cell_type": "markdown",
   "metadata": {},
   "source": [
    "Output:<br>`hello.py  myname.py`"
   ]
  },
  {
   "cell_type": "markdown",
   "metadata": {},
   "source": [
    "`$ ./hello.py`"
   ]
  },
  {
   "cell_type": "markdown",
   "metadata": {},
   "source": [
    "Output:<br>`hello Jim!`"
   ]
  },
  {
   "cell_type": "markdown",
   "metadata": {},
   "source": [
    "`$ ls`"
   ]
  },
  {
   "cell_type": "markdown",
   "metadata": {},
   "source": [
    "Output:<br>`hello.py  myname.py  __pycache__`"
   ]
  },
  {
   "cell_type": "markdown",
   "metadata": {},
   "source": [
    "Now if you run `git status`, you’ll see that directory in the _untracked_ section. Also note that your new `myname.py` file is untracked, while the changes you made to `hello.py` are in a new section called “Changes not staged for commit”. This just means that those changes have not yet been added to the staging area. Let’s try it out:"
   ]
  },
  {
   "cell_type": "markdown",
   "metadata": {},
   "source": [
    "`$ git status`"
   ]
  },
  {
   "cell_type": "markdown",
   "metadata": {},
   "source": [
    "Output:<br>`\n",
    "On branch master\n",
    "Changes not staged for commit:\n",
    "  (use \"git add <file>...\" to update what will be committed)\n",
    "  (use \"git checkout -- <file>...\" to discard changes in working directory)\n",
    "   modified:   hello.py\n",
    "Untracked files:\n",
    "  (use \"git add <file>...\" to include in what will be committed)\n",
    "   __pycache__/\n",
    "   myname.py\n",
    "no changes added to commit (use \"git add\" and/or \"git commit -a\")\n",
    "            `"
   ]
  },
  {
   "cell_type": "markdown",
   "metadata": {},
   "source": [
    "Before we move on to the gitignore file, let’s clean up the mess we’ve made a little bit. First we’ll add the `myname.py` and `hello.py` files, just like we did earlier:"
   ]
  },
  {
   "cell_type": "markdown",
   "metadata": {},
   "source": [
    "`$ git add myname.py hello.py\n",
    "$ git status`"
   ]
  },
  {
   "cell_type": "markdown",
   "metadata": {},
   "source": [
    "Output:<br>`\n",
    "On branch master\n",
    "Changes to be committed:\n",
    "  (use \"git reset HEAD <file>...\" to unstage)\n",
    "   modified:   hello.py\n",
    "   new file:   myname.py\n",
    "Untracked files:\n",
    "  (use \"git add <file>...\" to include in what will be committed)\n",
    "   __pycache__/\n",
    "            `"
   ]
  },
  {
   "cell_type": "markdown",
   "metadata": {},
   "source": [
    "Let’s commit those changes and finish our clean up:"
   ]
  },
  {
   "cell_type": "markdown",
   "metadata": {},
   "source": [
    "`$ git commit -m \"added myname module\"`"
   ]
  },
  {
   "cell_type": "markdown",
   "metadata": {},
   "source": [
    "Output:<br>`\n",
    "[master 946b99b] added myname module\n",
    " 2 files changed, 8 insertions(+), 1 deletion(-)\n",
    " create mode 100644 myname.py\n",
    "            `"
   ]
  },
  {
   "cell_type": "markdown",
   "metadata": {},
   "source": [
    "Now when we run status, all we see is that `__pycache__` directory:"
   ]
  },
  {
   "cell_type": "markdown",
   "metadata": {},
   "source": [
    "`$ git status`"
   ]
  },
  {
   "cell_type": "markdown",
   "metadata": {},
   "source": [
    "Output:<br>`\n",
    "On branch master\n",
    "Untracked files:\n",
    "  (use \"git add <file>...\" to include in what will be committed)\n",
    "   __pycache__/\n",
    "nothing added to commit but untracked files present (use \"git add\" to track)\n",
    "            `"
   ]
  },
  {
   "cell_type": "markdown",
   "metadata": {},
   "source": [
    "To get all `__pycache__` directories (and their contents) to be ignored, we’re going to add a `.gitignore` file to our repo. This is as simple as it sounds. Edit the file (remember the _dot_ in front of the name!) in your favorite editor."
   ]
  },
  {
   "cell_type": "code",
   "execution_count": null,
   "metadata": {},
   "outputs": [],
   "source": [
    "# .gitignore\n",
    "__pycache__"
   ]
  },
  {
   "cell_type": "markdown",
   "metadata": {},
   "source": [
    "Now when we run `git status`, we no longer see the `__pycache__` directory. We do, however, see the new `.gitignore`! Take a look:"
   ]
  },
  {
   "cell_type": "markdown",
   "metadata": {},
   "source": [
    "`$ git status`"
   ]
  },
  {
   "cell_type": "markdown",
   "metadata": {},
   "source": [
    "Output:<br>`\n",
    "On branch master\n",
    "Untracked files:\n",
    "  (use \"git add <file>...\" to include in what will be committed)\n",
    "   .gitignore\n",
    "nothing added to commit but untracked files present (use \"git add\" to track)\n",
    "            `"
   ]
  },
  {
   "cell_type": "markdown",
   "metadata": {},
   "source": [
    "That file is just a regular text file and can be added to you repo like any other file. Do that now:"
   ]
  },
  {
   "cell_type": "markdown",
   "metadata": {},
   "source": [
    "`$ git add .gitignore\n",
    "$ git commit -m \"created .gitignore\"`"
   ]
  },
  {
   "cell_type": "markdown",
   "metadata": {},
   "source": [
    "Output:<br>`\n",
    "[master 1cada8f] created .gitignore\n",
    " 1 file changed, 1 insertion(+)\n",
    " create mode 100644 .gitignore\n",
    "            `"
   ]
  },
  {
   "cell_type": "markdown",
   "metadata": {},
   "source": [
    "Another common entry in the `.gitignore` file is the directory you store your virtual environments in. You can learn more about virtualenvs [here](https://realpython.com/python-virtual-environments-a-primer/), but the virtualenv directory is usually called `env` or `venv`. You can add these to your `.gitignore` file. If the files or directories are present, they will be ignored. If they are not, then nothing will happen."
   ]
  },
  {
   "cell_type": "markdown",
   "metadata": {},
   "source": [
    "It’s also possible to have a _global_ `.gitignore` file stored in your home directory. This is very handy if your editor likes to leave temporary or backup files in the local directory."
   ]
  },
  {
   "cell_type": "markdown",
   "metadata": {},
   "source": [
    "Here’s an example of a simple Python `.gitignore` file:"
   ]
  },
  {
   "cell_type": "code",
   "execution_count": null,
   "metadata": {},
   "outputs": [],
   "source": [
    "# .gitignore\n",
    "__pycache__\n",
    "venv\n",
    "env\n",
    ".pytest_cache\n",
    ".coverage"
   ]
  },
  {
   "cell_type": "markdown",
   "metadata": {},
   "source": [
    "For a more complete example, look [here](https://github.com/github/gitignore/blob/master/Python.gitignore) or, if you want to build your own, `git help gitignore` provides all the details you’ll need."
   ]
  },
  {
   "cell_type": "markdown",
   "metadata": {},
   "source": [
    "# What NOT to Add to a Git Repo"
   ]
  },
  {
   "cell_type": "markdown",
   "metadata": {},
   "source": [
    "When you first start working with any version control tool, especially Git, you might be tempted to put **everything** into the repo. This is generally a mistake. There are limitations to Git as well as security concerns that force you to limit which types of information you add to the repo."
   ]
  },
  {
   "cell_type": "markdown",
   "metadata": {},
   "source": [
    "Let’s start with the basic rule of thumb about **all** version control systems."
   ]
  },
  {
   "cell_type": "markdown",
   "metadata": {},
   "source": [
    "> Only put source files into version control, never generated files."
   ]
  },
  {
   "cell_type": "markdown",
   "metadata": {},
   "source": [
    "In this context, a _source_ file is any file you create, usually by typing in an editor. A _generated_ file is something that the computer creates, usually by processing a _source_ file. For example, `hello.py` is a _source_ file, while `hello.pyc` would be a _generated_ file."
   ]
  },
  {
   "cell_type": "markdown",
   "metadata": {},
   "source": [
    "There are two reasons for not including generated files in the repo. The first is that doing so is a waste of time and space. The generated files can be recreated at any time and may need to be created in a different form. If someone is using Jython or IronPython while you’re using the Cython interpreter, the `.pyc` files might be quite different. Committing one particular flavor of files can cause conflict"
   ]
  },
  {
   "cell_type": "markdown",
   "metadata": {},
   "source": [
    "The second reason for not storing generated files is that these files are frequently larger than the original source files. Putting them in the repo means that everyone now needs to download and store those generated files, even if they’re not using them."
   ]
  },
  {
   "cell_type": "markdown",
   "metadata": {},
   "source": [
    "This second point leads to another general rule about Git repos: commit binary files with caution and strongly avoid committing large files. This rule has a lot to do with how Git works."
   ]
  },
  {
   "cell_type": "markdown",
   "metadata": {},
   "source": [
    "Git does not store a full copy of each version of each file you commit. Rather, it uses a complicated algorithm based on the differences between subsequent versions of a file to greatly reduce the amount of storage it needs. Binary files (like JPGs or MP3 files) don’t really have good diff tools, so Git will frequently just need to store the entire file each time it is committed."
   ]
  },
  {
   "cell_type": "markdown",
   "metadata": {},
   "source": [
    "When you are working with Git, and especially when you are working with GitHub, **never** put confidential information into a repo, especially one you might share publicly. This is so important that I’m going to say it again:"
   ]
  },
  {
   "cell_type": "markdown",
   "metadata": {},
   "source": [
    "> **_Caution_**<br>Never put confidential information into a public repository on GitHub. Passwords, API keys, and similar items should not be committed to a repo. Someone **will** find them eventually."
   ]
  },
  {
   "cell_type": "markdown",
   "metadata": {},
   "source": [
    "# Aside: What is a SHA"
   ]
  },
  {
   "cell_type": "markdown",
   "metadata": {},
   "source": [
    "When Git stores things (files, directories, commits, etc) in your repo, it stores them in a complicated way involving a _hash function_. We don’t need to go into the details here, but a hash function takes a thing and produces a unique ID for that thing that is much shorter (20 bytes, in our case). This ID is called a “SHA” in Git. It is not guaranteed to be unique, but for most practical applications it is."
   ]
  },
  {
   "cell_type": "markdown",
   "metadata": {},
   "source": [
    "Git uses its hash algorithm to index **everything** in your repo. Each file has a SHA that reflects the contents of that file. Each directory, in turn, is hashed. If a file in that directory changes, then the SHA of the directory changes too."
   ]
  },
  {
   "cell_type": "markdown",
   "metadata": {},
   "source": [
    "Each commit contains the SHA of the top-level directory in your repo along with some [other info](https://gist.github.com/masak/2415865). That’s how a single 20 byte number describes the entire state of your repo."
   ]
  },
  {
   "cell_type": "markdown",
   "metadata": {},
   "source": [
    "You might notice that sometimes Git uses the full 20 character value to show you a SHA:"
   ]
  },
  {
   "cell_type": "markdown",
   "metadata": {},
   "source": [
    "`commit 25b09b9ccfe9110aed2d09444f1b50fa2b4c979c`"
   ]
  },
  {
   "cell_type": "markdown",
   "metadata": {},
   "source": [
    "Sometimes it shows you a shorter version:"
   ]
  },
  {
   "cell_type": "markdown",
   "metadata": {},
   "source": [
    "`[master (root-commit) 25b09b9] creating hello.py`"
   ]
  },
  {
   "cell_type": "markdown",
   "metadata": {},
   "source": [
    "Usually, it will show you the full string of characters, but you don’t always have to use it. The rule for Git is that you only have to give enough characters to ensure that the SHA is unique in your repo. Generally, seven characters is more than enough."
   ]
  },
  {
   "cell_type": "markdown",
   "metadata": {},
   "source": [
    "Each time you commit changes to the repo, Git creates a new SHA that describes that state. We’ll look at how SHAs are useful in the next sections."
   ]
  },
  {
   "cell_type": "markdown",
   "metadata": {},
   "source": [
    "# Git Log"
   ]
  },
  {
   "cell_type": "markdown",
   "metadata": {},
   "source": [
    "Another very frequently used Git command is `git log`. Git log shows you the history of the commits that you have made up to this point:"
   ]
  },
  {
   "cell_type": "markdown",
   "metadata": {},
   "source": [
    "`$ git log`"
   ]
  },
  {
   "cell_type": "markdown",
   "metadata": {},
   "source": [
    "Output:<br>`\n",
    "commit 1cada8f59b43254f621d1984a9ffa0f4b1107a3b\n",
    "Author: Jim Anderson <jima@example.com>\n",
    "Date:   Sat Mar 3 13:23:07 2018 -0700\n",
    "    created .gitignore\n",
    "commit 946b99bfe1641102d39f95616ceaab5c3dc960f9\n",
    "Author: Jim Anderson <jima@example.com>\n",
    "Date:   Sat Mar 3 13:22:27 2018 -0700\n",
    "    added myname module\n",
    "commit 25b09b9ccfe9110aed2d09444f1b50fa2b4c979c\n",
    "Author: Jim Anderson <jima@example.com>\n",
    "Date:   Sat Mar 3 13:10:12 2018 -0700\n",
    "    creating hello.py\n",
    "            `"
   ]
  },
  {
   "cell_type": "markdown",
   "metadata": {},
   "source": [
    "As you can see in the listing above, all of the commit messages are shown for our repo in order. The start of each commit is marked with the word “commit” followed by the SHA of that commit. `git log` gives you the history of each of the SHAs."
   ]
  },
  {
   "cell_type": "markdown",
   "metadata": {},
   "source": [
    "# Going Back In Time: Checking Out a Particular Version of Your Code"
   ]
  },
  {
   "cell_type": "markdown",
   "metadata": {},
   "source": [
    "Because Git remembers each commit you’ve made with it’s SHA, you can tell Git to go to any of those commits and view the repo as it existed then. The diagram below shows what Git thinks is in our repo:"
   ]
  },
  {
   "cell_type": "markdown",
   "metadata": {},
   "source": [
    "> **_Git status before checking out a specific SHA_**<br><img width=\"500\" src=\"data:image/png;base64, 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\" />"
   ]
  },
  {
   "cell_type": "markdown",
   "metadata": {},
   "source": [
    "Don’t worry about what `master` and `HEAD` mean in the diagram. We’ll explain those in just a bit."
   ]
  },
  {
   "cell_type": "markdown",
   "metadata": {},
   "source": [
    "To change where we are in our history, we will use the `git checkout` command to tell Git which SHA we want to look at. Let’s try that:"
   ]
  },
  {
   "cell_type": "markdown",
   "metadata": {},
   "source": [
    "`$ git checkout 946b99bfe1641102d39f95616ceaab5c3dc960f9`"
   ]
  },
  {
   "cell_type": "markdown",
   "metadata": {},
   "source": [
    "Output:<br>`\n",
    "Note: checking out '946b99bfe1641102d39f95616ceaab5c3dc960f9'.\n",
    "You are in 'detached HEAD' state. You can look around, make experimental\n",
    "changes and commit them, and you can discard any commits you make in this\n",
    "state without impacting any branches by performing another checkout.\n",
    "If you want to create a new branch to retain commits you create, you may\n",
    "do so (now or later) by using -b with the checkout command again. Example:\n",
    "  git checkout -b <new-branch-name>\n",
    "HEAD is now at 946b99b... added myname module\n",
    "                 `"
   ]
  },
  {
   "cell_type": "markdown",
   "metadata": {},
   "source": [
    "OK, so there’s a LOT of information here that’s confusing. Let’s start by defining some of those terms. Let’s start with `HEAD`."
   ]
  },
  {
   "cell_type": "markdown",
   "metadata": {},
   "source": [
    "`HEAD` is Git’s name for whatever SHA you happen to be looking at at any time. It does NOT mean what is on your filesystem or what is in your staging area. It means what Git thinks you have checked out. So, if you’ve edited a file, the version on your filesystem is different than the version in `HEAD` (and yes, `HEAD` is in ALL CAPS)."
   ]
  },
  {
   "cell_type": "markdown",
   "metadata": {},
   "source": [
    "Next, we have `branch`. The easiest way to think about a branch is that it is a label on a SHA. It has a few other properties that are useful, but for now, think of a branch as a SHA label."
   ]
  },
  {
   "cell_type": "markdown",
   "metadata": {},
   "source": [
    "> **_Note_**<br>Note: Those of you who have worked with other version control systems (I’m looking at you, Subversion) will have a very different idea of what a branch is. Git treats branches differently, and that is a good thing."
   ]
  },
  {
   "cell_type": "markdown",
   "metadata": {},
   "source": [
    "When we put all this information together, we see that _detached_ `HEAD` simply means that your `HEAD` is pointing to a SHA that does not have a branch (or label) associated with it. Git very nicely tells you how to fix that situation. There will be times when you will want to fix it, and there will be times when you can work in that detached `HEAD` state just fine."
   ]
  },
  {
   "cell_type": "markdown",
   "metadata": {},
   "source": [
    "Let’s get back to our demo. If you look at the state of the system now, you can see that the `.gitignore` file is no longer present. We _went back_ to the state of the system before we made those changes. Below is the diagram of our repo at this state. Note how the `HEAD` and `master` pointers are pointing at different SHAs:"
   ]
  },
  {
   "cell_type": "markdown",
   "metadata": {},
   "source": [
    "> **_Git status after checking out a specific SHA_**<br><img width=\"500\" src=\"data:image/png;base64, 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\" />"
   ]
  },
  {
   "cell_type": "markdown",
   "metadata": {},
   "source": [
    "Alright. Now, how do we get back to where we were? There are two ways, one of which you should know already: `git checkout 1cada8f`. This will take you back to the SHA you were at when you started moving around."
   ]
  },
  {
   "cell_type": "markdown",
   "metadata": {},
   "source": [
    "> **_Note_**<br>Note: One odd thing, at least in my version of Git, is that it still gives you a _detached_ `HEAD` warning, even though you’re back to the SHA associated with a branch."
   ]
  },
  {
   "cell_type": "markdown",
   "metadata": {},
   "source": [
    "The other way of getting back is more common: check out the branch you were on. Git always starts you off with a branch called `master`. We’ll learn how to make other branches later but for now we’ll stick with `master`."
   ]
  },
  {
   "cell_type": "markdown",
   "metadata": {},
   "source": [
    "To get back to where you where, you can simply do `git checkout master`. This will return you to the latest SHA committed to the `master` branch, which in our case has the commit message “created `.gitignore`”. To put it another way, `git checkout master` tells Git to make `HEAD` point to the SHA marked by the label, or branch, `master`."
   ]
  },
  {
   "cell_type": "markdown",
   "metadata": {},
   "source": [
    "Note that there are several methods for specifying a specific commit. The SHA is probably the easiest to understand. The other methods use different symbols and names to specify how to get to a specific commit from a known place, like `HEAD`. I won’t be going into those details in this tutorial, but if you’d like more details you can find them [here](https://git-scm.com/book/en/v2/Git-Tools-Revision-Selection)."
   ]
  },
  {
   "cell_type": "markdown",
   "metadata": {},
   "source": [
    "# Branching Basics"
   ]
  },
  {
   "cell_type": "markdown",
   "metadata": {},
   "source": [
    "Let’s talk a little more about branches. Branches provide a way for you to keep separate streams of development apart. While this can be useful when you’re working alone, it’s almost essential when you’re working on team."
   ]
  },
  {
   "cell_type": "markdown",
   "metadata": {},
   "source": [
    "Imagine that I’m working in a small team and have a feature to add to the project. While I’m working on it, I don’t want to add my changes to `master` as it still doesn’t work correctly and might mess up my team members."
   ]
  },
  {
   "cell_type": "markdown",
   "metadata": {},
   "source": [
    "I could just wait to commit the changes until I’m completely finished, but that’s not very safe and not always practical. So, instead of working on `master`, I’ll create a new branch:"
   ]
  },
  {
   "cell_type": "markdown",
   "metadata": {},
   "source": [
    "`$ git checkout -b my_new_feature`"
   ]
  },
  {
   "cell_type": "markdown",
   "metadata": {},
   "source": [
    "Output:<br>`Switched to a new branch 'my_new_feature'`"
   ]
  },
  {
   "cell_type": "markdown",
   "metadata": {},
   "source": [
    "`$ git status`"
   ]
  },
  {
   "cell_type": "markdown",
   "metadata": {},
   "source": [
    "Output:<br>`\n",
    "On branch my_new_feature\n",
    "nothing to commit, working directory clean\n",
    "                `"
   ]
  },
  {
   "cell_type": "markdown",
   "metadata": {},
   "source": [
    "We used the `-b` option on the checkout command to tell Git we wanted it to create a new branch. As you can see above, running `git status` in our branch shows us that the branch name has, indeed, changed. Let’s look at the log:"
   ]
  },
  {
   "cell_type": "markdown",
   "metadata": {},
   "source": [
    "`$ git log`"
   ]
  },
  {
   "cell_type": "markdown",
   "metadata": {},
   "source": [
    "Output:<br>`\n",
    "commit 1cada8f59b43254f621d1984a9ffa0f4b1107a3b\n",
    "Author: Jim Anderson <jima@example.com>\n",
    "Date:   Thu Mar 8 20:57:42 2018 -0700\n",
    "    created .gitignore\n",
    "commit 946b99bfe1641102d39f95616ceaab5c3dc960f9\n",
    "Author: Jim Anderson <jima@example.com>\n",
    "Date:   Thu Mar 8 20:56:50 2018 -0700\n",
    "    added myname module\n",
    "commit 25b09b9ccfe9110aed2d09444f1b50fa2b4c979c\n",
    "Author: Jim Anderson <jima@example.com>\n",
    "Date:   Thu Mar 8 20:53:59 2018 -0700\n",
    "    creating hello.py\n",
    "            `"
   ]
  },
  {
   "cell_type": "markdown",
   "metadata": {},
   "source": [
    "As I hope you expected, the log looks exactly the same. When you create a new branch, the new branch will start at the location you were at. In this case, we were at the top of `master`, `1cada8f59b43254f621d1984a9ffa0f4b1107a3b`, so that’s where the new branch starts."
   ]
  },
  {
   "cell_type": "markdown",
   "metadata": {},
   "source": [
    "Now, let’s work on that feature. Make a change to the `hello.py` file and commit it. I’ll show you the commands for review, but I’ll stop showing you the output of the commands for things you’ve already seen:"
   ]
  },
  {
   "cell_type": "markdown",
   "metadata": {},
   "source": [
    "`$ git add hello.py\n",
    "$ git commit -m \"added code for feature x\"`"
   ]
  },
  {
   "cell_type": "markdown",
   "metadata": {},
   "source": [
    "Now if you do `git log`, you’ll see that our new commit is present. In my case, it has a SHA `4a4f4492ded256aa7b29bf5176a17f9eda66efbb`, but your repo is very likely to have a different SHA:"
   ]
  },
  {
   "cell_type": "markdown",
   "metadata": {},
   "source": [
    "`$ git log`"
   ]
  },
  {
   "cell_type": "markdown",
   "metadata": {},
   "source": [
    "Output:<br>`\n",
    "commit 4a4f4492ded256aa7b29bf5176a17f9eda66efbb\n",
    "Author: Jim Anderson <jima@example.com>\n",
    "Date:   Thu Mar 8 21:03:09 2018 -0700\n",
    "    added code for feature x\n",
    "commit 1cada8f59b43254f621d1984a9ffa0f4b1107a3b\n",
    "... the rest of the output truncated ...\n",
    "            `"
   ]
  },
  {
   "cell_type": "markdown",
   "metadata": {},
   "source": [
    "Now switch back to the `master` branch and look at the log:"
   ]
  },
  {
   "cell_type": "markdown",
   "metadata": {},
   "source": [
    "`git checkout master\n",
    "git log`"
   ]
  },
  {
   "cell_type": "markdown",
   "metadata": {},
   "source": [
    "Is the new commit “added code for feature x” there?"
   ]
  },
  {
   "cell_type": "markdown",
   "metadata": {},
   "source": [
    "Git has a built-in way to compare the state of two branches so you don’t have to work so hard. It’s the `show-branch` command. Here’s what it looks like:"
   ]
  },
  {
   "cell_type": "markdown",
   "metadata": {},
   "source": [
    "`$ git show-branch my_new_feature master`"
   ]
  },
  {
   "cell_type": "markdown",
   "metadata": {},
   "source": [
    "Output:<br>`\n",
    "\\* [my_new_feature] added code for feature x\n",
    " ! [master] created .gitignore\n",
    "\\-\\-\n",
    "\\*  [my_new_feature] added code for feature x\n",
    "\\*\\+ [master] created .gitignore\n",
    "            `"
   ]
  },
  {
   "cell_type": "markdown",
   "metadata": {},
   "source": [
    "The chart it generates is a little confusing at first, so let’s walk though it in detail. First off, you call the command by giving it the name of two branches. In our case that was `my_new_feature` and `master`."
   ]
  },
  {
   "cell_type": "markdown",
   "metadata": {},
   "source": [
    "The first two lines of the output are the key to decoding the rest of the text. The first non-space character on each line is either * or ! followed by the name of the branch, and then the commit message for the most recent commit on that branch. The ! character is used to indicate that the branch is currently `HEAD` while the * is used for all other branches. The character is in the column matching commits in the table below."
   ]
  },
  {
   "cell_type": "markdown",
   "metadata": {},
   "source": [
    "The third line is a separator."
   ]
  },
  {
   "cell_type": "markdown",
   "metadata": {},
   "source": [
    "Starting on the fourth line, there are commits that are in one branch but not the other. In our current case, this is pretty easy. There’s one commit in `my_new_feature` that’s not in `master`. You can see that on the fourth line. Notice how that line starts with a * in the first column. This is to indicate which branch this commit is in."
   ]
  },
  {
   "cell_type": "markdown",
   "metadata": {},
   "source": [
    "Finally, the last line of the output shows the first common commit for the two branches."
   ]
  },
  {
   "cell_type": "markdown",
   "metadata": {},
   "source": [
    "This example is pretty easy. To make a better example, I’ve made it more interesting by adding a few more commits to `my_new_feature` and a few to `master`. That makes the output look like:"
   ]
  },
  {
   "cell_type": "markdown",
   "metadata": {},
   "source": [
    "`$ git show-branch my_new_feature master`"
   ]
  },
  {
   "cell_type": "markdown",
   "metadata": {},
   "source": [
    "Output:<br>`\n",
    "\\* [my_new_feature] commit 4\n",
    " ! [master] commit 3\n",
    "\\-\\-\n",
    "\\*  [my_new_feature] commit 4\n",
    "\\*  [my_new_feature^] commit 1\n",
    "\\*  [my_new_feature~2] added code for feature x\n",
    " \\+ [master] commit 3\n",
    " \\+ [master^] commit 2\n",
    "\\*\\+ [my_new_feature~3] created .gitignore\n",
    "            `"
   ]
  },
  {
   "cell_type": "markdown",
   "metadata": {},
   "source": [
    "Now you can see that there are different commits in each branch. Note that the `[my_new_feature~2]` text is one of the commit selection methods I mentioned earlier. If you’d rather see the SHAs, you can have it show them by adding the `-sha1-name` option to the command:"
   ]
  },
  {
   "cell_type": "markdown",
   "metadata": {},
   "source": [
    "`$ git show-branch --sha1-name my_new_feature master`"
   ]
  },
  {
   "cell_type": "markdown",
   "metadata": {},
   "source": [
    "Output:<br>`\n",
    "\\* [my_new_feature] commit 4\n",
    " ! [master] commit 3\n",
    "\\-\\-\n",
    "\\*  [6b6a607] commit 4\n",
    "\\*  [12795d2] commit 1\n",
    "\\*  [4a4f449] added code for feature x\n",
    " \\+ [de7195a] commit 3\n",
    " \\+ [580e206] commit 2\n",
    "\\*\\+ [1cada8f] created .gitignore\n",
    "            `"
   ]
  },
  {
   "cell_type": "markdown",
   "metadata": {},
   "source": [
    "Now you’ve got a branch with a bunch of different commits on it. What do you do when you finally finish that feature and are ready to get it to the rest of your team?"
   ]
  },
  {
   "cell_type": "markdown",
   "metadata": {},
   "source": [
    "There are three main ways to get commits from one branch to another: merging, rebasing, and cherry-picking. We’ll cover each of these in turn in the next sections."
   ]
  },
  {
   "cell_type": "markdown",
   "metadata": {},
   "source": [
    "# Merging"
   ]
  },
  {
   "cell_type": "markdown",
   "metadata": {},
   "source": [
    "Merging is the simplest of the three to understand and use. When you do a merge, Git will create a new commit that combines the top SHAs of two branches if it needs to. If all of the commits in the other branch are _ahead_ (based on) the top of the current branch, it will just do a _fast-foward merge_ and place those new commits on this branch."
   ]
  },
  {
   "cell_type": "markdown",
   "metadata": {},
   "source": [
    "Let’s back up to the point where our show-branch output looked like this:"
   ]
  },
  {
   "cell_type": "markdown",
   "metadata": {},
   "source": [
    "`$ git show-branch --sha1-name my_new_feature master`"
   ]
  },
  {
   "cell_type": "markdown",
   "metadata": {},
   "source": [
    "Output:<br>`\n",
    "\\* [my_new_feature] added code for feature x\n",
    " ! [master] created .gitignore\n",
    "\\-\\-\n",
    "\\*  [4a4f449] added code for feature x\n",
    "\\*\\+ [1cada8f] created .gitignore\n",
    "                    `"
   ]
  },
  {
   "cell_type": "markdown",
   "metadata": {},
   "source": [
    "Now, we want to get that commit `4a4f449` to be on `master`. Check out `master` and run the `git merge` command there:"
   ]
  },
  {
   "cell_type": "markdown",
   "metadata": {},
   "source": [
    "`$ git checkout master`"
   ]
  },
  {
   "cell_type": "markdown",
   "metadata": {},
   "source": [
    "Output:<br>`Switched to branch 'master'`"
   ]
  },
  {
   "cell_type": "markdown",
   "metadata": {},
   "source": [
    "`$ git merge my_new_feature`"
   ]
  },
  {
   "cell_type": "markdown",
   "metadata": {},
   "source": [
    "Output:<br>`\n",
    "Updating 1cada8f..4a4f449\n",
    "Fast-forward\n",
    " hello.py | 1 +\n",
    " 1 file changed, 1 insertion(+)\n",
    "                `"
   ]
  },
  {
   "cell_type": "markdown",
   "metadata": {},
   "source": [
    "Since we were on branch `master`, we did a merge of the `my_new_feature` branch to us. You can see that this is a fast forward merge and which files were changed. Let’s look at the log now:"
   ]
  },
  {
   "cell_type": "markdown",
   "metadata": {},
   "source": [
    "`git log`"
   ]
  },
  {
   "cell_type": "markdown",
   "metadata": {},
   "source": [
    "Output:<br>`\n",
    "commit 4a4f4492ded256aa7b29bf5176a17f9eda66efbb\n",
    "Author: Jim Anderson <jima@example.com>\n",
    "Date:   Thu Mar 8 21:03:09 2018 -0700\n",
    "    added code for feature x\n",
    "commit 1cada8f59b43254f621d1984a9ffa0f4b1107a3b\n",
    "Author: Jim Anderson <jima@example.com>\n",
    "Date:   Thu Mar 8 20:57:42 2018 -0700\n",
    "    created .gitignore\n",
    "[rest of log truncated]\n",
    "                `"
   ]
  },
  {
   "cell_type": "markdown",
   "metadata": {},
   "source": [
    "If we had made changes to `master` before we merged, Git would have created a new commit that was the combination of the changes from the two branches."
   ]
  },
  {
   "cell_type": "markdown",
   "metadata": {},
   "source": [
    "One of the things Git is fairly good at is understanding the common ancestors of different branches and automatically merging changes together. If the same section of code has been modified in both branches, Git can’t figure out what to do. When this happens, it stops the merge part way through and gives you instructions for how to fix the issue. This is called a _merge conflict_."
   ]
  },
  {
   "cell_type": "markdown",
   "metadata": {},
   "source": [
    "# Rebasing"
   ]
  },
  {
   "cell_type": "markdown",
   "metadata": {},
   "source": [
    "Rebasing is similar to merging but behaves a little differently. In a merge, if both branches have changes, then a new _merge commit_ is created. In rebasing, Git will take the commits from one branch and replay them, one at a time, on the top of the other branch."
   ]
  },
  {
   "cell_type": "markdown",
   "metadata": {},
   "source": [
    "I won’t do a detailed demo of rebasing here because setting up a demo to show this is a bit tricky in text and because there is an excellent web page that covers the topic well and that I’ll reference at the end of this section."
   ]
  },
  {
   "cell_type": "markdown",
   "metadata": {},
   "source": [
    "# Cherry-Picking"
   ]
  },
  {
   "cell_type": "markdown",
   "metadata": {},
   "source": [
    "Cherry picking is another method for moving commits from one branch to another. Unlike merging and rebasing, with cherry-picking you specify exactly which commits you mean. The easiest way to do this is just specifying a single SHA:"
   ]
  },
  {
   "cell_type": "markdown",
   "metadata": {},
   "source": [
    "`$ git cherry-pick 4a4f4492ded256aa7b29bf5176a17f9eda66efbb`"
   ]
  },
  {
   "cell_type": "markdown",
   "metadata": {},
   "source": [
    "This tells Git to take the changes that went into `4a4f449` and apply them to the current branch."
   ]
  },
  {
   "cell_type": "markdown",
   "metadata": {},
   "source": [
    "This feature can be very handy when you want a specific change but not the entire branch that change was made on."
   ]
  },
  {
   "cell_type": "markdown",
   "metadata": {},
   "source": [
    "> **_Quick Tip About Branching:_**<br>I can’t leave this topic without recommending an excellent resource for learning about Git branches. [Learn Git Branching](https://learngitbranching.js.org/) has a set of exercises using graphical representations of commits and branches to clearly explain the difference between merging, rebasing, and cherry-picking. I **highly** recommend spending some time working through these exercises."
   ]
  },
  {
   "cell_type": "markdown",
   "metadata": {},
   "source": [
    "# Working with Remote Repos"
   ]
  },
  {
   "cell_type": "markdown",
   "metadata": {},
   "source": [
    "All of the commands we’ve discussed up to this point work with only your local repo. They don’t do any communication to a server or over the network. It turns out that there _are_ only four major Git commands which actually talk to remote repos:"
   ]
  },
  {
   "cell_type": "markdown",
   "metadata": {},
   "source": [
    "- `clone`\n",
    "- `fetch`\n",
    "- `pull`\n",
    "- `push`"
   ]
  },
  {
   "cell_type": "markdown",
   "metadata": {},
   "source": [
    "That’s it. Everything else is done on your local machine. (OK, to be completely accurate, there are other commands that talk to remotes, but they don’t fall into the basic category.)"
   ]
  },
  {
   "cell_type": "markdown",
   "metadata": {},
   "source": [
    "Let’s look at each of these commands in turn."
   ]
  },
  {
   "cell_type": "markdown",
   "metadata": {},
   "source": [
    "# Clone"
   ]
  },
  {
   "cell_type": "markdown",
   "metadata": {},
   "source": [
    "Git `clone` is the command you use when you have the address of a known repository and you want to make a local copy. For this example, let’s use a small repo I have on my GitHub account, github-playground."
   ]
  },
  {
   "cell_type": "markdown",
   "metadata": {},
   "source": [
    "The GitHub page for that repo lives [here](https://github.com/jima80525/github-playground). On that page you will find a “Clone or Download” button which gives you the URI to use with the `git clone` command. If you copy that, you can then `clone` the repo with:"
   ]
  },
  {
   "cell_type": "markdown",
   "metadata": {},
   "source": [
    "`git clone git@github.com:jima80525/github-playground.git`"
   ]
  },
  {
   "cell_type": "markdown",
   "metadata": {},
   "source": [
    "Now you have a complete repository of that project on your local machine. This includes all of the commits and all of the branches ever made on it. (**Note**: This repo was used by some friends while they were learning Git. I copied or _forked_ it from someone else.)"
   ]
  },
  {
   "cell_type": "markdown",
   "metadata": {},
   "source": [
    "If you want to play with the other remote commands, you should create a new repo on GitHub and follow the same steps. You are welcome to fork the `github-playground` repo to your account and use that. Forking on GitHub is done by clicking the “fork” button in the UI."
   ]
  },
  {
   "cell_type": "markdown",
   "metadata": {},
   "source": [
    "# Fetch"
   ]
  },
  {
   "cell_type": "markdown",
   "metadata": {},
   "source": [
    "To explain the `fetch` command clearly, we need to take a step back and talk about how Git manages the relationship between your local repo and a remote repo. This next part is background, and while it’s not something you’ll use on a day-to-day basis, it will make the difference between `fetch` and `pull` make more sense."
   ]
  },
  {
   "cell_type": "markdown",
   "metadata": {},
   "source": [
    "When you `clone` a new repo, Git doesn’t just copy down a single version of the files in that project. It copies the entire repository and uses that to create a new repository on your local machine."
   ]
  },
  {
   "cell_type": "markdown",
   "metadata": {},
   "source": [
    "Git does not make local branches for you except for `master`. However, it does keep track of the branches that were on the server. To do that, Git creates a set of branches that all start with `remotes/origin/<branch_name>`."
   ]
  },
  {
   "cell_type": "markdown",
   "metadata": {},
   "source": [
    "Only rarely (almost never), will you check out these `remotes/origin` branches, but it’s handy to know that they are there. Remember that every branch that existed on the remote when you cloned the repo will have a branch in `remotes/origin`."
   ]
  },
  {
   "cell_type": "markdown",
   "metadata": {},
   "source": [
    "When you create a new branch and the name matches an existing branch on the server, Git will mark you local branch as a _tracking branch_ that is associated with a remote branch. We’ll see how that is useful when we get to `pull`."
   ]
  },
  {
   "cell_type": "markdown",
   "metadata": {},
   "source": [
    "Now that you know about the `remotes/origin` branches, understanding `git fetch` will be pretty easy. All `fetch` does is update all of the `remotes/origin` branches. It will modify only the branches stored in `remotes/origin` and not any of your local branches."
   ]
  },
  {
   "cell_type": "markdown",
   "metadata": {},
   "source": [
    "# Pull"
   ]
  },
  {
   "cell_type": "markdown",
   "metadata": {},
   "source": [
    "Git `pull` is simply the combination of two other commands. First, it does a `git fetch` to update the `remotes/origin` branches. Then, if the branch you are on is tracking a remote branch, then it does a `git merge` of the corresponding `remote/origin` branch to your branch."
   ]
  },
  {
   "cell_type": "markdown",
   "metadata": {},
   "source": [
    "For example, say you were on the `my_new_feature` branch, and your coworker had just added some code to it on the server. If you do a `git pull`, Git will update ALL of the `remotes/origin` branches and then do a `git merge remotes/origin/my_new_feature`, which will get the new commit onto the branch you’re on!"
   ]
  },
  {
   "cell_type": "markdown",
   "metadata": {},
   "source": [
    "There are, of course, some limitations here. Git won’t let you even try to do a `git pull` if you have modified files on your local system. That can create too much of a mess."
   ]
  },
  {
   "cell_type": "markdown",
   "metadata": {},
   "source": [
    "If you have commits on your local branch, and the remote also has new commits (ie “the branches have diverged”), then the `git merge` portion of the `pull` will create a merge commit, just as we discussed above."
   ]
  },
  {
   "cell_type": "markdown",
   "metadata": {},
   "source": [
    "Those of you who have been reading closely will see that you can also have Git do a rebase instead of a merge by doing `git pull -r`."
   ]
  },
  {
   "cell_type": "markdown",
   "metadata": {},
   "source": [
    "# Push"
   ]
  },
  {
   "cell_type": "markdown",
   "metadata": {},
   "source": [
    "As you have probably guessed, `git push` is just the opposite of `git pull`. Well, almost the opposite. Push sends the info about the branch you are pushing and asks the remote if it would like to update its version of that branch to match yours."
   ]
  },
  {
   "cell_type": "markdown",
   "metadata": {},
   "source": [
    "Generally, this amounts to you pushing your new changes up to the server. There are a lot of details and complexity here involving exactly what a fast-forward commit is."
   ]
  },
  {
   "cell_type": "markdown",
   "metadata": {},
   "source": [
    "There is a fantastic write-up [here](https://stackoverflow.com/a/26005964/6843734). The gist of it is that `git push` makes your new commits available on the remote server."
   ]
  },
  {
   "cell_type": "markdown",
   "metadata": {},
   "source": [
    "# Putting It All Together: Simple Git Workflow"
   ]
  },
  {
   "cell_type": "markdown",
   "metadata": {},
   "source": [
    "At this point, we’ve reviewed several basic Git commands and how you might use them. I’ll wrap up with a quick description of a possible workflow in Git. This workflow assumes you are working on your local repo and have a remote repo to which you will `push` changes. It can be GitHub, but it will work the same with other remote repos. It assumes you’ve already cloned the repo."
   ]
  },
  {
   "cell_type": "markdown",
   "metadata": {},
   "source": [
    "1. `git status` – Make sure your current area is clean.\n",
    "2. `git pull` – Get the latest version from the remote. This saves merging issues later.\n",
    "3. Edit your files and make your changes. Remember to run your linter and do [unit_tests](https://realpython.com/python-testing/)!\n",
    "4. `git status` – Find all files that are changed. Make sure to watch untracked files too!\n",
    "5. `git add [files]` – Add the changed files to the staging area.\n",
    "6. `git commit -m \"message\"` – Make your new commit.\n",
    "7. `git push origin [branch-name]` – Push your changes up to the remote."
   ]
  },
  {
   "cell_type": "markdown",
   "metadata": {},
   "source": [
    "This is one of the more basic flows through the system. There are many, many ways to use Git, and you’ve just scratched the surface with this tutorial. If you use Vim or Sublime as your editor, you might want to checkout these tutorials, which will show you how to get plugins to integrate Git into your editor:"
   ]
  },
  {
   "cell_type": "markdown",
   "metadata": {},
   "source": [
    "- [VIM_and_Python_–_A_Match_Made_in_Heaven](https://realpython.com/vim-and-python-a-match-made-in-heaven/)\n",
    "- [Setting_Up_Sublime_Text_3_for_Full_Stack_Python_Development](https://realpython.com/setting-up-sublime-text-3-for-full-stack-python-development/)\n",
    "- [Emacs_–_The_Best_Python_Editor?](https://realpython.com/emacs-the-best-python-editor/)"
   ]
  },
  {
   "cell_type": "markdown",
   "metadata": {},
   "source": [
    "If you’d like to take a deeper dive into Git, I can recommend these books:"
   ]
  },
  {
   "cell_type": "markdown",
   "metadata": {},
   "source": [
    "- The free, online [Pro Git](https://git-scm.com/book/en/v2) is a very handy reference.\n",
    "- For those of you who like to read on paper, there’s a print version of [Pro Git](https://realpython.com/asins/1484200772/) and I found O’Reilly’s [Version Control with Git](https://realpython.com/asins/1449316387/) to be useful."
   ]
  }
 ],
 "metadata": {},
 "nbformat": 4,
 "nbformat_minor": 2
}
