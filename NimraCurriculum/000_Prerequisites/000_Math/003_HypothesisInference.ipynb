{
 "cells": [
  {
   "cell_type": "markdown",
   "metadata": {},
   "source": [
    "# Hypothesis and Inference\n",
    "\n",
    "What will we do with all this statistics and probability theory? The _science_ part of data science frequently involves forming and testing _hypotheses_ about our data and the processes that generate it.\n",
    "\n",
    "# Statistical Hypothesis Testing\n",
    "\n",
    "Often, as data scientists, we’ll want to test whether a certain hypothesis is likely to be true. For our purposes, hypotheses are assertions like “this coin is fair” or “data scientists prefer Python to R” or “people are more likely to navigate away from the page without ever reading the content if we pop up an irritating interstitial advertisement with a tiny, hard-to-find close button” that can be translated into statistics about data. Under various assumptions, those statistics can be thought of as observations of random variables from known distributions, which allows us to make statements about how likely those assumptions are to hold.\n",
    "\n",
    "In the classical setup, we have a _null hypothesis_ $H_0$ that represents some default position, and some alternative hypothesis $H_1$ that we’d like to compare it with. We use statistics to decide whether we can reject $H_0$ as false or not. This will probably make more sense with an example.\n",
    "\n",
    "# Example: Flipping a Coin\n",
    "\n",
    "Imagine we have a coin and we want to test whether it’s fair. We’ll make the assumption that the coin has some probability $p$ of landing heads, and so our null hypothesis is that the coin is fair - that is, that $p = 0.5$. We’ll test this against the alternative hypothesis $p \\neq 0.5$.\n",
    "\n",
    "In particular, our test will involve flipping the coin some number $n$ times and counting the number of heads $X$. Each coin flip is a Bernoulli trial, which means that $X$ is a Binomial(n,p) random variable, which (as we saw in Chapter 6) we can approximate using the normal distribution:"
   ]
  },
  {
   "cell_type": "code",
   "execution_count": null,
   "metadata": {},
   "outputs": [],
   "source": [
    "def normal_approximation_to_binomial(n, p):\n",
    "    \"\"\"finds mu and sigma corresponding to a Binomial(n, p)\"\"\"\n",
    "    mu = p * n\n",
    "    sigma = math.sqrt(p * (1 - p) * n)\n",
    "    return mu, sigma"
   ]
  },
  {
   "cell_type": "markdown",
   "metadata": {},
   "source": [
    "Whenever a random variable follows a normal distribution, we can use `normal_cdf` to figure out the probability that its realized value lies within (or outside) a particular interval:"
   ]
  },
  {
   "cell_type": "code",
   "execution_count": null,
   "metadata": {},
   "outputs": [],
   "source": [
    "# the normal cdf _is_ the probability the variable is below a threshold\n",
    "normal_probability_below = normal_cdf\n",
    "# it's above the threshold if it's not below the threshold\n",
    "def normal_probability_above(lo, mu=0, sigma=1):\n",
    "    return 1 - normal_cdf(lo, mu, sigma)\n",
    "# it's between if it's less than hi, but not less than lo\n",
    "def normal_probability_between(lo, hi, mu=0, sigma=1):\n",
    "    return normal_cdf(hi, mu, sigma) - normal_cdf(lo, mu, sigma)\n",
    "# it's outside if it's not between\n",
    "def normal_probability_outside(lo, hi, mu=0, sigma=1):\n",
    "    return 1 - normal_probability_between(lo, hi, mu, sigma)"
   ]
  },
  {
   "cell_type": "markdown",
   "metadata": {},
   "source": [
    "We can also do the reverse - find either the nontail region or the (symmetric) interval around the mean that accounts for a certain level of likelihood. For example, if we want to find an interval centered at the mean and containing 60% probability, then we find the cutoffs where the upper and lower tails each contain 20% of the probability (leaving 60%):"
   ]
  },
  {
   "cell_type": "code",
   "execution_count": null,
   "metadata": {},
   "outputs": [],
   "source": [
    "def normal_upper_bound(probability, mu=0, sigma=1):\n",
    "    \"\"\"returns the z for which P(Z <= z) = probability\"\"\"\n",
    "    return inverse_normal_cdf(probability, mu, sigma)\n",
    "def normal_lower_bound(probability, mu=0, sigma=1):\n",
    "    \"\"\"returns the z for which P(Z >= z) = probability\"\"\"\n",
    "    return inverse_normal_cdf(1 - probability, mu, sigma)\n",
    "def normal_two_sided_bounds(probability, mu=0, sigma=1):\n",
    "    \"\"\"returns the symmetric (about the mean) bounds\n",
    "    that contain the specified probability\"\"\"\n",
    "    tail_probability = (1 - probability) / 2\n",
    "    # upper bound should have tail_probability above it\n",
    "    upper_bound = normal_lower_bound(tail_probability, mu, sigma)\n",
    "    # lower bound should have tail_probability below it\n",
    "    lower_bound = normal_upper_bound(tail_probability, mu, sigma)\n",
    "    return lower_bound, upper_bound"
   ]
  },
  {
   "cell_type": "markdown",
   "metadata": {},
   "source": [
    "In particular, let’s say that we choose to flip the coin $n$ = 1000 times. If our hypothesis of fairness is true, $X$ should be distributed approximately normally with mean 50 and standard deviation 15.8:"
   ]
  },
  {
   "cell_type": "code",
   "execution_count": null,
   "metadata": {},
   "outputs": [],
   "source": [
    "mu_0, sigma_0 = normal_approximation_to_binomial(1000, 0.5)"
   ]
  },
  {
   "cell_type": "markdown",
   "metadata": {},
   "source": [
    "We need to make a decision about _significance_ - how willing we are to make a _type 1 error_ (“false positive”), in which we reject $H_0$ even though it’s true. For reasons lost to the annals of history, this willingness is often set at 5% or 1%. Let’s choose 5%.\n",
    "\n",
    "Consider the test that rejects $H_0$ if $X$ falls outside the bounds given by:"
   ]
  },
  {
   "cell_type": "code",
   "execution_count": null,
   "metadata": {},
   "outputs": [],
   "source": [
    "normal_two_sided_bounds(0.95, mu_0, sigma_0)       # (469, 531)"
   ]
  },
  {
   "cell_type": "markdown",
   "metadata": {},
   "source": [
    "Assuming $p$ really equals 0.5 (i.e., $H_0$ is true), there is just a 5% chance we observe an $X$ that lies outside this interval, which is the exact significance we wanted. Said differently, if $H_0$ is true, then, approximately 19 times out of 20, this test will give the correct result.\n",
    "\n",
    "We are also often interested in the _power_ of a test, which is the probability of not making a _type 2 error_, in which we fail to reject $H_0$ even though it’s false. In order to measure this, we have to specify what exactly $H_0$ being false _means_. (Knowing merely that $p$ is _not_ 0.5 doesn’t give you a ton of information about the distribution of $X$.) In particular, let’s check what happens if $p$ is really 0.55, so that the coin is slightly biased toward heads.\n",
    "\n",
    "In that case, we can calculate the power of the test with:"
   ]
  },
  {
   "cell_type": "code",
   "execution_count": null,
   "metadata": {},
   "outputs": [],
   "source": [
    "# 95% bounds based on assumption p is 0.5\n",
    "lo, hi = normal_two_sided_bounds(0.95, mu_0, sigma_0)\n",
    "# actual mu and sigma based on p = 0.55\n",
    "mu_1, sigma_1 = normal_approximation_to_binomial(1000, 0.55)\n",
    "# a type 2 error means we fail to reject the null hypothesis\n",
    "# which will happen when X is still in our original interval\n",
    "type_2_probability = normal_probability_between(lo, hi, mu_1, sigma_1)\n",
    "power = 1 - type_2_probability      # 0.887"
   ]
  },
  {
   "cell_type": "markdown",
   "metadata": {},
   "source": [
    "Imagine instead that our null hypothesis was that the coin is not biased toward heads, or that $p \\leq 0.5$. In that case we want a _one-sided test_ that rejects the null hypothesis when $X$ is much larger than 50 but not when $X$ is smaller than 50. So a 5%-significance test involves using `normal_probability_below` to find the cutoff below which 95% of the probability lies:"
   ]
  },
  {
   "cell_type": "code",
   "execution_count": null,
   "metadata": {},
   "outputs": [],
   "source": [
    "hi = normal_upper_bound(0.95, mu_0, sigma_0)\n",
    "# is 526 (< 531, since we need more probability in the upper tail)\n",
    "type_2_probability = normal_probability_below(hi, mu_1, sigma_1)\n",
    "power = 1 - type_2_probability      # 0.936"
   ]
  },
  {
   "cell_type": "markdown",
   "metadata": {},
   "source": [
    "This is a more powerful test, since it no longer rejects $H_0$ when $X$ is below 469 (which is very unlikely to happen if $H_1$ is true) and instead rejects $H_0$ when $X$ is between 526 and 531 (which is somewhat likely to happen if $H_1$ is true) === p-values.\n",
    "\n",
    "An alternative way of thinking about the preceding test involves _p-values_. Instead of choosing bounds based on some probability cutoff, we compute the probability - assuming $H_0$ is true - that we would see a value at least as extreme as the one we actually observed.\n",
    "\n",
    "For our two-sided test of whether the coin is fair, we compute:"
   ]
  },
  {
   "cell_type": "code",
   "execution_count": null,
   "metadata": {},
   "outputs": [],
   "source": [
    "def two_sided_p_value(x, mu=0, sigma=1):\n",
    "    if x >= mu:\n",
    "        # if x is greater than the mean, the tail is what's greater than x\n",
    "        return 2 * normal_probability_above(x, mu, sigma)\n",
    "    else:\n",
    "        # if x is less than the mean, the tail is what's less than x\n",
    "        return 2 * normal_probability_below(x, mu, sigma)"
   ]
  },
  {
   "cell_type": "markdown",
   "metadata": {},
   "source": [
    "If we were to see 530 heads, we would compute:"
   ]
  },
  {
   "cell_type": "code",
   "execution_count": null,
   "metadata": {},
   "outputs": [],
   "source": [
    "two_sided_p_value(529.5, mu_0, sigma_0)               # 0.062"
   ]
  },
  {
   "cell_type": "markdown",
   "metadata": {},
   "source": [
    "> **_Note_**<br>\n",
    "Why did we use 529.5 instead of 530? This is what’s called a _continuity correction_. It reflects the fact that `normal_probability_between(529.5, 530.5, mu_0, sigma_0)` is a better estimate of the probability of seeing 530 heads than `normal_probability_between(530, 531, mu_0, sigma_0)` is.\n",
    "Correspondingly, `normal_probability_above(529.5, mu_0, sigma_0)` is a better estimate of the probability of seeing at least 530 heads. You may have noticed that we also used this in the code that produced Figure 6-4.\n",
    "\n",
    "One way to convince yourself that this is a sensible estimate is with a simulation:"
   ]
  },
  {
   "cell_type": "code",
   "execution_count": null,
   "metadata": {},
   "outputs": [],
   "source": [
    "extreme_value_count = 0\n",
    "for _ in range(100000):\n",
    "    num_heads = sum(1 if random.random() < 0.5 else 0             # count # of heads\n",
    "                    for _ in range(1000))                         # in 1000 flips\n",
    "    if num_heads >= 530 or num_heads <= 470:                      # and count how often\n",
    "        extreme_value_count += 1                                # the # is 'extreme'\n",
    "print extreme_value_count / 100000       # 0.062"
   ]
  },
  {
   "cell_type": "markdown",
   "metadata": {},
   "source": [
    "Since the $p$-value is greater than our 5% significance, we don’t reject the null. If we instead saw 532 heads, the $p$-value would be:"
   ]
  },
  {
   "cell_type": "code",
   "execution_count": null,
   "metadata": {},
   "outputs": [],
   "source": [
    "two_sided_p_value(531.5, mu_0, sigma_0)        # 0.0463"
   ]
  },
  {
   "cell_type": "markdown",
   "metadata": {},
   "source": [
    "which is smaller than the 5% significance, which means we would reject the null. It’s the exact same test as before. It’s just a different way of approaching the statistics. Similarly, we would have:"
   ]
  },
  {
   "cell_type": "code",
   "execution_count": null,
   "metadata": {},
   "outputs": [],
   "source": [
    "upper_p_value = normal_probability_above\n",
    "lower_p_value = normal_probability_below"
   ]
  },
  {
   "cell_type": "markdown",
   "metadata": {},
   "source": [
    "For our one-sided test, if we saw 525 heads we would compute:"
   ]
  },
  {
   "cell_type": "code",
   "execution_count": null,
   "metadata": {},
   "outputs": [],
   "source": [
    "upper_p_value(524.5, mu_0, sigma_0) # 0.061"
   ]
  },
  {
   "cell_type": "markdown",
   "metadata": {},
   "source": [
    "which means we wouldn’t reject the null. If we saw 527 heads, the computation would be:"
   ]
  },
  {
   "cell_type": "code",
   "execution_count": null,
   "metadata": {},
   "outputs": [],
   "source": [
    "upper_p_value(526.5, mu_0, sigma_0) # 0.047"
   ]
  },
  {
   "cell_type": "markdown",
   "metadata": {},
   "source": [
    "and we would reject the null.\n",
    "\n",
    "> **_Note_**<br>\n",
    "Make sure your data is roughly normally distributed before using `normal_probability_above` to compute $p$-values. The annals of bad data science are filled with examples of people opining that the chance of some observed event occurring at random is one in a million, when what they really mean is “the chance, assuming the data is distributed normally,” which is pretty meaningless if the data isn’t.\n",
    "There are various statistical tests for normality, but even plotting the data is a good start.\n",
    "\n",
    "# Confidence Intervals\n",
    "\n",
    "We’ve been testing hypotheses about the value of the heads probability $p$, which is a _parameter_ of the unknown “heads” distribution. When this is the case, a third approach is to construct a _confidence interval_ around the observed value of the parameter.\n",
    "\n",
    "For example, we can estimate the probability of the unfair coin by looking at the average value of the Bernoulli variables corresponding to each flip - 1 if heads, 0 if tails. If we observe 525 heads out of 1,000 flips, then we estimate $p$ equals 0.525.\n",
    "\n",
    "How _confident_ can we be about this estimate? Well, if we knew the exact value of $p$, the central limit theorem (recall “The Central Limit Theorem” on page 78) tells us that the average of those Bernoulli variables should be approximately normal, with mean $p$ and standard deviation:"
   ]
  },
  {
   "cell_type": "code",
   "execution_count": null,
   "metadata": {},
   "outputs": [],
   "source": [
    "math.sqrt(p * (1 - p) / 1000)"
   ]
  },
  {
   "cell_type": "markdown",
   "metadata": {},
   "source": [
    "Here we don’t know $p$, so instead we use our estimate:"
   ]
  },
  {
   "cell_type": "code",
   "execution_count": null,
   "metadata": {},
   "outputs": [],
   "source": [
    "p_hat = 525 / 1000\n",
    "mu = p_hat\n",
    "sigma = math.sqrt(p_hat * (1 - p_hat) / 1000)              # 0.0158"
   ]
  },
  {
   "cell_type": "markdown",
   "metadata": {},
   "source": [
    "This is not entirely justified, but people seem to do it anyway. Using the normal approximation, we conclude that we are “95% confident” that the following interval contains the true parameter $p$:"
   ]
  },
  {
   "cell_type": "code",
   "execution_count": null,
   "metadata": {},
   "outputs": [],
   "source": [
    "normal_two_sided_bounds(0.95, mu, sigma)                   # [0.4940, 0.5560]"
   ]
  },
  {
   "cell_type": "markdown",
   "metadata": {},
   "source": [
    "> **_Note_**<br>This is a statement about the _interval_, not about $p$. You should understand it as the assertion that if you were to repeat the experiment many times, 95% of the time the “true” parameter (which is the same every time) would lie within the observed confidence interval (which might be different every time).\n",
    "\n",
    "In particular, we do not conclude that the coin is unfair, since 0.5 falls within our confidence interval.\n",
    "\n",
    "If instead we’d seen 540 heads, then we’d have:"
   ]
  },
  {
   "cell_type": "code",
   "execution_count": null,
   "metadata": {},
   "outputs": [],
   "source": [
    "p_hat = 540 / 1000\n",
    "mu = p_hat\n",
    "sigma = math.sqrt(p_hat * (1 - p_hat) / 1000) # 0.0158\n",
    "normal_two_sided_bounds(0.95, mu, sigma) # [0.5091, 0.5709]"
   ]
  },
  {
   "cell_type": "markdown",
   "metadata": {},
   "source": [
    "Here, “fair coin” doesn’t lie in the confidence interval. (The “fair coin” hypothesis doesn’t pass a test that you’d expect it to pass 95% of the time if it were true.)\n",
    "\n",
    "# P-hacking\n",
    "\n",
    "A procedure that erroneously rejects the null hypothesis only 5% of the time will - by definition - 5% of the time erroneously reject the null hypothesis:"
   ]
  },
  {
   "cell_type": "code",
   "execution_count": null,
   "metadata": {},
   "outputs": [],
   "source": [
    "def run_experiment():\n",
    "    \"\"\"flip a fair coin 1000 times, True = heads, False = tails\"\"\"\n",
    "    return [random.random() < 0.5 for _ in range(1000)]\n",
    "def reject_fairness(experiment):\n",
    "    \"\"\"using the 5% significance levels\"\"\"\n",
    "    num_heads = len([flip for flip in experiment if flip])\n",
    "    return num_heads < 469 or num_heads > 531\n",
    "random.seed(0)\n",
    "experiments = [run_experiment() for _ in range(1000)]\n",
    "num_rejections = len([experiment\n",
    "                      for experiment in experiments\n",
    "                      if reject_fairness(experiment)])\n",
    "print num_rejections    # 46"
   ]
  },
  {
   "cell_type": "markdown",
   "metadata": {},
   "source": [
    "What this means is that if you’re setting out to find “significant” results, you usually can. Test enough hypotheses against your data set, and one of them will almost certainly appear significant. Remove the right outliers, and you can probably get your $p$ value below 0.05. (We did something vaguely similar in “Correlation” on page 62; did you notice?)\n",
    "\n",
    "This is sometimes called P-hacking and is in some ways a consequence of the “inference from $p$-values framework.” A good article criticizing this approach is “The Earth Is Round.”\n",
    "\n",
    "If you want to do good _science_, you should determine your hypotheses before looking at the data, you should clean your data without the hypotheses in mind, and you should keep in mind that $p$-values are not substitutes for common sense. (An alternative approach is “Bayesian Inference” on page 88.)\n",
    "\n",
    "# Example: Running an A/B Test\n",
    "\n",
    "One of your primary responsibilities at DataSciencester is experience optimization, which is a euphemism for trying to get people to click on advertisements. One of your advertisers has developed a new energy drink targeted at data scientists, and the VP of Advertisements wants your help choosing between advertisement A (“tastes great!”) and advertisement B (“less bias!”).\n",
    "\n",
    "Being a _scientist_, you decide to run an _experiment_ by randomly showing site visitors one of the two advertisements and tracking how many people click on each one.\n",
    "\n",
    "If 990 out of 1,000 A-viewers click their ad while only 10 out of 1,000 B-viewers click their ad, you can be pretty confident that A is the better ad. But what if the differences are not so stark? Here’s where you’d use statistical inference.\n",
    "\n",
    "Let’s say that $N_A$ people see ad A, and that $n_A$ of them click it. We can think of each ad view as a Bernoulli trial where $p_A$ is the probability that someone clicks ad A. Then (if $N_A$ is large, which it is here) we know that $n_A / N_A$ is approximately a normal random variable with mean $p_A$ and standard deviation $\\sigma_A = \\sqrt{p_A (1 - p_A) / N_A}$.\n",
    "\n",
    "Similarly, $n_B / N_B$ is approximately a normal random variable with mean $p_B$ and standard deviation $\\sigma_B = \\sqrt{p_B ( 1 - p_B) / N_B}$:"
   ]
  },
  {
   "cell_type": "code",
   "execution_count": null,
   "metadata": {},
   "outputs": [],
   "source": [
    "def estimated_parameters(N, n):\n",
    "    p = n / N\n",
    "    sigma = math.sqrt(p * (1 - p) / N)\n",
    "    return p, sigma"
   ]
  },
  {
   "cell_type": "markdown",
   "metadata": {},
   "source": [
    "If we assume those two normals are independent (which seems reasonable, since the individual Bernoulli trials ought to be), then their difference should also be normal with mean $p_B - p_A$ and standard deviation $\\sqrt{ \\sigma_A^2 + \\sigma_B^2 }$.\n",
    "\n",
    "> **_Note_**<br>This is sort of cheating. The math only works out exactly like this if you _know_ the standard deviations. Here we’re estimating them from the data, which means that we really should be using a $t$-distribution. But for large enough data sets, it’s close enough that it doesn’t make much of a difference.\n",
    "\n",
    "This means we can test the _null hypothesis_ that $p_A$ and $p_B$ are the same (that is, that $p_A - p_B$ is zero), using the statistic:"
   ]
  },
  {
   "cell_type": "code",
   "execution_count": null,
   "metadata": {},
   "outputs": [],
   "source": [
    "def a_b_test_statistic(N_A, n_A, N_B, n_B):\n",
    "    p_A, sigma_A = estimated_parameters(N_A, n_A)\n",
    "    p_B, sigma_B = estimated_parameters(N_B, n_B)\n",
    "    return (p_B - p_A) / math.sqrt(sigma_A ** 2 + sigma_B ** 2)"
   ]
  },
  {
   "cell_type": "markdown",
   "metadata": {},
   "source": [
    "which should approximately be a standard normal.\n",
    "\n",
    "For example, if “tastes great” gets 200 clicks out of 1,000 views and “less bias” gets 180 clicks out of 1,000 views, the statistic equals:"
   ]
  },
  {
   "cell_type": "code",
   "execution_count": null,
   "metadata": {},
   "outputs": [],
   "source": [
    "z = a_b_test_statistic(1000, 200, 1000, 180)               # -1.14"
   ]
  },
  {
   "cell_type": "markdown",
   "metadata": {},
   "source": [
    "The probability of seeing such a large difference if the means were actually equal would be:"
   ]
  },
  {
   "cell_type": "code",
   "execution_count": null,
   "metadata": {},
   "outputs": [],
   "source": [
    "two_sided_p_value(z)                                       # 0.254"
   ]
  },
  {
   "cell_type": "markdown",
   "metadata": {},
   "source": [
    "which is large enough that you can’t conclude there’s much of a difference. On the other hand, if “less bias” only got 150 clicks, we’d have:"
   ]
  },
  {
   "cell_type": "code",
   "execution_count": null,
   "metadata": {},
   "outputs": [],
   "source": [
    "z = a_b_test_statistic(1000, 200, 1000, 150)               # -2.94\n",
    "two_sided_p_value(z)                                       # 0.003"
   ]
  },
  {
   "cell_type": "markdown",
   "metadata": {},
   "source": [
    "which means there’s only a 0.003 probability you’d see such a large difference if the ads were equally effective.\n",
    "\n",
    "# Bayesian Inference\n",
    "\n",
    "The procedures we’ve looked at have involved making probability statements about our _tests_: “there’s only a 3% chance you’d observe such an extreme statistic if our null hypothesis were true.”\n",
    "\n",
    "An alternative approach to inference involves treating the unknown parameters themselves as random variables. The analyst (that’s you) starts with a _prior distribution_ for the parameters and then uses the observed data and Bayes’s Theorem to get an updated _posterior distribution_ for the parameters. Rather than making probability judgments about the tests, you make probability judgments about the parameters themselves.\n",
    "\n",
    "For example, when the unknown parameter is a probability (as in our coin-flipping example), we often use a prior from the _Beta distribution_, which puts all its probability between 0 and 1:"
   ]
  },
  {
   "cell_type": "code",
   "execution_count": null,
   "metadata": {},
   "outputs": [],
   "source": [
    "def B(alpha, beta):\n",
    "    \"\"\"a normalizing constant so that the total probability is 1\"\"\"\n",
    "    return math.gamma(alpha) * math.gamma(beta) / math.gamma(alpha + beta)\n",
    "def beta_pdf(x, alpha, beta):\n",
    "    if x < 0 or x > 1:          # no weight outside of [0, 1]\n",
    "        return 0\n",
    "    return x ** (alpha - 1) * (1 - x) ** (beta - 1) / B(alpha, beta)"
   ]
  },
  {
   "cell_type": "markdown",
   "metadata": {},
   "source": [
    "Generally speaking, this distribution centers its weight at:"
   ]
  },
  {
   "cell_type": "code",
   "execution_count": null,
   "metadata": {},
   "outputs": [],
   "source": [
    "alpha / (alpha + beta)"
   ]
  },
  {
   "cell_type": "markdown",
   "metadata": {},
   "source": [
    "and the larger `alpha` and `beta` are, the “tighter” the distribution is.\n",
    "\n",
    "For example, if `alpha` and `beta` are both 1, it’s just the uniform distribution (centered at 0.5, very dispersed). If `alpha` is much larger than `beta`, most of the weight is near 1. And if `alpha` is much smaller than `beta`, most of the weight is near zero. Figure 7-1 shows several different Beta distributions.\n",
    "\n",
    "So let’s say we assume a prior distribution on $p$. Maybe we don’t want to take a stand on whether the coin is fair, and we choose `alpha` and `beta` to both equal 1. Or maybe we have a strong belief that it lands heads 55% of the time, and we choose `alpha` equals 55, `beta` equals 45.\n",
    "\n",
    "Then we flip our coin a bunch of times and see $h$ heads and $t$ tails. Bayes’s Theorem (and some mathematics that’s too tedious for us to go through here) tells us that the posterior distribution for $p$ is again a Beta distribution but with parameters `alpha + h` and `beta + t`.\n",
    "\n",
    "> **_Note_**<br>It is no coincidence that the posterior distribution was again a Beta distribution. The number of heads is given by a Binomial distribution, and the Beta is the _conjugate prior_ to the Binomial distribution. This means that whenever you update a Beta prior using observations from the corresponding binomial, you will get back a Beta posterior."
   ]
  },
  {
   "cell_type": "markdown",
   "metadata": {},
   "source": [
    "> **Figure 7-1: _Example Beta distributions_**<br><img width=\"300\" src=\"data:image/png;base64, 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\" />"
   ]
  },
  {
   "cell_type": "markdown",
   "metadata": {},
   "source": [
    "Let’s say you flip the coin 10 times and see only 3 heads.\n",
    "\n",
    "If you started with the uniform prior (in some sense refusing to take a stand about the coin’s fairness), your posterior distribution would be a Beta(4, 8), centered around 0.33. Since you considered all probabilities equally likely, your best guess is something pretty close to the observed probability.\n",
    "\n",
    "If you started with a Beta(20, 20) (expressing the belief that the coin was roughly fair), your posterior distribution would be a Beta(23, 27), centered around 0.46, indicating a revised belief that maybe the coin is slightly biased toward tails.\n",
    "\n",
    "And if you started with a Beta(30, 10) (expressing a belief that the coin was biased to flip 75% heads), your posterior distribution would be a Beta(33, 17), centered around 0.66. In that case you’d still believe in a heads bias, but less strongly than you did initially. These three different posteriors are plotted in Figure 7-2."
   ]
  },
  {
   "cell_type": "markdown",
   "metadata": {},
   "source": [
    "> **Figure 7-2: _Posteriors arising from different priors_**<br><img width=\"300\" src=\"data:image/png;base64, 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\" />"
   ]
  },
  {
   "cell_type": "markdown",
   "metadata": {},
   "source": [
    "If you flipped the coin more and more times, the prior would matter less and less until eventually you’d have (nearly) the same posterior distribution no matter which prior you started with.\n",
    "\n",
    "For example, no matter how biased you initially thought the coin was, it would be hard to maintain that belief after seeing 1,000 heads out of 2,000 flips (unless you are a lunatic who picks something like a Beta(1000000,1) prior).\n",
    "\n",
    "What’s interesting is that this allows us to make probability statements about hypotheses: “Based on the prior and the observed data, there is only a 5% likelihood the coin’s heads probability is between 49% and 51%.” This is philosophically very different from a statement like “if the coin were fair we would expect to observe data so extreme only 5% of the time.”\n",
    "\n",
    "Using Bayesian inference to test hypotheses is considered somewhat controversial - in part because its mathematics can get somewhat complicated, and in part because of the subjective nature of choosing a prior. We won’t use it any further in this book, but it’s good to know about.\n",
    "\n",
    "# For Further Exploration\n",
    "\n",
    "- We’ve barely scratched the surface of what you should know about statistical inference. The books recommended at the end of Chapter 5 go into a lot more detail.\n",
    "- Coursera offers a Data Analysis and Statistical Inference course that covers many of these topics."
   ]
  }
 ],
 "metadata": {},
 "nbformat": 4,
 "nbformat_minor": 2
}
