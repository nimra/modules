{
 "cells": [
  {
   "cell_type": "markdown",
   "metadata": {},
   "source": [
    "# Review\n",
    "\n",
    "This chapter introduced you to recurrent neural networks (RNNs), a powerful architecture for learning on sequential data. RNNs are capable of learning the underlying evolution rule that governs a sequence of data. While RNNs can be used for modeling simple time-series, they are most powerful when modeling complex sequential data such as speech and natural language.\n",
    "\n",
    "We introduced you to a number of RNN variants such as LSTMs and GRUs, which perform better on data with complex long-range interactions, and also took a brief detour to discuss the exciting prospect of Neural Turing machines. We ended the chapter with an in-depth case study that applied LSTMs to model the Penn Treebank.\n",
    "\n",
    "In Chapter 8, we will introduce you to reinforcement learning, a powerful technique for learning to play games."
   ]
  }
 ],
 "metadata": {},
 "nbformat": 4,
 "nbformat_minor": 2
}
