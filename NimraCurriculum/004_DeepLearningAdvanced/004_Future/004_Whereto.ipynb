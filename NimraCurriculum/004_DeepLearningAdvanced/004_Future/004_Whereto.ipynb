{
 "cells": [
  {
   "cell_type": "markdown",
   "metadata": {},
   "source": [
    "# Where to Go from Here?"
   ]
  },
  {
   "cell_type": "markdown",
   "metadata": {},
   "source": [
    "If you’ve read along carefully in this book and have spent effort working with our code samples in the associated GitHub repo, congrats! You have now mastered the fundamentals of practical machine learning. You will be able to train effective machine learning systems in practice."
   ]
  },
  {
   "cell_type": "markdown",
   "metadata": {},
   "source": [
    "However, machine learning is a very rapidly evolving field. The explosive growth of the field has meant that dozens of worthwhile new models are discovered each year. Practicing machine learners should constantly remain on the lookout for new models. When looking at new models, a helpful trick for evaluating their usefulness is to try to think about how you can apply the model to problems you or your organization cares about. This test provides a good way to organize the large influx of models from the research community, and will give you a tool to prioritize your learning on the techniques that really matter to you."
   ]
  },
  {
   "cell_type": "markdown",
   "metadata": {},
   "source": [
    "As a responsible machine learner, make sure to think about what your data science models are being used for. Ask yourself whether your work on machine learning is being used to improve human welfare. If the answer is no, then realize that with your skills, you have the ability to find a job where you can use your machine learning superpowers for good, not evil."
   ]
  },
  {
   "cell_type": "markdown",
   "metadata": {},
   "source": [
    "Finally, we hope that you’ll have lots of fun. Deep learning is an incredibly vibrant area of human inquiry filled with exciting new discoveries, brilliant people, and the possibility of profound impact. It’s been our pleasure to share our excitement and passion for the field with you, and we hope you’ll pay forward our efforts by sharing your knowledge of deep learning with the world around you."
   ]
  }
 ],
 "metadata": {},
 "nbformat": 4,
 "nbformat_minor": 2
}
