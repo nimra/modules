{
 "cells": [
  {
   "cell_type": "markdown",
   "metadata": {},
   "source": [
    "# Review\n",
    "\n",
    "In this chapter, we’ve shown you how to build and train some simple learning systems in TensorFlow. We started by reviewing some foundational mathematical concepts including loss functions and gradient descent. We then introduced you to some new TensorFlow concepts such as placeholders, scopes, and TensorBoard. We ended the chapter with case studies that trained linear and logistic regression systems on toy datasets. We covered a lot of material in this chapter, and it’s OK if you haven’t yet internalized everything. The foundational material introduced here will be used throughout the remainder of this book.\n",
    "\n",
    "In Chapter 4, we will introduce you to your first deep learning model and to fully connected networks, and will show you how to define and train fully connected networks in TensorFlow. In following chapters, we will explore more complicated deep networks, but all of these architectures will use the same fundamental learning principles introduced in this chapter."
   ]
  }
 ],
 "metadata": {},
 "nbformat": 4,
 "nbformat_minor": 2
}
